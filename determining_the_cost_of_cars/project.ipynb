{
 "cells": [
  {
   "cell_type": "code",
   "execution_count": null,
   "metadata": {
    "pycharm": {
     "is_executing": true
    }
   },
   "outputs": [],
   "source": [
    "import pandas as pd\n",
    "import numpy as np\n",
    "import matplotlib.pyplot as plt\n",
    "from catboost import CatBoostClassifier\n",
    "from sklearn.model_selection import train_test_split, GridSearchCV\n",
    "from sklearn.preprocessing import StandardScaler#%%\n",
    "import pandas as pd\n",
    "import numpy as np\n",
    "import matplotlib.pyplot as plt\n",
    "from catboost import CatBoostClassifier\n",
    "from sklearn.model_selection import train_test_split, GridSearchCV\n",
    "from sklearn.preprocessing import StandardScaler\n",
    "from sklearn.linear_model import LinearRegression\n",
    "from sklearn.metrics import mean_squared_error\n",
    "from sklearn.ensemble import RandomForestRegressor\n",
    "from catboost import Pool, CatBoostRegressor\n",
    "from sklearn.preprocessing import OrdinalEncoder\n",
    "from sklearn.model_selection import cross_val_score\n",
    "from sklearn.preprocessing import OneHotEncoder\n",
    "from sklearn.pipeline import Pipeline\n",
    "from sklearn.compose import ColumnTransformer\n",
    "import lightgbm as lgb\n",
    "%matplotlib inline"
   ]
  },
  {
   "cell_type": "markdown",
   "metadata": {},
   "source": [
    "# Определение стоимости автомобилей"
   ]
  },
  {
   "cell_type": "markdown",
   "metadata": {},
   "source": [
    "Сервис по продаже автомобилей с пробегом «Не бит, не крашен» разрабатывает приложение для привлечения новых клиентов. В нём можно быстро узнать рыночную стоимость своего автомобиля. В нашем распоряжении исторические данные: технические характеристики, комплектации и цены автомобилей. Нам нужно построить модель для определения стоимости.\n",
    "\n",
    "Заказчику важны:\n",
    "\n",
    "- качество предсказания;\n",
    "- скорость предсказания;\n",
    "- время обучения."
   ]
  },
  {
   "cell_type": "markdown",
   "metadata": {},
   "source": [
    "## Подготовка данных"
   ]
  },
  {
   "cell_type": "markdown",
   "metadata": {},
   "source": [
    "Загрузим данные и сделаем первичный осмотр."
   ]
  },
  {
   "cell_type": "code",
   "execution_count": 2,
   "metadata": {},
   "outputs": [
    {
     "data": {
      "text/html": [
       "<div>\n",
       "<style scoped>\n",
       "    .dataframe tbody tr th:only-of-type {\n",
       "        vertical-align: middle;\n",
       "    }\n",
       "\n",
       "    .dataframe tbody tr th {\n",
       "        vertical-align: top;\n",
       "    }\n",
       "\n",
       "    .dataframe thead th {\n",
       "        text-align: right;\n",
       "    }\n",
       "</style>\n",
       "<table border=\"1\" class=\"dataframe\">\n",
       "  <thead>\n",
       "    <tr style=\"text-align: right;\">\n",
       "      <th></th>\n",
       "      <th>DateCrawled</th>\n",
       "      <th>Price</th>\n",
       "      <th>VehicleType</th>\n",
       "      <th>RegistrationYear</th>\n",
       "      <th>Gearbox</th>\n",
       "      <th>Power</th>\n",
       "      <th>Model</th>\n",
       "      <th>Kilometer</th>\n",
       "      <th>RegistrationMonth</th>\n",
       "      <th>FuelType</th>\n",
       "      <th>Brand</th>\n",
       "      <th>Repaired</th>\n",
       "      <th>DateCreated</th>\n",
       "      <th>NumberOfPictures</th>\n",
       "      <th>PostalCode</th>\n",
       "      <th>LastSeen</th>\n",
       "    </tr>\n",
       "  </thead>\n",
       "  <tbody>\n",
       "    <tr>\n",
       "      <th>0</th>\n",
       "      <td>2016-03-24 11:52:17</td>\n",
       "      <td>480</td>\n",
       "      <td>NaN</td>\n",
       "      <td>1993</td>\n",
       "      <td>manual</td>\n",
       "      <td>0</td>\n",
       "      <td>golf</td>\n",
       "      <td>150000</td>\n",
       "      <td>0</td>\n",
       "      <td>petrol</td>\n",
       "      <td>volkswagen</td>\n",
       "      <td>NaN</td>\n",
       "      <td>2016-03-24 00:00:00</td>\n",
       "      <td>0</td>\n",
       "      <td>70435</td>\n",
       "      <td>2016-04-07 03:16:57</td>\n",
       "    </tr>\n",
       "    <tr>\n",
       "      <th>1</th>\n",
       "      <td>2016-03-24 10:58:45</td>\n",
       "      <td>18300</td>\n",
       "      <td>coupe</td>\n",
       "      <td>2011</td>\n",
       "      <td>manual</td>\n",
       "      <td>190</td>\n",
       "      <td>NaN</td>\n",
       "      <td>125000</td>\n",
       "      <td>5</td>\n",
       "      <td>gasoline</td>\n",
       "      <td>audi</td>\n",
       "      <td>yes</td>\n",
       "      <td>2016-03-24 00:00:00</td>\n",
       "      <td>0</td>\n",
       "      <td>66954</td>\n",
       "      <td>2016-04-07 01:46:50</td>\n",
       "    </tr>\n",
       "    <tr>\n",
       "      <th>2</th>\n",
       "      <td>2016-03-14 12:52:21</td>\n",
       "      <td>9800</td>\n",
       "      <td>suv</td>\n",
       "      <td>2004</td>\n",
       "      <td>auto</td>\n",
       "      <td>163</td>\n",
       "      <td>grand</td>\n",
       "      <td>125000</td>\n",
       "      <td>8</td>\n",
       "      <td>gasoline</td>\n",
       "      <td>jeep</td>\n",
       "      <td>NaN</td>\n",
       "      <td>2016-03-14 00:00:00</td>\n",
       "      <td>0</td>\n",
       "      <td>90480</td>\n",
       "      <td>2016-04-05 12:47:46</td>\n",
       "    </tr>\n",
       "    <tr>\n",
       "      <th>3</th>\n",
       "      <td>2016-03-17 16:54:04</td>\n",
       "      <td>1500</td>\n",
       "      <td>small</td>\n",
       "      <td>2001</td>\n",
       "      <td>manual</td>\n",
       "      <td>75</td>\n",
       "      <td>golf</td>\n",
       "      <td>150000</td>\n",
       "      <td>6</td>\n",
       "      <td>petrol</td>\n",
       "      <td>volkswagen</td>\n",
       "      <td>no</td>\n",
       "      <td>2016-03-17 00:00:00</td>\n",
       "      <td>0</td>\n",
       "      <td>91074</td>\n",
       "      <td>2016-03-17 17:40:17</td>\n",
       "    </tr>\n",
       "    <tr>\n",
       "      <th>4</th>\n",
       "      <td>2016-03-31 17:25:20</td>\n",
       "      <td>3600</td>\n",
       "      <td>small</td>\n",
       "      <td>2008</td>\n",
       "      <td>manual</td>\n",
       "      <td>69</td>\n",
       "      <td>fabia</td>\n",
       "      <td>90000</td>\n",
       "      <td>7</td>\n",
       "      <td>gasoline</td>\n",
       "      <td>skoda</td>\n",
       "      <td>no</td>\n",
       "      <td>2016-03-31 00:00:00</td>\n",
       "      <td>0</td>\n",
       "      <td>60437</td>\n",
       "      <td>2016-04-06 10:17:21</td>\n",
       "    </tr>\n",
       "    <tr>\n",
       "      <th>...</th>\n",
       "      <td>...</td>\n",
       "      <td>...</td>\n",
       "      <td>...</td>\n",
       "      <td>...</td>\n",
       "      <td>...</td>\n",
       "      <td>...</td>\n",
       "      <td>...</td>\n",
       "      <td>...</td>\n",
       "      <td>...</td>\n",
       "      <td>...</td>\n",
       "      <td>...</td>\n",
       "      <td>...</td>\n",
       "      <td>...</td>\n",
       "      <td>...</td>\n",
       "      <td>...</td>\n",
       "      <td>...</td>\n",
       "    </tr>\n",
       "    <tr>\n",
       "      <th>354364</th>\n",
       "      <td>2016-03-21 09:50:58</td>\n",
       "      <td>0</td>\n",
       "      <td>NaN</td>\n",
       "      <td>2005</td>\n",
       "      <td>manual</td>\n",
       "      <td>0</td>\n",
       "      <td>colt</td>\n",
       "      <td>150000</td>\n",
       "      <td>7</td>\n",
       "      <td>petrol</td>\n",
       "      <td>mitsubishi</td>\n",
       "      <td>yes</td>\n",
       "      <td>2016-03-21 00:00:00</td>\n",
       "      <td>0</td>\n",
       "      <td>2694</td>\n",
       "      <td>2016-03-21 10:42:49</td>\n",
       "    </tr>\n",
       "    <tr>\n",
       "      <th>354365</th>\n",
       "      <td>2016-03-14 17:48:27</td>\n",
       "      <td>2200</td>\n",
       "      <td>NaN</td>\n",
       "      <td>2005</td>\n",
       "      <td>NaN</td>\n",
       "      <td>0</td>\n",
       "      <td>NaN</td>\n",
       "      <td>20000</td>\n",
       "      <td>1</td>\n",
       "      <td>NaN</td>\n",
       "      <td>sonstige_autos</td>\n",
       "      <td>NaN</td>\n",
       "      <td>2016-03-14 00:00:00</td>\n",
       "      <td>0</td>\n",
       "      <td>39576</td>\n",
       "      <td>2016-04-06 00:46:52</td>\n",
       "    </tr>\n",
       "    <tr>\n",
       "      <th>354366</th>\n",
       "      <td>2016-03-05 19:56:21</td>\n",
       "      <td>1199</td>\n",
       "      <td>convertible</td>\n",
       "      <td>2000</td>\n",
       "      <td>auto</td>\n",
       "      <td>101</td>\n",
       "      <td>fortwo</td>\n",
       "      <td>125000</td>\n",
       "      <td>3</td>\n",
       "      <td>petrol</td>\n",
       "      <td>smart</td>\n",
       "      <td>no</td>\n",
       "      <td>2016-03-05 00:00:00</td>\n",
       "      <td>0</td>\n",
       "      <td>26135</td>\n",
       "      <td>2016-03-11 18:17:12</td>\n",
       "    </tr>\n",
       "    <tr>\n",
       "      <th>354367</th>\n",
       "      <td>2016-03-19 18:57:12</td>\n",
       "      <td>9200</td>\n",
       "      <td>bus</td>\n",
       "      <td>1996</td>\n",
       "      <td>manual</td>\n",
       "      <td>102</td>\n",
       "      <td>transporter</td>\n",
       "      <td>150000</td>\n",
       "      <td>3</td>\n",
       "      <td>gasoline</td>\n",
       "      <td>volkswagen</td>\n",
       "      <td>no</td>\n",
       "      <td>2016-03-19 00:00:00</td>\n",
       "      <td>0</td>\n",
       "      <td>87439</td>\n",
       "      <td>2016-04-07 07:15:26</td>\n",
       "    </tr>\n",
       "    <tr>\n",
       "      <th>354368</th>\n",
       "      <td>2016-03-20 19:41:08</td>\n",
       "      <td>3400</td>\n",
       "      <td>wagon</td>\n",
       "      <td>2002</td>\n",
       "      <td>manual</td>\n",
       "      <td>100</td>\n",
       "      <td>golf</td>\n",
       "      <td>150000</td>\n",
       "      <td>6</td>\n",
       "      <td>gasoline</td>\n",
       "      <td>volkswagen</td>\n",
       "      <td>NaN</td>\n",
       "      <td>2016-03-20 00:00:00</td>\n",
       "      <td>0</td>\n",
       "      <td>40764</td>\n",
       "      <td>2016-03-24 12:45:21</td>\n",
       "    </tr>\n",
       "  </tbody>\n",
       "</table>\n",
       "<p>354369 rows × 16 columns</p>\n",
       "</div>"
      ],
      "text/plain": [
       "                DateCrawled  Price  VehicleType  RegistrationYear Gearbox  \\\n",
       "0       2016-03-24 11:52:17    480          NaN              1993  manual   \n",
       "1       2016-03-24 10:58:45  18300        coupe              2011  manual   \n",
       "2       2016-03-14 12:52:21   9800          suv              2004    auto   \n",
       "3       2016-03-17 16:54:04   1500        small              2001  manual   \n",
       "4       2016-03-31 17:25:20   3600        small              2008  manual   \n",
       "...                     ...    ...          ...               ...     ...   \n",
       "354364  2016-03-21 09:50:58      0          NaN              2005  manual   \n",
       "354365  2016-03-14 17:48:27   2200          NaN              2005     NaN   \n",
       "354366  2016-03-05 19:56:21   1199  convertible              2000    auto   \n",
       "354367  2016-03-19 18:57:12   9200          bus              1996  manual   \n",
       "354368  2016-03-20 19:41:08   3400        wagon              2002  manual   \n",
       "\n",
       "        Power        Model  Kilometer  RegistrationMonth  FuelType  \\\n",
       "0           0         golf     150000                  0    petrol   \n",
       "1         190          NaN     125000                  5  gasoline   \n",
       "2         163        grand     125000                  8  gasoline   \n",
       "3          75         golf     150000                  6    petrol   \n",
       "4          69        fabia      90000                  7  gasoline   \n",
       "...       ...          ...        ...                ...       ...   \n",
       "354364      0         colt     150000                  7    petrol   \n",
       "354365      0          NaN      20000                  1       NaN   \n",
       "354366    101       fortwo     125000                  3    petrol   \n",
       "354367    102  transporter     150000                  3  gasoline   \n",
       "354368    100         golf     150000                  6  gasoline   \n",
       "\n",
       "                 Brand Repaired          DateCreated  NumberOfPictures  \\\n",
       "0           volkswagen      NaN  2016-03-24 00:00:00                 0   \n",
       "1                 audi      yes  2016-03-24 00:00:00                 0   \n",
       "2                 jeep      NaN  2016-03-14 00:00:00                 0   \n",
       "3           volkswagen       no  2016-03-17 00:00:00                 0   \n",
       "4                skoda       no  2016-03-31 00:00:00                 0   \n",
       "...                ...      ...                  ...               ...   \n",
       "354364      mitsubishi      yes  2016-03-21 00:00:00                 0   \n",
       "354365  sonstige_autos      NaN  2016-03-14 00:00:00                 0   \n",
       "354366           smart       no  2016-03-05 00:00:00                 0   \n",
       "354367      volkswagen       no  2016-03-19 00:00:00                 0   \n",
       "354368      volkswagen      NaN  2016-03-20 00:00:00                 0   \n",
       "\n",
       "        PostalCode             LastSeen  \n",
       "0            70435  2016-04-07 03:16:57  \n",
       "1            66954  2016-04-07 01:46:50  \n",
       "2            90480  2016-04-05 12:47:46  \n",
       "3            91074  2016-03-17 17:40:17  \n",
       "4            60437  2016-04-06 10:17:21  \n",
       "...            ...                  ...  \n",
       "354364        2694  2016-03-21 10:42:49  \n",
       "354365       39576  2016-04-06 00:46:52  \n",
       "354366       26135  2016-03-11 18:17:12  \n",
       "354367       87439  2016-04-07 07:15:26  \n",
       "354368       40764  2016-03-24 12:45:21  \n",
       "\n",
       "[354369 rows x 16 columns]"
      ]
     },
     "execution_count": 2,
     "metadata": {},
     "output_type": "execute_result"
    }
   ],
   "source": [
    "data = pd.read_csv('/datasets/autos.csv')\n",
    "data_copy = data\n",
    "data"
   ]
  },
  {
   "cell_type": "code",
   "execution_count": 3,
   "metadata": {},
   "outputs": [
    {
     "name": "stdout",
     "output_type": "stream",
     "text": [
      "<class 'pandas.core.frame.DataFrame'>\n",
      "RangeIndex: 354369 entries, 0 to 354368\n",
      "Data columns (total 16 columns):\n",
      " #   Column             Non-Null Count   Dtype \n",
      "---  ------             --------------   ----- \n",
      " 0   DateCrawled        354369 non-null  object\n",
      " 1   Price              354369 non-null  int64 \n",
      " 2   VehicleType        316879 non-null  object\n",
      " 3   RegistrationYear   354369 non-null  int64 \n",
      " 4   Gearbox            334536 non-null  object\n",
      " 5   Power              354369 non-null  int64 \n",
      " 6   Model              334664 non-null  object\n",
      " 7   Kilometer          354369 non-null  int64 \n",
      " 8   RegistrationMonth  354369 non-null  int64 \n",
      " 9   FuelType           321474 non-null  object\n",
      " 10  Brand              354369 non-null  object\n",
      " 11  Repaired           283215 non-null  object\n",
      " 12  DateCreated        354369 non-null  object\n",
      " 13  NumberOfPictures   354369 non-null  int64 \n",
      " 14  PostalCode         354369 non-null  int64 \n",
      " 15  LastSeen           354369 non-null  object\n",
      "dtypes: int64(7), object(9)\n",
      "memory usage: 43.3+ MB\n"
     ]
    }
   ],
   "source": [
    "data.info()"
   ]
  },
  {
   "cell_type": "markdown",
   "metadata": {},
   "source": [
    "Данные не в чистом виде, присутсвуют как и ошибки приведения типов, так и пропуски в данных, будем исправлять!"
   ]
  },
  {
   "cell_type": "code",
   "execution_count": 4,
   "metadata": {},
   "outputs": [
    {
     "data": {
      "text/html": [
       "<div>\n",
       "<style scoped>\n",
       "    .dataframe tbody tr th:only-of-type {\n",
       "        vertical-align: middle;\n",
       "    }\n",
       "\n",
       "    .dataframe tbody tr th {\n",
       "        vertical-align: top;\n",
       "    }\n",
       "\n",
       "    .dataframe thead th {\n",
       "        text-align: right;\n",
       "    }\n",
       "</style>\n",
       "<table border=\"1\" class=\"dataframe\">\n",
       "  <thead>\n",
       "    <tr style=\"text-align: right;\">\n",
       "      <th></th>\n",
       "      <th>Price</th>\n",
       "      <th>RegistrationYear</th>\n",
       "      <th>Power</th>\n",
       "      <th>Kilometer</th>\n",
       "      <th>RegistrationMonth</th>\n",
       "      <th>NumberOfPictures</th>\n",
       "      <th>PostalCode</th>\n",
       "    </tr>\n",
       "  </thead>\n",
       "  <tbody>\n",
       "    <tr>\n",
       "      <th>count</th>\n",
       "      <td>354369.000000</td>\n",
       "      <td>354369.000000</td>\n",
       "      <td>354369.000000</td>\n",
       "      <td>354369.000000</td>\n",
       "      <td>354369.000000</td>\n",
       "      <td>354369.0</td>\n",
       "      <td>354369.000000</td>\n",
       "    </tr>\n",
       "    <tr>\n",
       "      <th>mean</th>\n",
       "      <td>4416.656776</td>\n",
       "      <td>2004.234448</td>\n",
       "      <td>110.094337</td>\n",
       "      <td>128211.172535</td>\n",
       "      <td>5.714645</td>\n",
       "      <td>0.0</td>\n",
       "      <td>50508.689087</td>\n",
       "    </tr>\n",
       "    <tr>\n",
       "      <th>std</th>\n",
       "      <td>4514.158514</td>\n",
       "      <td>90.227958</td>\n",
       "      <td>189.850405</td>\n",
       "      <td>37905.341530</td>\n",
       "      <td>3.726421</td>\n",
       "      <td>0.0</td>\n",
       "      <td>25783.096248</td>\n",
       "    </tr>\n",
       "    <tr>\n",
       "      <th>min</th>\n",
       "      <td>0.000000</td>\n",
       "      <td>1000.000000</td>\n",
       "      <td>0.000000</td>\n",
       "      <td>5000.000000</td>\n",
       "      <td>0.000000</td>\n",
       "      <td>0.0</td>\n",
       "      <td>1067.000000</td>\n",
       "    </tr>\n",
       "    <tr>\n",
       "      <th>25%</th>\n",
       "      <td>1050.000000</td>\n",
       "      <td>1999.000000</td>\n",
       "      <td>69.000000</td>\n",
       "      <td>125000.000000</td>\n",
       "      <td>3.000000</td>\n",
       "      <td>0.0</td>\n",
       "      <td>30165.000000</td>\n",
       "    </tr>\n",
       "    <tr>\n",
       "      <th>50%</th>\n",
       "      <td>2700.000000</td>\n",
       "      <td>2003.000000</td>\n",
       "      <td>105.000000</td>\n",
       "      <td>150000.000000</td>\n",
       "      <td>6.000000</td>\n",
       "      <td>0.0</td>\n",
       "      <td>49413.000000</td>\n",
       "    </tr>\n",
       "    <tr>\n",
       "      <th>75%</th>\n",
       "      <td>6400.000000</td>\n",
       "      <td>2008.000000</td>\n",
       "      <td>143.000000</td>\n",
       "      <td>150000.000000</td>\n",
       "      <td>9.000000</td>\n",
       "      <td>0.0</td>\n",
       "      <td>71083.000000</td>\n",
       "    </tr>\n",
       "    <tr>\n",
       "      <th>max</th>\n",
       "      <td>20000.000000</td>\n",
       "      <td>9999.000000</td>\n",
       "      <td>20000.000000</td>\n",
       "      <td>150000.000000</td>\n",
       "      <td>12.000000</td>\n",
       "      <td>0.0</td>\n",
       "      <td>99998.000000</td>\n",
       "    </tr>\n",
       "  </tbody>\n",
       "</table>\n",
       "</div>"
      ],
      "text/plain": [
       "               Price  RegistrationYear          Power      Kilometer  \\\n",
       "count  354369.000000     354369.000000  354369.000000  354369.000000   \n",
       "mean     4416.656776       2004.234448     110.094337  128211.172535   \n",
       "std      4514.158514         90.227958     189.850405   37905.341530   \n",
       "min         0.000000       1000.000000       0.000000    5000.000000   \n",
       "25%      1050.000000       1999.000000      69.000000  125000.000000   \n",
       "50%      2700.000000       2003.000000     105.000000  150000.000000   \n",
       "75%      6400.000000       2008.000000     143.000000  150000.000000   \n",
       "max     20000.000000       9999.000000   20000.000000  150000.000000   \n",
       "\n",
       "       RegistrationMonth  NumberOfPictures     PostalCode  \n",
       "count      354369.000000          354369.0  354369.000000  \n",
       "mean            5.714645               0.0   50508.689087  \n",
       "std             3.726421               0.0   25783.096248  \n",
       "min             0.000000               0.0    1067.000000  \n",
       "25%             3.000000               0.0   30165.000000  \n",
       "50%             6.000000               0.0   49413.000000  \n",
       "75%             9.000000               0.0   71083.000000  \n",
       "max            12.000000               0.0   99998.000000  "
      ]
     },
     "execution_count": 4,
     "metadata": {},
     "output_type": "execute_result"
    }
   ],
   "source": [
    "data.describe()"
   ]
  },
  {
   "cell_type": "markdown",
   "metadata": {},
   "source": [
    "Проанализируем конкретно в каких признаках у нас имеются пропуски."
   ]
  },
  {
   "cell_type": "code",
   "execution_count": 5,
   "metadata": {},
   "outputs": [
    {
     "data": {
      "text/plain": [
       "DateCrawled              0\n",
       "Price                    0\n",
       "VehicleType          37490\n",
       "RegistrationYear         0\n",
       "Gearbox              19833\n",
       "Power                    0\n",
       "Model                19705\n",
       "Kilometer                0\n",
       "RegistrationMonth        0\n",
       "FuelType             32895\n",
       "Brand                    0\n",
       "Repaired             71154\n",
       "DateCreated              0\n",
       "NumberOfPictures         0\n",
       "PostalCode               0\n",
       "LastSeen                 0\n",
       "dtype: int64"
      ]
     },
     "execution_count": 5,
     "metadata": {},
     "output_type": "execute_result"
    }
   ],
   "source": [
    "data.isna().sum()"
   ]
  },
  {
   "cell_type": "markdown",
   "metadata": {},
   "source": [
    "Первым делом исправим самую явную ошибку приведения типов - признак *Repaired*, его следует привести к типу Bool, предварительно заполним пропуски значением False, так как если поле пустой - скорее всего пользователи имели в виду, что она не чинилась, поэтому ничего и не вводили."
   ]
  },
  {
   "cell_type": "code",
   "execution_count": 6,
   "metadata": {},
   "outputs": [],
   "source": [
    "tmp_repaired = [True if i == 'yes' else False for i in data['Repaired']]"
   ]
  },
  {
   "cell_type": "code",
   "execution_count": 7,
   "metadata": {},
   "outputs": [],
   "source": [
    "data['Repaired'] = tmp_repaired"
   ]
  },
  {
   "cell_type": "markdown",
   "metadata": {},
   "source": [
    "Удалим признаки: *NumberOfPictures* - он содержит только нули и никакой информации не несёт, *DateCrawled*, *DateCreated*, *LastSeen*, *PostalCode* - признаки, никак не влияющие на цену."
   ]
  },
  {
   "cell_type": "code",
   "execution_count": 8,
   "metadata": {},
   "outputs": [],
   "source": [
    "data = data.drop([\"DateCrawled\",\"DateCreated\",\"LastSeen\",\"NumberOfPictures\",\"PostalCode\"], axis=1)"
   ]
  },
  {
   "cell_type": "markdown",
   "metadata": {},
   "source": [
    "С остальными признаками чуть тяжелее - они все категориальные. Конечно, можно попытаться восстановить их на основе других данных, например восстановить тип техники по бренду и мощности двигателя, но такую группировку лучше согласовывать с заказчиком или спросить у более опытных коллег. Поэтому пока заполним пропуски \"unknown\"."
   ]
  },
  {
   "cell_type": "code",
   "execution_count": 9,
   "metadata": {},
   "outputs": [],
   "source": [
    "data['VehicleType'] = data['VehicleType'].fillna('unknown')\n",
    "data['Gearbox'] = data['Gearbox'].fillna('unknown')\n",
    "data['Model'] = data['Model'].fillna('unknown')\n",
    "data['FuelType'] = data['FuelType'].fillna('unknown')"
   ]
  },
  {
   "cell_type": "markdown",
   "metadata": {},
   "source": [
    "Настало время разобраться с аномальными значениями."
   ]
  },
  {
   "cell_type": "code",
   "execution_count": 10,
   "metadata": {},
   "outputs": [
    {
     "data": {
      "text/plain": [
       "0         1993\n",
       "1         2011\n",
       "2         2004\n",
       "3         2001\n",
       "4         2008\n",
       "          ... \n",
       "354364    2005\n",
       "354365    2005\n",
       "354366    2000\n",
       "354367    1996\n",
       "354368    2002\n",
       "Name: RegistrationYear, Length: 354369, dtype: int64"
      ]
     },
     "execution_count": 10,
     "metadata": {},
     "output_type": "execute_result"
    }
   ],
   "source": [
    "data['RegistrationYear']"
   ]
  },
  {
   "cell_type": "code",
   "execution_count": 11,
   "metadata": {},
   "outputs": [],
   "source": [
    "data.loc[data['RegistrationMonth'] == 0, 'RegistrationMonth'] = 1\n",
    "data.loc[data['Power'] > 3000, 'Power'] = 3000\n",
    "data[\"RegistrationYear\"] = data[\"RegistrationYear\"].where(data[\"RegistrationYear\"] < pd.to_datetime(data_copy['DateCreated']).dt.year, pd.to_datetime(data_copy['DateCreated']).dt.year)\n",
    "data[\"RegistrationYear\"] = data[\"RegistrationYear\"].where(data[\"RegistrationYear\"] > 1940, 1940)"
   ]
  },
  {
   "cell_type": "code",
   "execution_count": 12,
   "metadata": {},
   "outputs": [
    {
     "data": {
      "text/plain": [
       "33638     1940\n",
       "117371    1940\n",
       "225151    1940\n",
       "26216     1940\n",
       "79120     1940\n",
       "          ... \n",
       "275220    2016\n",
       "127981    2016\n",
       "176228    2016\n",
       "71083     2016\n",
       "289428    2016\n",
       "Name: RegistrationYear, Length: 354369, dtype: int64"
      ]
     },
     "execution_count": 12,
     "metadata": {},
     "output_type": "execute_result"
    }
   ],
   "source": [
    "data['RegistrationYear'].sort_values()"
   ]
  },
  {
   "cell_type": "markdown",
   "metadata": {},
   "source": [
    "Теперь разберемся с выбросами. Построим диаграмму размаха и оценим ситуацию."
   ]
  },
  {
   "cell_type": "code",
   "execution_count": 13,
   "metadata": {},
   "outputs": [
    {
     "data": {
      "text/plain": [
       "(-50.0, 20000.0)"
      ]
     },
     "execution_count": 13,
     "metadata": {},
     "output_type": "execute_result"
    },
    {
     "data": {
      "image/png": "[encoded data removed]",
      "text/plain": [
       "<Figure size 432x288 with 1 Axes>"
      ]
     },
     "metadata": {
      "needs_background": "light"
     },
     "output_type": "display_data"
    }
   ],
   "source": [
    "data.boxplot()\n",
    "plt.ylim(-50, 20000)"
   ]
  },
  {
   "cell_type": "markdown",
   "metadata": {},
   "source": [
    "Как оказалось, выбросов очень много, нужно обрабатывать в признаках *Price* и *Power*.\n"
   ]
  },
  {
   "cell_type": "markdown",
   "metadata": {},
   "source": [
    "Обработаем выбросы."
   ]
  },
  {
   "cell_type": "code",
   "execution_count": 14,
   "metadata": {},
   "outputs": [],
   "source": [
    "count = 0\n",
    "index_del = []\n",
    "for column in [\"Price\",\"Power\"]:\n",
    "    q25=np.array(data[column].quantile(0.25))\n",
    "    q75=np.array(data[column].quantile(0.75))\n",
    "    first_part=q25-1.5*(q75-q25)\n",
    "    second_part=q75+1.5*(q75-q25)\n",
    "    for index_value, value in zip(data[column].index,data[column]):\n",
    "        if second_part <= value or value <= first_part:\n",
    "            index_del.append(index_value)\n",
    "    count += len(index_del)\n",
    "    data = data.drop(index_del, axis = 0)\n",
    "    index_del = []"
   ]
  },
  {
   "cell_type": "markdown",
   "metadata": {},
   "source": [
    "## Обучение моделей"
   ]
  },
  {
   "cell_type": "markdown",
   "metadata": {},
   "source": [
    "Разделим на фичи и таргет."
   ]
  },
  {
   "cell_type": "code",
   "execution_count": 15,
   "metadata": {},
   "outputs": [
    {
     "data": {
      "text/html": [
       "<div>\n",
       "<style scoped>\n",
       "    .dataframe tbody tr th:only-of-type {\n",
       "        vertical-align: middle;\n",
       "    }\n",
       "\n",
       "    .dataframe tbody tr th {\n",
       "        vertical-align: top;\n",
       "    }\n",
       "\n",
       "    .dataframe thead th {\n",
       "        text-align: right;\n",
       "    }\n",
       "</style>\n",
       "<table border=\"1\" class=\"dataframe\">\n",
       "  <thead>\n",
       "    <tr style=\"text-align: right;\">\n",
       "      <th></th>\n",
       "      <th>VehicleType</th>\n",
       "      <th>RegistrationYear</th>\n",
       "      <th>Gearbox</th>\n",
       "      <th>Power</th>\n",
       "      <th>Model</th>\n",
       "      <th>Kilometer</th>\n",
       "      <th>RegistrationMonth</th>\n",
       "      <th>FuelType</th>\n",
       "      <th>Brand</th>\n",
       "      <th>Repaired</th>\n",
       "    </tr>\n",
       "  </thead>\n",
       "  <tbody>\n",
       "    <tr>\n",
       "      <th>0</th>\n",
       "      <td>unknown</td>\n",
       "      <td>1993</td>\n",
       "      <td>manual</td>\n",
       "      <td>0</td>\n",
       "      <td>golf</td>\n",
       "      <td>150000</td>\n",
       "      <td>1</td>\n",
       "      <td>petrol</td>\n",
       "      <td>volkswagen</td>\n",
       "      <td>False</td>\n",
       "    </tr>\n",
       "    <tr>\n",
       "      <th>2</th>\n",
       "      <td>suv</td>\n",
       "      <td>2004</td>\n",
       "      <td>auto</td>\n",
       "      <td>163</td>\n",
       "      <td>grand</td>\n",
       "      <td>125000</td>\n",
       "      <td>8</td>\n",
       "      <td>gasoline</td>\n",
       "      <td>jeep</td>\n",
       "      <td>False</td>\n",
       "    </tr>\n",
       "    <tr>\n",
       "      <th>3</th>\n",
       "      <td>small</td>\n",
       "      <td>2001</td>\n",
       "      <td>manual</td>\n",
       "      <td>75</td>\n",
       "      <td>golf</td>\n",
       "      <td>150000</td>\n",
       "      <td>6</td>\n",
       "      <td>petrol</td>\n",
       "      <td>volkswagen</td>\n",
       "      <td>False</td>\n",
       "    </tr>\n",
       "    <tr>\n",
       "      <th>4</th>\n",
       "      <td>small</td>\n",
       "      <td>2008</td>\n",
       "      <td>manual</td>\n",
       "      <td>69</td>\n",
       "      <td>fabia</td>\n",
       "      <td>90000</td>\n",
       "      <td>7</td>\n",
       "      <td>gasoline</td>\n",
       "      <td>skoda</td>\n",
       "      <td>False</td>\n",
       "    </tr>\n",
       "    <tr>\n",
       "      <th>5</th>\n",
       "      <td>sedan</td>\n",
       "      <td>1995</td>\n",
       "      <td>manual</td>\n",
       "      <td>102</td>\n",
       "      <td>3er</td>\n",
       "      <td>150000</td>\n",
       "      <td>10</td>\n",
       "      <td>petrol</td>\n",
       "      <td>bmw</td>\n",
       "      <td>True</td>\n",
       "    </tr>\n",
       "    <tr>\n",
       "      <th>...</th>\n",
       "      <td>...</td>\n",
       "      <td>...</td>\n",
       "      <td>...</td>\n",
       "      <td>...</td>\n",
       "      <td>...</td>\n",
       "      <td>...</td>\n",
       "      <td>...</td>\n",
       "      <td>...</td>\n",
       "      <td>...</td>\n",
       "      <td>...</td>\n",
       "    </tr>\n",
       "    <tr>\n",
       "      <th>354364</th>\n",
       "      <td>unknown</td>\n",
       "      <td>2005</td>\n",
       "      <td>manual</td>\n",
       "      <td>0</td>\n",
       "      <td>colt</td>\n",
       "      <td>150000</td>\n",
       "      <td>7</td>\n",
       "      <td>petrol</td>\n",
       "      <td>mitsubishi</td>\n",
       "      <td>True</td>\n",
       "    </tr>\n",
       "    <tr>\n",
       "      <th>354365</th>\n",
       "      <td>unknown</td>\n",
       "      <td>2005</td>\n",
       "      <td>unknown</td>\n",
       "      <td>0</td>\n",
       "      <td>unknown</td>\n",
       "      <td>20000</td>\n",
       "      <td>1</td>\n",
       "      <td>unknown</td>\n",
       "      <td>sonstige_autos</td>\n",
       "      <td>False</td>\n",
       "    </tr>\n",
       "    <tr>\n",
       "      <th>354366</th>\n",
       "      <td>convertible</td>\n",
       "      <td>2000</td>\n",
       "      <td>auto</td>\n",
       "      <td>101</td>\n",
       "      <td>fortwo</td>\n",
       "      <td>125000</td>\n",
       "      <td>3</td>\n",
       "      <td>petrol</td>\n",
       "      <td>smart</td>\n",
       "      <td>False</td>\n",
       "    </tr>\n",
       "    <tr>\n",
       "      <th>354367</th>\n",
       "      <td>bus</td>\n",
       "      <td>1996</td>\n",
       "      <td>manual</td>\n",
       "      <td>102</td>\n",
       "      <td>transporter</td>\n",
       "      <td>150000</td>\n",
       "      <td>3</td>\n",
       "      <td>gasoline</td>\n",
       "      <td>volkswagen</td>\n",
       "      <td>False</td>\n",
       "    </tr>\n",
       "    <tr>\n",
       "      <th>354368</th>\n",
       "      <td>wagon</td>\n",
       "      <td>2002</td>\n",
       "      <td>manual</td>\n",
       "      <td>100</td>\n",
       "      <td>golf</td>\n",
       "      <td>150000</td>\n",
       "      <td>6</td>\n",
       "      <td>gasoline</td>\n",
       "      <td>volkswagen</td>\n",
       "      <td>False</td>\n",
       "    </tr>\n",
       "  </tbody>\n",
       "</table>\n",
       "<p>330237 rows × 10 columns</p>\n",
       "</div>"
      ],
      "text/plain": [
       "        VehicleType  RegistrationYear  Gearbox  Power        Model  Kilometer  \\\n",
       "0           unknown              1993   manual      0         golf     150000   \n",
       "2               suv              2004     auto    163        grand     125000   \n",
       "3             small              2001   manual     75         golf     150000   \n",
       "4             small              2008   manual     69        fabia      90000   \n",
       "5             sedan              1995   manual    102          3er     150000   \n",
       "...             ...               ...      ...    ...          ...        ...   \n",
       "354364      unknown              2005   manual      0         colt     150000   \n",
       "354365      unknown              2005  unknown      0      unknown      20000   \n",
       "354366  convertible              2000     auto    101       fortwo     125000   \n",
       "354367          bus              1996   manual    102  transporter     150000   \n",
       "354368        wagon              2002   manual    100         golf     150000   \n",
       "\n",
       "        RegistrationMonth  FuelType           Brand  Repaired  \n",
       "0                       1    petrol      volkswagen     False  \n",
       "2                       8  gasoline            jeep     False  \n",
       "3                       6    petrol      volkswagen     False  \n",
       "4                       7  gasoline           skoda     False  \n",
       "5                      10    petrol             bmw      True  \n",
       "...                   ...       ...             ...       ...  \n",
       "354364                  7    petrol      mitsubishi      True  \n",
       "354365                  1   unknown  sonstige_autos     False  \n",
       "354366                  3    petrol           smart     False  \n",
       "354367                  3  gasoline      volkswagen     False  \n",
       "354368                  6  gasoline      volkswagen     False  \n",
       "\n",
       "[330237 rows x 10 columns]"
      ]
     },
     "execution_count": 15,
     "metadata": {},
     "output_type": "execute_result"
    }
   ],
   "source": [
    "features_NEW = data.drop('Price', axis=1)\n",
    "target_NEW = data['Price']\n",
    "features_NEW"
   ]
  },
  {
   "cell_type": "markdown",
   "metadata": {},
   "source": [
    "Теперь поделим данные на обучающую и тестовую выборки в соотношении 3:1."
   ]
  },
  {
   "cell_type": "code",
   "execution_count": 16,
   "metadata": {},
   "outputs": [],
   "source": [
    "features_train, features_test, target_train, target_test = train_test_split(features_NEW, target_NEW, test_size=0.2, random_state=12345)"
   ]
  },
  {
   "cell_type": "code",
   "execution_count": 18,
   "metadata": {},
   "outputs": [],
   "source": [
    "cat_features = ['VehicleType', 'Model', 'FuelType', 'Gearbox', 'Repaired', 'RegistrationMonth', 'Brand']\n",
    "num_features = ['Power', 'Kilometer', 'RegistrationYear']"
   ]
  },
  {
   "cell_type": "markdown",
   "metadata": {},
   "source": [
    "Теперь приступим к обучению моделей, начнём с малого - Линейная Регрессия. Но для начала - отмасштабируем данные."
   ]
  },
  {
   "cell_type": "code",
   "execution_count": 22,
   "metadata": {},
   "outputs": [
    {
     "name": "stdout",
     "output_type": "stream",
     "text": [
      "<class 'pandas.core.frame.DataFrame'>\n",
      "Int64Index: 330237 entries, 0 to 354368\n",
      "Data columns (total 11 columns):\n",
      " #   Column             Non-Null Count   Dtype \n",
      "---  ------             --------------   ----- \n",
      " 0   Price              330237 non-null  int64 \n",
      " 1   VehicleType        330237 non-null  object\n",
      " 2   RegistrationYear   330237 non-null  int64 \n",
      " 3   Gearbox            330237 non-null  object\n",
      " 4   Power              330237 non-null  int64 \n",
      " 5   Model              330237 non-null  object\n",
      " 6   Kilometer          330237 non-null  int64 \n",
      " 7   RegistrationMonth  330237 non-null  int64 \n",
      " 8   FuelType           330237 non-null  object\n",
      " 9   Brand              330237 non-null  object\n",
      " 10  Repaired           330237 non-null  bool  \n",
      "dtypes: bool(1), int64(5), object(5)\n",
      "memory usage: 28.0+ MB\n"
     ]
    }
   ],
   "source": [
    "data.info()"
   ]
  },
  {
   "cell_type": "code",
   "execution_count": 23,
   "metadata": {},
   "outputs": [],
   "source": [
    "lin_column_transformer = ColumnTransformer([('num', StandardScaler(), num_features), ('cat', OneHotEncoder(drop='first', handle_unknown='ignore'), cat_features)])\n",
    "lin_pipe = Pipeline([('ct', lin_column_transformer), ('model', LinearRegression())])"
   ]
  },
  {
   "cell_type": "code",
   "execution_count": 24,
   "metadata": {},
   "outputs": [
    {
     "name": "stderr",
     "output_type": "stream",
     "text": [
      "[Parallel(n_jobs=-1)]: Using backend SequentialBackend with 1 concurrent workers.\n",
      "/opt/conda/lib/python3.9/site-packages/sklearn/preprocessing/_encoders.py:182: UserWarning: Found unknown categories in columns [1] during transform. These unknown categories will be encoded as all zeros\n",
      "  warnings.warn(\n"
     ]
    },
    {
     "name": "stdout",
     "output_type": "stream",
     "text": [
      "Средняя оценка качества модели: -2224.3626294882424\n",
      "CPU times: user 1min 54s, sys: 2min 23s, total: 4min 17s\n",
      "Wall time: 4min 18s\n"
     ]
    },
    {
     "name": "stderr",
     "output_type": "stream",
     "text": [
      "[Parallel(n_jobs=-1)]: Done   5 out of   5 | elapsed:  3.5min finished\n"
     ]
    }
   ],
   "source": [
    "%%time\n",
    "\n",
    "lin_pipe.fit(features_train, target_train)\n",
    "scores = cross_val_score(lin_pipe, features_train, target_train, cv=5, verbose=True, n_jobs=-1, scoring='neg_root_mean_squared_error')\n",
    "final_score = sum(scores) / len(scores)\n",
    "\n",
    "print('Средняя оценка качества модели:', final_score)"
   ]
  },
  {
   "cell_type": "code",
   "execution_count": 25,
   "metadata": {},
   "outputs": [
    {
     "name": "stdout",
     "output_type": "stream",
     "text": [
      "RMSE: 2220.3319567622875\n",
      "CPU times: user 617 ms, sys: 46.6 ms, total: 663 ms\n",
      "Wall time: 672 ms\n"
     ]
    }
   ],
   "source": [
    "%%time\n",
    "\n",
    "print('RMSE:', mean_squared_error(y_true=target_train, y_pred=lin_pipe.predict(features_train), squared=False))"
   ]
  },
  {
   "cell_type": "markdown",
   "metadata": {},
   "source": [
    "Теперь воспользуемся случайным лесом с подбором гипперпараметров."
   ]
  },
  {
   "cell_type": "markdown",
   "metadata": {},
   "source": [
    "Fitting 5 folds for each of 20 candidates, totalling 100 fits\n",
    "Лучшие параметры: {'max_depth': 40, 'n_estimators': 9}\n",
    "Лучший счет: -1812.5861995571854"
   ]
  },
  {
   "cell_type": "code",
   "execution_count": 27,
   "metadata": {},
   "outputs": [],
   "source": [
    "forest_pipe = Pipeline([('ord', OrdinalEncoder(handle_unknown='use_encoded_value', unknown_value=-1)), ('model', RandomForestRegressor(random_state=12345, n_jobs=-1))])"
   ]
  },
  {
   "cell_type": "code",
   "execution_count": 28,
   "metadata": {},
   "outputs": [
    {
     "name": "stdout",
     "output_type": "stream",
     "text": [
      "Fitting 5 folds for each of 20 candidates, totalling 100 fits\n",
      "[CV 1/5; 1/20] START model__max_depth=10, model__n_estimators=1.................\n",
      "[CV 1/5; 1/20] END model__max_depth=10, model__n_estimators=1;, score=-1761.508 total time=   0.9s\n",
      "[CV 2/5; 1/20] START model__max_depth=10, model__n_estimators=1.................\n",
      "[CV 2/5; 1/20] END model__max_depth=10, model__n_estimators=1;, score=-1747.840 total time=   0.8s\n",
      "[CV 3/5; 1/20] START model__max_depth=10, model__n_estimators=1.................\n",
      "[CV 3/5; 1/20] END model__max_depth=10, model__n_estimators=1;, score=-1758.749 total time=   0.8s\n",
      "[CV 4/5; 1/20] START model__max_depth=10, model__n_estimators=1.................\n",
      "[CV 4/5; 1/20] END model__max_depth=10, model__n_estimators=1;, score=-1764.949 total time=   0.9s\n",
      "[CV 5/5; 1/20] START model__max_depth=10, model__n_estimators=1.................\n",
      "[CV 5/5; 1/20] END model__max_depth=10, model__n_estimators=1;, score=-1767.727 total time=   0.9s\n",
      "[CV 1/5; 2/20] START model__max_depth=10, model__n_estimators=3.................\n",
      "[CV 1/5; 2/20] END model__max_depth=10, model__n_estimators=3;, score=-1687.546 total time=   1.7s\n",
      "[CV 2/5; 2/20] START model__max_depth=10, model__n_estimators=3.................\n",
      "[CV 2/5; 2/20] END model__max_depth=10, model__n_estimators=3;, score=-1681.103 total time=   1.7s\n",
      "[CV 3/5; 2/20] START model__max_depth=10, model__n_estimators=3.................\n",
      "[CV 3/5; 2/20] END model__max_depth=10, model__n_estimators=3;, score=-1687.265 total time=   1.7s\n",
      "[CV 4/5; 2/20] START model__max_depth=10, model__n_estimators=3.................\n",
      "[CV 4/5; 2/20] END model__max_depth=10, model__n_estimators=3;, score=-1689.351 total time=   1.8s\n",
      "[CV 5/5; 2/20] START model__max_depth=10, model__n_estimators=3.................\n",
      "[CV 5/5; 2/20] END model__max_depth=10, model__n_estimators=3;, score=-1694.649 total time=   1.7s\n",
      "[CV 1/5; 3/20] START model__max_depth=10, model__n_estimators=5.................\n",
      "[CV 1/5; 3/20] END model__max_depth=10, model__n_estimators=5;, score=-1671.718 total time=   2.4s\n",
      "[CV 2/5; 3/20] START model__max_depth=10, model__n_estimators=5.................\n",
      "[CV 2/5; 3/20] END model__max_depth=10, model__n_estimators=5;, score=-1669.138 total time=   2.3s\n",
      "[CV 3/5; 3/20] START model__max_depth=10, model__n_estimators=5.................\n",
      "[CV 3/5; 3/20] END model__max_depth=10, model__n_estimators=5;, score=-1676.797 total time=   2.5s\n",
      "[CV 4/5; 3/20] START model__max_depth=10, model__n_estimators=5.................\n",
      "[CV 4/5; 3/20] END model__max_depth=10, model__n_estimators=5;, score=-1673.175 total time=   2.4s\n",
      "[CV 5/5; 3/20] START model__max_depth=10, model__n_estimators=5.................\n",
      "[CV 5/5; 3/20] END model__max_depth=10, model__n_estimators=5;, score=-1682.524 total time=   2.5s\n",
      "[CV 1/5; 4/20] START model__max_depth=10, model__n_estimators=7.................\n",
      "[CV 1/5; 4/20] END model__max_depth=10, model__n_estimators=7;, score=-1664.951 total time=   3.2s\n",
      "[CV 2/5; 4/20] START model__max_depth=10, model__n_estimators=7.................\n",
      "[CV 2/5; 4/20] END model__max_depth=10, model__n_estimators=7;, score=-1662.549 total time=   3.5s\n",
      "[CV 3/5; 4/20] START model__max_depth=10, model__n_estimators=7.................\n",
      "[CV 3/5; 4/20] END model__max_depth=10, model__n_estimators=7;, score=-1667.433 total time=   3.3s\n",
      "[CV 4/5; 4/20] START model__max_depth=10, model__n_estimators=7.................\n",
      "[CV 4/5; 4/20] END model__max_depth=10, model__n_estimators=7;, score=-1669.191 total time=   3.3s\n",
      "[CV 5/5; 4/20] START model__max_depth=10, model__n_estimators=7.................\n",
      "[CV 5/5; 4/20] END model__max_depth=10, model__n_estimators=7;, score=-1674.185 total time=   3.3s\n",
      "[CV 1/5; 5/20] START model__max_depth=10, model__n_estimators=9.................\n",
      "[CV 1/5; 5/20] END model__max_depth=10, model__n_estimators=9;, score=-1660.779 total time=   4.0s\n",
      "[CV 2/5; 5/20] START model__max_depth=10, model__n_estimators=9.................\n",
      "[CV 2/5; 5/20] END model__max_depth=10, model__n_estimators=9;, score=-1660.091 total time=   3.9s\n",
      "[CV 3/5; 5/20] START model__max_depth=10, model__n_estimators=9.................\n",
      "[CV 3/5; 5/20] END model__max_depth=10, model__n_estimators=9;, score=-1664.789 total time=   4.1s\n",
      "[CV 4/5; 5/20] START model__max_depth=10, model__n_estimators=9.................\n",
      "[CV 4/5; 5/20] END model__max_depth=10, model__n_estimators=9;, score=-1667.029 total time=   3.9s\n",
      "[CV 5/5; 5/20] START model__max_depth=10, model__n_estimators=9.................\n",
      "[CV 5/5; 5/20] END model__max_depth=10, model__n_estimators=9;, score=-1670.406 total time=   3.9s\n",
      "[CV 1/5; 6/20] START model__max_depth=20, model__n_estimators=1.................\n",
      "[CV 1/5; 6/20] END model__max_depth=20, model__n_estimators=1;, score=-1913.048 total time=   1.1s\n",
      "[CV 2/5; 6/20] START model__max_depth=20, model__n_estimators=1.................\n",
      "[CV 2/5; 6/20] END model__max_depth=20, model__n_estimators=1;, score=-1911.240 total time=   1.1s\n",
      "[CV 3/5; 6/20] START model__max_depth=20, model__n_estimators=1.................\n",
      "[CV 3/5; 6/20] END model__max_depth=20, model__n_estimators=1;, score=-1913.944 total time=   1.1s\n",
      "[CV 4/5; 6/20] START model__max_depth=20, model__n_estimators=1.................\n",
      "[CV 4/5; 6/20] END model__max_depth=20, model__n_estimators=1;, score=-1906.025 total time=   1.1s\n",
      "[CV 5/5; 6/20] START model__max_depth=20, model__n_estimators=1.................\n",
      "[CV 5/5; 6/20] END model__max_depth=20, model__n_estimators=1;, score=-1897.788 total time=   1.1s\n",
      "[CV 1/5; 7/20] START model__max_depth=20, model__n_estimators=3.................\n",
      "[CV 1/5; 7/20] END model__max_depth=20, model__n_estimators=3;, score=-1628.977 total time=   2.4s\n",
      "[CV 2/5; 7/20] START model__max_depth=20, model__n_estimators=3.................\n",
      "[CV 2/5; 7/20] END model__max_depth=20, model__n_estimators=3;, score=-1615.119 total time=   2.4s\n",
      "[CV 3/5; 7/20] START model__max_depth=20, model__n_estimators=3.................\n",
      "[CV 3/5; 7/20] END model__max_depth=20, model__n_estimators=3;, score=-1612.587 total time=   2.4s\n",
      "[CV 4/5; 7/20] START model__max_depth=20, model__n_estimators=3.................\n",
      "[CV 4/5; 7/20] END model__max_depth=20, model__n_estimators=3;, score=-1607.273 total time=   2.3s\n",
      "[CV 5/5; 7/20] START model__max_depth=20, model__n_estimators=3.................\n",
      "[CV 5/5; 7/20] END model__max_depth=20, model__n_estimators=3;, score=-1609.707 total time=   2.3s\n",
      "[CV 1/5; 8/20] START model__max_depth=20, model__n_estimators=5.................\n",
      "[CV 1/5; 8/20] END model__max_depth=20, model__n_estimators=5;, score=-1555.522 total time=   3.9s\n",
      "[CV 2/5; 8/20] START model__max_depth=20, model__n_estimators=5.................\n",
      "[CV 2/5; 8/20] END model__max_depth=20, model__n_estimators=5;, score=-1554.444 total time=   3.6s\n",
      "[CV 3/5; 8/20] START model__max_depth=20, model__n_estimators=5.................\n",
      "[CV 3/5; 8/20] END model__max_depth=20, model__n_estimators=5;, score=-1549.239 total time=   3.7s\n",
      "[CV 4/5; 8/20] START model__max_depth=20, model__n_estimators=5.................\n",
      "[CV 4/5; 8/20] END model__max_depth=20, model__n_estimators=5;, score=-1535.983 total time=   3.6s\n",
      "[CV 5/5; 8/20] START model__max_depth=20, model__n_estimators=5.................\n",
      "[CV 5/5; 8/20] END model__max_depth=20, model__n_estimators=5;, score=-1543.405 total time=   3.7s\n",
      "[CV 1/5; 9/20] START model__max_depth=20, model__n_estimators=7.................\n",
      "[CV 1/5; 9/20] END model__max_depth=20, model__n_estimators=7;, score=-1527.737 total time=   5.1s\n",
      "[CV 2/5; 9/20] START model__max_depth=20, model__n_estimators=7.................\n",
      "[CV 2/5; 9/20] END model__max_depth=20, model__n_estimators=7;, score=-1525.591 total time=   4.9s\n",
      "[CV 3/5; 9/20] START model__max_depth=20, model__n_estimators=7.................\n",
      "[CV 3/5; 9/20] END model__max_depth=20, model__n_estimators=7;, score=-1515.442 total time=   5.0s\n",
      "[CV 4/5; 9/20] START model__max_depth=20, model__n_estimators=7.................\n",
      "[CV 4/5; 9/20] END model__max_depth=20, model__n_estimators=7;, score=-1513.012 total time=   4.9s\n",
      "[CV 5/5; 9/20] START model__max_depth=20, model__n_estimators=7.................\n",
      "[CV 5/5; 9/20] END model__max_depth=20, model__n_estimators=7;, score=-1517.034 total time=   5.0s\n",
      "[CV 1/5; 10/20] START model__max_depth=20, model__n_estimators=9................\n",
      "[CV 1/5; 10/20] END model__max_depth=20, model__n_estimators=9;, score=-1511.260 total time=   6.1s\n",
      "[CV 2/5; 10/20] START model__max_depth=20, model__n_estimators=9................\n",
      "[CV 2/5; 10/20] END model__max_depth=20, model__n_estimators=9;, score=-1510.406 total time=   6.4s\n",
      "[CV 3/5; 10/20] START model__max_depth=20, model__n_estimators=9................\n",
      "[CV 3/5; 10/20] END model__max_depth=20, model__n_estimators=9;, score=-1500.157 total time=   6.3s\n",
      "[CV 4/5; 10/20] START model__max_depth=20, model__n_estimators=9................\n",
      "[CV 4/5; 10/20] END model__max_depth=20, model__n_estimators=9;, score=-1499.052 total time=   6.1s\n",
      "[CV 5/5; 10/20] START model__max_depth=20, model__n_estimators=9................\n",
      "[CV 5/5; 10/20] END model__max_depth=20, model__n_estimators=9;, score=-1505.464 total time=   6.2s\n",
      "[CV 1/5; 11/20] START model__max_depth=30, model__n_estimators=1................\n",
      "[CV 1/5; 11/20] END model__max_depth=30, model__n_estimators=1;, score=-1973.583 total time=   1.2s\n",
      "[CV 2/5; 11/20] START model__max_depth=30, model__n_estimators=1................\n",
      "[CV 2/5; 11/20] END model__max_depth=30, model__n_estimators=1;, score=-1984.730 total time=   1.2s\n",
      "[CV 3/5; 11/20] START model__max_depth=30, model__n_estimators=1................\n",
      "[CV 3/5; 11/20] END model__max_depth=30, model__n_estimators=1;, score=-1978.663 total time=   1.2s\n",
      "[CV 4/5; 11/20] START model__max_depth=30, model__n_estimators=1................\n",
      "[CV 4/5; 11/20] END model__max_depth=30, model__n_estimators=1;, score=-1983.873 total time=   1.2s\n",
      "[CV 5/5; 11/20] START model__max_depth=30, model__n_estimators=1................\n",
      "[CV 5/5; 11/20] END model__max_depth=30, model__n_estimators=1;, score=-1972.400 total time=   1.3s\n",
      "[CV 1/5; 12/20] START model__max_depth=30, model__n_estimators=3................\n",
      "[CV 1/5; 12/20] END model__max_depth=30, model__n_estimators=3;, score=-1663.064 total time=   2.7s\n",
      "[CV 2/5; 12/20] START model__max_depth=30, model__n_estimators=3................\n",
      "[CV 2/5; 12/20] END model__max_depth=30, model__n_estimators=3;, score=-1650.194 total time=   2.7s\n",
      "[CV 3/5; 12/20] START model__max_depth=30, model__n_estimators=3................\n",
      "[CV 3/5; 12/20] END model__max_depth=30, model__n_estimators=3;, score=-1648.720 total time=   2.7s\n",
      "[CV 4/5; 12/20] START model__max_depth=30, model__n_estimators=3................\n",
      "[CV 4/5; 12/20] END model__max_depth=30, model__n_estimators=3;, score=-1645.444 total time=   2.9s\n",
      "[CV 5/5; 12/20] START model__max_depth=30, model__n_estimators=3................\n",
      "[CV 5/5; 12/20] END model__max_depth=30, model__n_estimators=3;, score=-1647.886 total time=   2.8s\n",
      "[CV 1/5; 13/20] START model__max_depth=30, model__n_estimators=5................\n",
      "[CV 1/5; 13/20] END model__max_depth=30, model__n_estimators=5;, score=-1582.471 total time=   4.1s\n",
      "[CV 2/5; 13/20] START model__max_depth=30, model__n_estimators=5................\n",
      "[CV 2/5; 13/20] END model__max_depth=30, model__n_estimators=5;, score=-1584.240 total time=   4.3s\n",
      "[CV 3/5; 13/20] START model__max_depth=30, model__n_estimators=5................\n",
      "[CV 3/5; 13/20] END model__max_depth=30, model__n_estimators=5;, score=-1574.636 total time=   4.2s\n",
      "[CV 4/5; 13/20] START model__max_depth=30, model__n_estimators=5................\n",
      "[CV 4/5; 13/20] END model__max_depth=30, model__n_estimators=5;, score=-1567.285 total time=   4.3s\n",
      "[CV 5/5; 13/20] START model__max_depth=30, model__n_estimators=5................\n",
      "[CV 5/5; 13/20] END model__max_depth=30, model__n_estimators=5;, score=-1570.404 total time=   4.1s\n",
      "[CV 1/5; 14/20] START model__max_depth=30, model__n_estimators=7................\n",
      "[CV 1/5; 14/20] END model__max_depth=30, model__n_estimators=7;, score=-1552.776 total time=   5.6s\n",
      "[CV 2/5; 14/20] START model__max_depth=30, model__n_estimators=7................\n",
      "[CV 2/5; 14/20] END model__max_depth=30, model__n_estimators=7;, score=-1550.765 total time=   5.7s\n",
      "[CV 3/5; 14/20] START model__max_depth=30, model__n_estimators=7................\n",
      "[CV 3/5; 14/20] END model__max_depth=30, model__n_estimators=7;, score=-1539.563 total time=   5.9s\n",
      "[CV 4/5; 14/20] START model__max_depth=30, model__n_estimators=7................\n",
      "[CV 4/5; 14/20] END model__max_depth=30, model__n_estimators=7;, score=-1539.665 total time=   5.7s\n",
      "[CV 5/5; 14/20] START model__max_depth=30, model__n_estimators=7................\n",
      "[CV 5/5; 14/20] END model__max_depth=30, model__n_estimators=7;, score=-1540.845 total time=   5.8s\n",
      "[CV 1/5; 15/20] START model__max_depth=30, model__n_estimators=9................\n",
      "[CV 1/5; 15/20] END model__max_depth=30, model__n_estimators=9;, score=-1533.300 total time=   7.4s\n",
      "[CV 2/5; 15/20] START model__max_depth=30, model__n_estimators=9................\n",
      "[CV 2/5; 15/20] END model__max_depth=30, model__n_estimators=9;, score=-1534.412 total time=   7.1s\n",
      "[CV 3/5; 15/20] START model__max_depth=30, model__n_estimators=9................\n",
      "[CV 3/5; 15/20] END model__max_depth=30, model__n_estimators=9;, score=-1523.833 total time=   7.2s\n",
      "[CV 4/5; 15/20] START model__max_depth=30, model__n_estimators=9................\n",
      "[CV 4/5; 15/20] END model__max_depth=30, model__n_estimators=9;, score=-1523.857 total time=   7.3s\n",
      "[CV 5/5; 15/20] START model__max_depth=30, model__n_estimators=9................\n",
      "[CV 5/5; 15/20] END model__max_depth=30, model__n_estimators=9;, score=-1526.808 total time=   7.2s\n",
      "[CV 1/5; 16/20] START model__max_depth=40, model__n_estimators=1................\n",
      "[CV 1/5; 16/20] END model__max_depth=40, model__n_estimators=1;, score=-1975.025 total time=   1.3s\n",
      "[CV 2/5; 16/20] START model__max_depth=40, model__n_estimators=1................\n",
      "[CV 2/5; 16/20] END model__max_depth=40, model__n_estimators=1;, score=-1975.913 total time=   1.2s\n",
      "[CV 3/5; 16/20] START model__max_depth=40, model__n_estimators=1................\n",
      "[CV 3/5; 16/20] END model__max_depth=40, model__n_estimators=1;, score=-1977.813 total time=   1.2s\n",
      "[CV 4/5; 16/20] START model__max_depth=40, model__n_estimators=1................\n",
      "[CV 4/5; 16/20] END model__max_depth=40, model__n_estimators=1;, score=-1985.889 total time=   1.2s\n",
      "[CV 5/5; 16/20] START model__max_depth=40, model__n_estimators=1................\n",
      "[CV 5/5; 16/20] END model__max_depth=40, model__n_estimators=1;, score=-1970.849 total time=   1.2s\n",
      "[CV 1/5; 17/20] START model__max_depth=40, model__n_estimators=3................\n",
      "[CV 1/5; 17/20] END model__max_depth=40, model__n_estimators=3;, score=-1661.934 total time=   2.7s\n",
      "[CV 2/5; 17/20] START model__max_depth=40, model__n_estimators=3................\n",
      "[CV 2/5; 17/20] END model__max_depth=40, model__n_estimators=3;, score=-1651.050 total time=   2.7s\n",
      "[CV 3/5; 17/20] START model__max_depth=40, model__n_estimators=3................\n",
      "[CV 3/5; 17/20] END model__max_depth=40, model__n_estimators=3;, score=-1649.690 total time=   2.7s\n",
      "[CV 4/5; 17/20] START model__max_depth=40, model__n_estimators=3................\n",
      "[CV 4/5; 17/20] END model__max_depth=40, model__n_estimators=3;, score=-1648.209 total time=   2.7s\n",
      "[CV 5/5; 17/20] START model__max_depth=40, model__n_estimators=3................\n",
      "[CV 5/5; 17/20] END model__max_depth=40, model__n_estimators=3;, score=-1645.401 total time=   2.8s\n",
      "[CV 1/5; 18/20] START model__max_depth=40, model__n_estimators=5................\n",
      "[CV 1/5; 18/20] END model__max_depth=40, model__n_estimators=5;, score=-1583.477 total time=   4.1s\n",
      "[CV 2/5; 18/20] START model__max_depth=40, model__n_estimators=5................\n",
      "[CV 2/5; 18/20] END model__max_depth=40, model__n_estimators=5;, score=-1583.427 total time=   4.1s\n",
      "[CV 3/5; 18/20] START model__max_depth=40, model__n_estimators=5................\n",
      "[CV 3/5; 18/20] END model__max_depth=40, model__n_estimators=5;, score=-1575.114 total time=   4.3s\n",
      "[CV 4/5; 18/20] START model__max_depth=40, model__n_estimators=5................\n",
      "[CV 4/5; 18/20] END model__max_depth=40, model__n_estimators=5;, score=-1568.279 total time=   4.0s\n",
      "[CV 5/5; 18/20] START model__max_depth=40, model__n_estimators=5................\n",
      "[CV 5/5; 18/20] END model__max_depth=40, model__n_estimators=5;, score=-1570.161 total time=   4.2s\n",
      "[CV 1/5; 19/20] START model__max_depth=40, model__n_estimators=7................\n",
      "[CV 1/5; 19/20] END model__max_depth=40, model__n_estimators=7;, score=-1553.226 total time=   5.6s\n",
      "[CV 2/5; 19/20] START model__max_depth=40, model__n_estimators=7................\n",
      "[CV 2/5; 19/20] END model__max_depth=40, model__n_estimators=7;, score=-1552.161 total time=   5.7s\n",
      "[CV 3/5; 19/20] START model__max_depth=40, model__n_estimators=7................\n",
      "[CV 3/5; 19/20] END model__max_depth=40, model__n_estimators=7;, score=-1540.094 total time=   5.9s\n",
      "[CV 4/5; 19/20] START model__max_depth=40, model__n_estimators=7................\n",
      "[CV 4/5; 19/20] END model__max_depth=40, model__n_estimators=7;, score=-1540.943 total time=   5.9s\n",
      "[CV 5/5; 19/20] START model__max_depth=40, model__n_estimators=7................\n",
      "[CV 5/5; 19/20] END model__max_depth=40, model__n_estimators=7;, score=-1541.125 total time=   5.7s\n",
      "[CV 1/5; 20/20] START model__max_depth=40, model__n_estimators=9................\n",
      "[CV 1/5; 20/20] END model__max_depth=40, model__n_estimators=9;, score=-1534.778 total time=   7.4s\n",
      "[CV 2/5; 20/20] START model__max_depth=40, model__n_estimators=9................\n",
      "[CV 2/5; 20/20] END model__max_depth=40, model__n_estimators=9;, score=-1535.341 total time=   7.5s\n",
      "[CV 3/5; 20/20] START model__max_depth=40, model__n_estimators=9................\n",
      "[CV 3/5; 20/20] END model__max_depth=40, model__n_estimators=9;, score=-1522.803 total time=   7.5s\n",
      "[CV 4/5; 20/20] START model__max_depth=40, model__n_estimators=9................\n",
      "[CV 4/5; 20/20] END model__max_depth=40, model__n_estimators=9;, score=-1522.642 total time=   7.2s\n",
      "[CV 5/5; 20/20] START model__max_depth=40, model__n_estimators=9................\n",
      "[CV 5/5; 20/20] END model__max_depth=40, model__n_estimators=9;, score=-1527.061 total time=   7.7s\n",
      "Лучшие параметры: {'model__max_depth': 20, 'model__n_estimators': 9}\n",
      "Лучший счет: -1505.267709464908\n"
     ]
    }
   ],
   "source": [
    "params = {'model__max_depth': range (10, 41, 10), 'model__n_estimators': range(1, 11, 2)}\n",
    "grid = GridSearchCV(forest_pipe, params, cv=5, scoring='neg_root_mean_squared_error', n_jobs=-1, verbose=10)\n",
    "grid.fit(features_train, target_train)\n",
    "print('Лучшие параметры:', grid.best_params_)\n",
    "print('Лучший счет:', grid.best_score_)"
   ]
  },
  {
   "cell_type": "code",
   "execution_count": 29,
   "metadata": {},
   "outputs": [],
   "source": [
    "forest_pipe = Pipeline([('ord', OrdinalEncoder(handle_unknown='use_encoded_value', unknown_value=-1)), ('model', RandomForestRegressor(max_depth=20, n_estimators=9, random_state=12345, n_jobs=-1))])"
   ]
  },
  {
   "cell_type": "code",
   "execution_count": 30,
   "metadata": {},
   "outputs": [
    {
     "name": "stdout",
     "output_type": "stream",
     "text": [
      "CPU times: user 7.65 s, sys: 56.2 ms, total: 7.7 s\n",
      "Wall time: 7.72 s\n"
     ]
    },
    {
     "data": {
      "text/html": [
       "<style>#sk-container-id-1 {color: black;background-color: white;}#sk-container-id-1 pre{padding: 0;}#sk-container-id-1 div.sk-toggleable {background-color: white;}#sk-container-id-1 label.sk-toggleable__label {cursor: pointer;display: block;width: 100%;margin-bottom: 0;padding: 0.3em;box-sizing: border-box;text-align: center;}#sk-container-id-1 label.sk-toggleable__label-arrow:before {content: \"▸\";float: left;margin-right: 0.25em;color: #696969;}#sk-container-id-1 label.sk-toggleable__label-arrow:hover:before {color: black;}#sk-container-id-1 div.sk-estimator:hover label.sk-toggleable__label-arrow:before {color: black;}#sk-container-id-1 div.sk-toggleable__content {max-height: 0;max-width: 0;overflow: hidden;text-align: left;background-color: #f0f8ff;}#sk-container-id-1 div.sk-toggleable__content pre {margin: 0.2em;color: black;border-radius: 0.25em;background-color: #f0f8ff;}#sk-container-id-1 input.sk-toggleable__control:checked~div.sk-toggleable__content {max-height: 200px;max-width: 100%;overflow: auto;}#sk-container-id-1 input.sk-toggleable__control:checked~label.sk-toggleable__label-arrow:before {content: \"▾\";}#sk-container-id-1 div.sk-estimator input.sk-toggleable__control:checked~label.sk-toggleable__label {background-color: #d4ebff;}#sk-container-id-1 div.sk-label input.sk-toggleable__control:checked~label.sk-toggleable__label {background-color: #d4ebff;}#sk-container-id-1 input.sk-hidden--visually {border: 0;clip: rect(1px 1px 1px 1px);clip: rect(1px, 1px, 1px, 1px);height: 1px;margin: -1px;overflow: hidden;padding: 0;position: absolute;width: 1px;}#sk-container-id-1 div.sk-estimator {font-family: monospace;background-color: #f0f8ff;border: 1px dotted black;border-radius: 0.25em;box-sizing: border-box;margin-bottom: 0.5em;}#sk-container-id-1 div.sk-estimator:hover {background-color: #d4ebff;}#sk-container-id-1 div.sk-parallel-item::after {content: \"\";width: 100%;border-bottom: 1px solid gray;flex-grow: 1;}#sk-container-id-1 div.sk-label:hover label.sk-toggleable__label {background-color: #d4ebff;}#sk-container-id-1 div.sk-serial::before {content: \"\";position: absolute;border-left: 1px solid gray;box-sizing: border-box;top: 0;bottom: 0;left: 50%;z-index: 0;}#sk-container-id-1 div.sk-serial {display: flex;flex-direction: column;align-items: center;background-color: white;padding-right: 0.2em;padding-left: 0.2em;position: relative;}#sk-container-id-1 div.sk-item {position: relative;z-index: 1;}#sk-container-id-1 div.sk-parallel {display: flex;align-items: stretch;justify-content: center;background-color: white;position: relative;}#sk-container-id-1 div.sk-item::before, #sk-container-id-1 div.sk-parallel-item::before {content: \"\";position: absolute;border-left: 1px solid gray;box-sizing: border-box;top: 0;bottom: 0;left: 50%;z-index: -1;}#sk-container-id-1 div.sk-parallel-item {display: flex;flex-direction: column;z-index: 1;position: relative;background-color: white;}#sk-container-id-1 div.sk-parallel-item:first-child::after {align-self: flex-end;width: 50%;}#sk-container-id-1 div.sk-parallel-item:last-child::after {align-self: flex-start;width: 50%;}#sk-container-id-1 div.sk-parallel-item:only-child::after {width: 0;}#sk-container-id-1 div.sk-dashed-wrapped {border: 1px dashed gray;margin: 0 0.4em 0.5em 0.4em;box-sizing: border-box;padding-bottom: 0.4em;background-color: white;}#sk-container-id-1 div.sk-label label {font-family: monospace;font-weight: bold;display: inline-block;line-height: 1.2em;}#sk-container-id-1 div.sk-label-container {text-align: center;}#sk-container-id-1 div.sk-container {/* jupyter's `normalize.less` sets `[hidden] { display: none; }` but bootstrap.min.css set `[hidden] { display: none !important; }` so we also need the `!important` here to be able to override the default hidden behavior on the sphinx rendered scikit-learn.org. See: https://github.com/scikit-learn/scikit-learn/issues/21755 */display: inline-block !important;position: relative;}#sk-container-id-1 div.sk-text-repr-fallback {display: none;}</style><div id=\"sk-container-id-1\" class=\"sk-top-container\"><div class=\"sk-text-repr-fallback\"><pre>Pipeline(steps=[(&#x27;ord&#x27;,\n",
       "                 OrdinalEncoder(handle_unknown=&#x27;use_encoded_value&#x27;,\n",
       "                                unknown_value=-1)),\n",
       "                (&#x27;model&#x27;,\n",
       "                 RandomForestRegressor(max_depth=20, n_estimators=9, n_jobs=-1,\n",
       "                                       random_state=12345))])</pre><b>In a Jupyter environment, please rerun this cell to show the HTML representation or trust the notebook. <br />On GitHub, the HTML representation is unable to render, please try loading this page with nbviewer.org.</b></div><div class=\"sk-container\" hidden><div class=\"sk-item sk-dashed-wrapped\"><div class=\"sk-label-container\"><div class=\"sk-label sk-toggleable\"><input class=\"sk-toggleable__control sk-hidden--visually\" id=\"sk-estimator-id-1\" type=\"checkbox\" ><label for=\"sk-estimator-id-1\" class=\"sk-toggleable__label sk-toggleable__label-arrow\">Pipeline</label><div class=\"sk-toggleable__content\"><pre>Pipeline(steps=[(&#x27;ord&#x27;,\n",
       "                 OrdinalEncoder(handle_unknown=&#x27;use_encoded_value&#x27;,\n",
       "                                unknown_value=-1)),\n",
       "                (&#x27;model&#x27;,\n",
       "                 RandomForestRegressor(max_depth=20, n_estimators=9, n_jobs=-1,\n",
       "                                       random_state=12345))])</pre></div></div></div><div class=\"sk-serial\"><div class=\"sk-item\"><div class=\"sk-estimator sk-toggleable\"><input class=\"sk-toggleable__control sk-hidden--visually\" id=\"sk-estimator-id-2\" type=\"checkbox\" ><label for=\"sk-estimator-id-2\" class=\"sk-toggleable__label sk-toggleable__label-arrow\">OrdinalEncoder</label><div class=\"sk-toggleable__content\"><pre>OrdinalEncoder(handle_unknown=&#x27;use_encoded_value&#x27;, unknown_value=-1)</pre></div></div></div><div class=\"sk-item\"><div class=\"sk-estimator sk-toggleable\"><input class=\"sk-toggleable__control sk-hidden--visually\" id=\"sk-estimator-id-3\" type=\"checkbox\" ><label for=\"sk-estimator-id-3\" class=\"sk-toggleable__label sk-toggleable__label-arrow\">RandomForestRegressor</label><div class=\"sk-toggleable__content\"><pre>RandomForestRegressor(max_depth=20, n_estimators=9, n_jobs=-1,\n",
       "                      random_state=12345)</pre></div></div></div></div></div></div></div>"
      ],
      "text/plain": [
       "Pipeline(steps=[('ord',\n",
       "                 OrdinalEncoder(handle_unknown='use_encoded_value',\n",
       "                                unknown_value=-1)),\n",
       "                ('model',\n",
       "                 RandomForestRegressor(max_depth=20, n_estimators=9, n_jobs=-1,\n",
       "                                       random_state=12345))])"
      ]
     },
     "execution_count": 30,
     "metadata": {},
     "output_type": "execute_result"
    }
   ],
   "source": [
    "%%time\n",
    "forest_pipe.fit(features_train, target_train)"
   ]
  },
  {
   "cell_type": "code",
   "execution_count": 31,
   "metadata": {},
   "outputs": [
    {
     "name": "stdout",
     "output_type": "stream",
     "text": [
      "CPU times: user 1.13 s, sys: 2.4 ms, total: 1.14 s\n",
      "Wall time: 1.15 s\n"
     ]
    }
   ],
   "source": [
    "%%time\n",
    "predictions_forest = forest_pipe.predict(features_train)\n"
   ]
  },
  {
   "cell_type": "code",
   "execution_count": 32,
   "metadata": {},
   "outputs": [
    {
     "name": "stdout",
     "output_type": "stream",
     "text": [
      "RMSE: 911.2009430263598\n"
     ]
    }
   ],
   "source": [
    "print('RMSE:', mean_squared_error(y_true=target_train, y_pred=predictions_forest, squared=False))"
   ]
  },
  {
   "cell_type": "markdown",
   "metadata": {},
   "source": [
    "Теперь воспользуемся *Catboost*."
   ]
  },
  {
   "cell_type": "markdown",
   "metadata": {},
   "source": [
    "\n",
    "bestTest = 1725.410008\n",
    "bestIteration = 999\n",
    "\n",
    "CPU times: user 1h 29min 6s, sys: 6min 4s, total: 1h 35min 11s\n",
    "Wall time: 17min 1s"
   ]
  },
  {
   "cell_type": "code",
   "execution_count": 33,
   "metadata": {},
   "outputs": [],
   "source": [
    "%%time\n",
    "catboost = CatBoostRegressor(loss_function='RMSE')\n",
    "parameters_cat = {'depth':[5,10], 'learning_rate':np.arange(0.1,1,0.2)}\n",
    "catboost_grid = catboost.grid_search(parameters_cat,\n",
    "                                     Pool(features_train_cat, target_train_cat, cat_features=[\"VehicleType\",\"Gearbox\",\n",
    "                                                                                      \"Model\",\"FuelType\",\n",
    "                                                                                      \"Brand\",\"Repaired\"]),\n",
    "                                     cv=3,\n",
    "                                     verbose=True,\n",
    "                                     plot=False)"
   ]
  },
  {
   "cell_type": "code",
   "execution_count": 34,
   "metadata": {},
   "outputs": [],
   "source": [
    "model_catboost = CatBoostRegressor(depth=catboost_grid[\"params\"][\"depth\"],\n",
    "                                    learning_rate=catboost_grid[\"params\"]['learning_rate'], loss_function='RMSE')\n",
    "model_catboost.fit(features_train_cat, target_train_cat, cat_features=[\"VehicleType\",\"Gearbox\",\n",
    "                                                              \"Model\",\"FuelType\",\n",
    "                                                              \"Brand\",\"Repaired\"])\n"
   ]
  },
  {
   "cell_type": "code",
   "execution_count": 37,
   "metadata": {},
   "outputs": [
    {
     "data": {
      "text/html": [
       "<style>#sk-container-id-2 {color: black;background-color: white;}#sk-container-id-2 pre{padding: 0;}#sk-container-id-2 div.sk-toggleable {background-color: white;}#sk-container-id-2 label.sk-toggleable__label {cursor: pointer;display: block;width: 100%;margin-bottom: 0;padding: 0.3em;box-sizing: border-box;text-align: center;}#sk-container-id-2 label.sk-toggleable__label-arrow:before {content: \"▸\";float: left;margin-right: 0.25em;color: #696969;}#sk-container-id-2 label.sk-toggleable__label-arrow:hover:before {color: black;}#sk-container-id-2 div.sk-estimator:hover label.sk-toggleable__label-arrow:before {color: black;}#sk-container-id-2 div.sk-toggleable__content {max-height: 0;max-width: 0;overflow: hidden;text-align: left;background-color: #f0f8ff;}#sk-container-id-2 div.sk-toggleable__content pre {margin: 0.2em;color: black;border-radius: 0.25em;background-color: #f0f8ff;}#sk-container-id-2 input.sk-toggleable__control:checked~div.sk-toggleable__content {max-height: 200px;max-width: 100%;overflow: auto;}#sk-container-id-2 input.sk-toggleable__control:checked~label.sk-toggleable__label-arrow:before {content: \"▾\";}#sk-container-id-2 div.sk-estimator input.sk-toggleable__control:checked~label.sk-toggleable__label {background-color: #d4ebff;}#sk-container-id-2 div.sk-label input.sk-toggleable__control:checked~label.sk-toggleable__label {background-color: #d4ebff;}#sk-container-id-2 input.sk-hidden--visually {border: 0;clip: rect(1px 1px 1px 1px);clip: rect(1px, 1px, 1px, 1px);height: 1px;margin: -1px;overflow: hidden;padding: 0;position: absolute;width: 1px;}#sk-container-id-2 div.sk-estimator {font-family: monospace;background-color: #f0f8ff;border: 1px dotted black;border-radius: 0.25em;box-sizing: border-box;margin-bottom: 0.5em;}#sk-container-id-2 div.sk-estimator:hover {background-color: #d4ebff;}#sk-container-id-2 div.sk-parallel-item::after {content: \"\";width: 100%;border-bottom: 1px solid gray;flex-grow: 1;}#sk-container-id-2 div.sk-label:hover label.sk-toggleable__label {background-color: #d4ebff;}#sk-container-id-2 div.sk-serial::before {content: \"\";position: absolute;border-left: 1px solid gray;box-sizing: border-box;top: 0;bottom: 0;left: 50%;z-index: 0;}#sk-container-id-2 div.sk-serial {display: flex;flex-direction: column;align-items: center;background-color: white;padding-right: 0.2em;padding-left: 0.2em;position: relative;}#sk-container-id-2 div.sk-item {position: relative;z-index: 1;}#sk-container-id-2 div.sk-parallel {display: flex;align-items: stretch;justify-content: center;background-color: white;position: relative;}#sk-container-id-2 div.sk-item::before, #sk-container-id-2 div.sk-parallel-item::before {content: \"\";position: absolute;border-left: 1px solid gray;box-sizing: border-box;top: 0;bottom: 0;left: 50%;z-index: -1;}#sk-container-id-2 div.sk-parallel-item {display: flex;flex-direction: column;z-index: 1;position: relative;background-color: white;}#sk-container-id-2 div.sk-parallel-item:first-child::after {align-self: flex-end;width: 50%;}#sk-container-id-2 div.sk-parallel-item:last-child::after {align-self: flex-start;width: 50%;}#sk-container-id-2 div.sk-parallel-item:only-child::after {width: 0;}#sk-container-id-2 div.sk-dashed-wrapped {border: 1px dashed gray;margin: 0 0.4em 0.5em 0.4em;box-sizing: border-box;padding-bottom: 0.4em;background-color: white;}#sk-container-id-2 div.sk-label label {font-family: monospace;font-weight: bold;display: inline-block;line-height: 1.2em;}#sk-container-id-2 div.sk-label-container {text-align: center;}#sk-container-id-2 div.sk-container {/* jupyter's `normalize.less` sets `[hidden] { display: none; }` but bootstrap.min.css set `[hidden] { display: none !important; }` so we also need the `!important` here to be able to override the default hidden behavior on the sphinx rendered scikit-learn.org. See: https://github.com/scikit-learn/scikit-learn/issues/21755 */display: inline-block !important;position: relative;}#sk-container-id-2 div.sk-text-repr-fallback {display: none;}</style><div id=\"sk-container-id-2\" class=\"sk-top-container\"><div class=\"sk-text-repr-fallback\"><pre>ColumnTransformer(remainder=&#x27;passthrough&#x27;,\n",
       "                  transformers=[(&#x27;cat&#x27;,\n",
       "                                 OrdinalEncoder(handle_unknown=&#x27;use_encoded_value&#x27;,\n",
       "                                                unknown_value=-1),\n",
       "                                 [&#x27;VehicleType&#x27;, &#x27;Model&#x27;, &#x27;FuelType&#x27;, &#x27;Gearbox&#x27;,\n",
       "                                  &#x27;Repaired&#x27;, &#x27;RegistrationMonth&#x27;, &#x27;Brand&#x27;])])</pre><b>In a Jupyter environment, please rerun this cell to show the HTML representation or trust the notebook. <br />On GitHub, the HTML representation is unable to render, please try loading this page with nbviewer.org.</b></div><div class=\"sk-container\" hidden><div class=\"sk-item sk-dashed-wrapped\"><div class=\"sk-label-container\"><div class=\"sk-label sk-toggleable\"><input class=\"sk-toggleable__control sk-hidden--visually\" id=\"sk-estimator-id-4\" type=\"checkbox\" ><label for=\"sk-estimator-id-4\" class=\"sk-toggleable__label sk-toggleable__label-arrow\">ColumnTransformer</label><div class=\"sk-toggleable__content\"><pre>ColumnTransformer(remainder=&#x27;passthrough&#x27;,\n",
       "                  transformers=[(&#x27;cat&#x27;,\n",
       "                                 OrdinalEncoder(handle_unknown=&#x27;use_encoded_value&#x27;,\n",
       "                                                unknown_value=-1),\n",
       "                                 [&#x27;VehicleType&#x27;, &#x27;Model&#x27;, &#x27;FuelType&#x27;, &#x27;Gearbox&#x27;,\n",
       "                                  &#x27;Repaired&#x27;, &#x27;RegistrationMonth&#x27;, &#x27;Brand&#x27;])])</pre></div></div></div><div class=\"sk-parallel\"><div class=\"sk-parallel-item\"><div class=\"sk-item\"><div class=\"sk-label-container\"><div class=\"sk-label sk-toggleable\"><input class=\"sk-toggleable__control sk-hidden--visually\" id=\"sk-estimator-id-5\" type=\"checkbox\" ><label for=\"sk-estimator-id-5\" class=\"sk-toggleable__label sk-toggleable__label-arrow\">cat</label><div class=\"sk-toggleable__content\"><pre>[&#x27;VehicleType&#x27;, &#x27;Model&#x27;, &#x27;FuelType&#x27;, &#x27;Gearbox&#x27;, &#x27;Repaired&#x27;, &#x27;RegistrationMonth&#x27;, &#x27;Brand&#x27;]</pre></div></div></div><div class=\"sk-serial\"><div class=\"sk-item\"><div class=\"sk-estimator sk-toggleable\"><input class=\"sk-toggleable__control sk-hidden--visually\" id=\"sk-estimator-id-6\" type=\"checkbox\" ><label for=\"sk-estimator-id-6\" class=\"sk-toggleable__label sk-toggleable__label-arrow\">OrdinalEncoder</label><div class=\"sk-toggleable__content\"><pre>OrdinalEncoder(handle_unknown=&#x27;use_encoded_value&#x27;, unknown_value=-1)</pre></div></div></div></div></div></div><div class=\"sk-parallel-item\"><div class=\"sk-item\"><div class=\"sk-label-container\"><div class=\"sk-label sk-toggleable\"><input class=\"sk-toggleable__control sk-hidden--visually\" id=\"sk-estimator-id-7\" type=\"checkbox\" ><label for=\"sk-estimator-id-7\" class=\"sk-toggleable__label sk-toggleable__label-arrow\">remainder</label><div class=\"sk-toggleable__content\"><pre>[&#x27;RegistrationYear&#x27;, &#x27;Power&#x27;, &#x27;Kilometer&#x27;]</pre></div></div></div><div class=\"sk-serial\"><div class=\"sk-item\"><div class=\"sk-estimator sk-toggleable\"><input class=\"sk-toggleable__control sk-hidden--visually\" id=\"sk-estimator-id-8\" type=\"checkbox\" ><label for=\"sk-estimator-id-8\" class=\"sk-toggleable__label sk-toggleable__label-arrow\">passthrough</label><div class=\"sk-toggleable__content\"><pre>passthrough</pre></div></div></div></div></div></div></div></div></div></div>"
      ],
      "text/plain": [
       "ColumnTransformer(remainder='passthrough',\n",
       "                  transformers=[('cat',\n",
       "                                 OrdinalEncoder(handle_unknown='use_encoded_value',\n",
       "                                                unknown_value=-1),\n",
       "                                 ['VehicleType', 'Model', 'FuelType', 'Gearbox',\n",
       "                                  'Repaired', 'RegistrationMonth', 'Brand'])])"
      ]
     },
     "execution_count": 37,
     "metadata": {},
     "output_type": "execute_result"
    }
   ],
   "source": [
    "light_column_transformer = ColumnTransformer([('cat', OrdinalEncoder(handle_unknown='use_encoded_value', unknown_value=-1), cat_features)], remainder='passthrough')\n",
    "light_column_transformer.fit(features_train)"
   ]
  },
  {
   "cell_type": "code",
   "execution_count": 38,
   "metadata": {},
   "outputs": [
    {
     "name": "stderr",
     "output_type": "stream",
     "text": [
      "/opt/conda/lib/python3.9/site-packages/lightgbm/engine.py:239: UserWarning: 'verbose_eval' argument is deprecated and will be removed in a future release of LightGBM. Pass 'log_evaluation()' callback via 'callbacks' argument instead.\n",
      "  _log_warning(\"'verbose_eval' argument is deprecated and will be removed in a future release of LightGBM. \"\n"
     ]
    },
    {
     "name": "stdout",
     "output_type": "stream",
     "text": [
      "[LightGBM] [Warning] Accuracy may be bad since you didn't explicitly set num_leaves OR 2^max_depth > num_leaves. (num_leaves=31).\n",
      "[LightGBM] [Warning] Accuracy may be bad since you didn't explicitly set num_leaves OR 2^max_depth > num_leaves. (num_leaves=31).\n",
      "[LightGBM] [Warning] Auto-choosing col-wise multi-threading, the overhead of testing was 0.393204 seconds.\n",
      "You can set `force_col_wise=true` to remove the overhead.\n",
      "[LightGBM] [Info] Total Bins 653\n",
      "[LightGBM] [Info] Number of data points in the train set: 264189, number of used features: 10\n",
      "[LightGBM] [Warning] Accuracy may be bad since you didn't explicitly set num_leaves OR 2^max_depth > num_leaves. (num_leaves=31).\n",
      "[LightGBM] [Info] Start training from score 3651.704825\n",
      "[100]\ttraining's l2: 2.26363e+06\tvalid_1's l2: 2.29212e+06\n",
      "[200]\ttraining's l2: 2.0957e+06\tvalid_1's l2: 2.17011e+06\n",
      "[300]\ttraining's l2: 1.99066e+06\tvalid_1's l2: 2.10631e+06\n",
      "[400]\ttraining's l2: 1.91494e+06\tvalid_1's l2: 2.06247e+06\n",
      "[500]\ttraining's l2: 1.85785e+06\tvalid_1's l2: 2.03581e+06\n",
      "[600]\ttraining's l2: 1.80931e+06\tvalid_1's l2: 2.01624e+06\n",
      "[700]\ttraining's l2: 1.76732e+06\tvalid_1's l2: 2.00272e+06\n",
      "[800]\ttraining's l2: 1.72965e+06\tvalid_1's l2: 1.98893e+06\n",
      "[900]\ttraining's l2: 1.69364e+06\tvalid_1's l2: 1.97499e+06\n",
      "[1000]\ttraining's l2: 1.66318e+06\tvalid_1's l2: 1.96508e+06\n",
      "CPU times: user 4min 36s, sys: 0 ns, total: 4min 36s\n",
      "Wall time: 4min 38s\n"
     ]
    }
   ],
   "source": [
    "%%time\n",
    "\n",
    "lgb_train = lgb.Dataset(light_column_transformer.transform(features_train), target_train)\n",
    "lgb_test = lgb.Dataset(light_column_transformer.transform(features_test), target_test, reference=lgb_train)\n",
    "parameters_light = {'metric': 'l2', 'max_depth':10,\"random_state\": 42,\"learning_rate\":0.1}\n",
    "light = lgb.train(parameters_light,\n",
    "                  lgb_train,\n",
    "                  num_boost_round=1000,\n",
    "                  valid_sets=[lgb_train, lgb_test],\n",
    "                  verbose_eval=100)"
   ]
  },
  {
   "cell_type": "code",
   "execution_count": 39,
   "metadata": {},
   "outputs": [
    {
     "name": "stdout",
     "output_type": "stream",
     "text": [
      "LightGBM: 1289.6443433324612\n",
      "CPU times: user 24.7 s, sys: 0 ns, total: 24.7 s\n",
      "Wall time: 25 s\n"
     ]
    }
   ],
   "source": [
    "%%time\n",
    "print(\"LightGBM:\",(mean_squared_error(target_train,light.predict(light_column_transformer.transform(features_train)),squared=False)))"
   ]
  },
  {
   "cell_type": "markdown",
   "metadata": {},
   "source": []
  },
  {
   "cell_type": "markdown",
   "metadata": {},
   "source": [
    "## Анализ моделей"
   ]
  },
  {
   "cell_type": "markdown",
   "metadata": {},
   "source": [
    "Были обучены 4 модели: Линейная Регрессия, Случайный Лес, CatBoost и LightGBM. Начнем по порядку: наименьшую ошибку показал CatBoost - 1703, следом идёт LightGBM - 1719, затем Случайный Лес - 1747, а уже потом Линейная Регрессия - 3207. Разница между бустингом и регрессией колосальна. А вот разница между тремя первыми местами не сильно заметна, особенно если рассматривать только бустинги - всего в 16 евро.\n",
    "\n",
    "Критерии, которые важны заказчику:\n",
    "-качество предсказания;\n",
    "-время обучения модели;\n",
    "-время предсказания модели.\n",
    "\n",
    "\n",
    "Отбросим линейную регрессии в силу ее слабой RMSE и за каждый критерий будем давать от 0 до 2 баллов за позицию в критериях.\n",
    "Качество предсказания: CatBoost - 2 балла, LightGBM - 1 балл, Случайный Лес - 0 баллов.\n",
    "Время обучения модели: CatBoost - 0 баллов, LightGBM - 2 балл, Случайный Лес - 1 балла.\n",
    "Время предсказания модели: CatBoost - 2 балла, LightGBM - 1 балл, Случайный Лес - 0 баллов.\n",
    "\n",
    "Таким образом у CatBoost - 4 балла, у LightGBM - 4 балла и у Случайного Лесса 1 балл.\n",
    "Но в данном случае выбор падет на LightGBM, так как уж намного быстрее эта модель обучилась в отличие от CatBoost."
   ]
  },
  {
   "cell_type": "markdown",
   "metadata": {},
   "source": [
    "Отличный результат!"
   ]
  },
  {
   "cell_type": "code",
   "execution_count": 40,
   "metadata": {},
   "outputs": [
    {
     "name": "stdout",
     "output_type": "stream",
     "text": [
      "LightGBM: 1401.8145411943196\n"
     ]
    }
   ],
   "source": [
    "print(\"LightGBM:\",(mean_squared_error(target_test,light.predict(light_column_transformer.transform(features_test)),squared=False)))"
   ]
  },
  {
   "cell_type": "markdown",
   "metadata": {},
   "source": [
    "## Вывод"
   ]
  },
  {
   "cell_type": "markdown",
   "metadata": {},
   "source": [
    "Была проведена работа по обработке данных, обучению модель и анализа лучшей. В самом начале мы первично изучали данные и начали их обрабатывать - было много пропусков и не все признаки соответствовали своим типам. После разбили данные на обучающую и тестовую выборки несколько раз, так как разные модели могут принимать на вход только определенные данные - некоторые уже закодированные, а некоторые могут принимать и не закодированные данные. Обучив и проверив модели на тестовых выборках - стало ясно, что линейная регрессия такая себе модель для данной задачи, а после сравнительного анализа стало ясно, что лучшая модель в нашем случае - LightGBM!"
   ]
  }
 ],
 "metadata": {
  "ExecuteTimeLog": [
   {
    "duration": 1382,
    "start_time": "2022-12-30T11:33:04.607Z"
   },
   {
    "duration": 114,
    "start_time": "2022-12-30T11:33:05.991Z"
   },
   {
    "duration": 0,
    "start_time": "2022-12-30T11:33:06.107Z"
   },
   {
    "duration": 0,
    "start_time": "2022-12-30T11:33:06.108Z"
   },
   {
    "duration": 0,
    "start_time": "2022-12-30T11:33:06.109Z"
   },
   {
    "duration": 0,
    "start_time": "2022-12-30T11:33:06.110Z"
   },
   {
    "duration": 0,
    "start_time": "2022-12-30T11:33:06.111Z"
   },
   {
    "duration": 0,
    "start_time": "2022-12-30T11:33:06.112Z"
   },
   {
    "duration": 0,
    "start_time": "2022-12-30T11:33:06.113Z"
   },
   {
    "duration": 0,
    "start_time": "2022-12-30T11:33:06.114Z"
   },
   {
    "duration": 0,
    "start_time": "2022-12-30T11:33:06.115Z"
   },
   {
    "duration": 0,
    "start_time": "2022-12-30T11:33:06.116Z"
   },
   {
    "duration": 0,
    "start_time": "2022-12-30T11:33:06.117Z"
   },
   {
    "duration": 0,
    "start_time": "2022-12-30T11:33:06.118Z"
   },
   {
    "duration": 0,
    "start_time": "2022-12-30T11:33:06.120Z"
   },
   {
    "duration": 0,
    "start_time": "2022-12-30T11:33:06.121Z"
   },
   {
    "duration": 0,
    "start_time": "2022-12-30T11:33:06.121Z"
   },
   {
    "duration": 0,
    "start_time": "2022-12-30T11:33:06.122Z"
   },
   {
    "duration": 0,
    "start_time": "2022-12-30T11:33:06.124Z"
   },
   {
    "duration": 0,
    "start_time": "2022-12-30T11:33:06.125Z"
   },
   {
    "duration": 0,
    "start_time": "2022-12-30T11:33:06.126Z"
   },
   {
    "duration": 0,
    "start_time": "2022-12-30T11:33:06.127Z"
   },
   {
    "duration": 1582,
    "start_time": "2022-12-30T11:51:02.487Z"
   },
   {
    "duration": 848,
    "start_time": "2022-12-30T11:51:04.072Z"
   },
   {
    "duration": 122,
    "start_time": "2022-12-30T11:51:04.922Z"
   },
   {
    "duration": 152,
    "start_time": "2022-12-30T11:51:05.046Z"
   },
   {
    "duration": 116,
    "start_time": "2022-12-30T11:51:05.200Z"
   },
   {
    "duration": 33,
    "start_time": "2022-12-30T11:51:05.318Z"
   },
   {
    "duration": 82,
    "start_time": "2022-12-30T11:51:05.353Z"
   },
   {
    "duration": 19,
    "start_time": "2022-12-30T11:51:05.437Z"
   },
   {
    "duration": 68,
    "start_time": "2022-12-30T11:51:05.458Z"
   },
   {
    "duration": 1054,
    "start_time": "2022-12-30T11:51:05.528Z"
   },
   {
    "duration": 218,
    "start_time": "2022-12-30T11:51:06.584Z"
   },
   {
    "duration": 490,
    "start_time": "2022-12-30T11:51:06.804Z"
   },
   {
    "duration": 41582,
    "start_time": "2022-12-30T11:51:07.296Z"
   },
   {
    "duration": 3,
    "start_time": "2022-12-30T11:51:48.880Z"
   },
   {
    "duration": 1410,
    "start_time": "2022-12-31T09:25:06.893Z"
   },
   {
    "duration": 105,
    "start_time": "2022-12-31T09:25:08.305Z"
   },
   {
    "duration": 0,
    "start_time": "2022-12-31T09:25:08.412Z"
   },
   {
    "duration": 0,
    "start_time": "2022-12-31T09:25:08.413Z"
   },
   {
    "duration": 0,
    "start_time": "2022-12-31T09:25:08.414Z"
   },
   {
    "duration": 0,
    "start_time": "2022-12-31T09:25:08.415Z"
   },
   {
    "duration": 0,
    "start_time": "2022-12-31T09:25:08.416Z"
   },
   {
    "duration": 0,
    "start_time": "2022-12-31T09:25:08.417Z"
   },
   {
    "duration": 0,
    "start_time": "2022-12-31T09:25:08.418Z"
   },
   {
    "duration": 0,
    "start_time": "2022-12-31T09:25:08.420Z"
   },
   {
    "duration": 0,
    "start_time": "2022-12-31T09:25:08.420Z"
   },
   {
    "duration": 0,
    "start_time": "2022-12-31T09:25:08.421Z"
   },
   {
    "duration": 0,
    "start_time": "2022-12-31T09:25:08.422Z"
   },
   {
    "duration": 0,
    "start_time": "2022-12-31T09:25:08.423Z"
   },
   {
    "duration": 0,
    "start_time": "2022-12-31T09:25:08.424Z"
   },
   {
    "duration": 0,
    "start_time": "2022-12-31T09:25:08.425Z"
   },
   {
    "duration": 0,
    "start_time": "2022-12-31T09:25:08.426Z"
   },
   {
    "duration": 0,
    "start_time": "2022-12-31T09:25:08.427Z"
   },
   {
    "duration": 0,
    "start_time": "2022-12-31T09:25:08.428Z"
   },
   {
    "duration": 0,
    "start_time": "2022-12-31T09:25:08.428Z"
   },
   {
    "duration": 0,
    "start_time": "2022-12-31T09:25:08.429Z"
   },
   {
    "duration": 0,
    "start_time": "2022-12-31T09:25:08.430Z"
   },
   {
    "duration": 0,
    "start_time": "2022-12-31T09:25:08.431Z"
   },
   {
    "duration": 0,
    "start_time": "2022-12-31T09:25:08.432Z"
   },
   {
    "duration": 0,
    "start_time": "2022-12-31T09:25:08.432Z"
   },
   {
    "duration": 0,
    "start_time": "2022-12-31T09:25:08.434Z"
   },
   {
    "duration": 0,
    "start_time": "2022-12-31T09:25:08.435Z"
   },
   {
    "duration": 0,
    "start_time": "2022-12-31T09:25:08.436Z"
   },
   {
    "duration": 0,
    "start_time": "2022-12-31T09:25:08.437Z"
   },
   {
    "duration": 0,
    "start_time": "2022-12-31T09:25:08.438Z"
   },
   {
    "duration": 1411,
    "start_time": "2022-12-31T09:26:02.505Z"
   },
   {
    "duration": 800,
    "start_time": "2022-12-31T09:26:03.919Z"
   },
   {
    "duration": 119,
    "start_time": "2022-12-31T09:26:04.721Z"
   },
   {
    "duration": 109,
    "start_time": "2022-12-31T09:26:04.842Z"
   },
   {
    "duration": 105,
    "start_time": "2022-12-31T09:26:04.953Z"
   },
   {
    "duration": 35,
    "start_time": "2022-12-31T09:26:05.060Z"
   },
   {
    "duration": 66,
    "start_time": "2022-12-31T09:26:05.111Z"
   },
   {
    "duration": 33,
    "start_time": "2022-12-31T09:26:05.179Z"
   },
   {
    "duration": 65,
    "start_time": "2022-12-31T09:26:05.213Z"
   },
   {
    "duration": 32,
    "start_time": "2022-12-31T09:26:05.280Z"
   },
   {
    "duration": 1804,
    "start_time": "2022-12-31T09:26:05.314Z"
   },
   {
    "duration": 451,
    "start_time": "2022-12-31T09:26:07.120Z"
   },
   {
    "duration": 1424,
    "start_time": "2022-12-31T09:26:07.573Z"
   },
   {
    "duration": 207,
    "start_time": "2022-12-31T09:26:09.000Z"
   },
   {
    "duration": 466,
    "start_time": "2022-12-31T09:26:09.209Z"
   },
   {
    "duration": 61,
    "start_time": "2022-12-31T09:26:09.677Z"
   },
   {
    "duration": 198,
    "start_time": "2022-12-31T09:26:09.739Z"
   },
   {
    "duration": 206374,
    "start_time": "2022-12-31T09:26:09.939Z"
   },
   {
    "duration": 4702,
    "start_time": "2022-12-31T09:29:36.315Z"
   },
   {
    "duration": 92,
    "start_time": "2022-12-31T09:29:41.020Z"
   },
   {
    "duration": 1581,
    "start_time": "2023-01-01T10:31:33.548Z"
   },
   {
    "duration": 111,
    "start_time": "2023-01-01T10:31:35.131Z"
   },
   {
    "duration": 0,
    "start_time": "2023-01-01T10:31:35.244Z"
   },
   {
    "duration": 0,
    "start_time": "2023-01-01T10:31:35.245Z"
   },
   {
    "duration": 0,
    "start_time": "2023-01-01T10:31:35.247Z"
   },
   {
    "duration": 0,
    "start_time": "2023-01-01T10:31:35.248Z"
   },
   {
    "duration": 0,
    "start_time": "2023-01-01T10:31:35.249Z"
   },
   {
    "duration": 0,
    "start_time": "2023-01-01T10:31:35.250Z"
   },
   {
    "duration": 0,
    "start_time": "2023-01-01T10:31:35.251Z"
   },
   {
    "duration": 0,
    "start_time": "2023-01-01T10:31:35.252Z"
   },
   {
    "duration": 0,
    "start_time": "2023-01-01T10:31:35.253Z"
   },
   {
    "duration": 0,
    "start_time": "2023-01-01T10:31:35.254Z"
   },
   {
    "duration": 0,
    "start_time": "2023-01-01T10:31:35.255Z"
   },
   {
    "duration": 0,
    "start_time": "2023-01-01T10:31:35.256Z"
   },
   {
    "duration": 0,
    "start_time": "2023-01-01T10:31:35.257Z"
   },
   {
    "duration": 0,
    "start_time": "2023-01-01T10:31:35.258Z"
   },
   {
    "duration": 0,
    "start_time": "2023-01-01T10:31:35.259Z"
   },
   {
    "duration": 0,
    "start_time": "2023-01-01T10:31:35.260Z"
   },
   {
    "duration": 0,
    "start_time": "2023-01-01T10:31:35.261Z"
   },
   {
    "duration": 0,
    "start_time": "2023-01-01T10:31:35.262Z"
   },
   {
    "duration": 0,
    "start_time": "2023-01-01T10:31:35.263Z"
   },
   {
    "duration": 0,
    "start_time": "2023-01-01T10:31:35.264Z"
   },
   {
    "duration": 0,
    "start_time": "2023-01-01T10:31:35.265Z"
   },
   {
    "duration": 0,
    "start_time": "2023-01-01T10:31:35.266Z"
   },
   {
    "duration": 0,
    "start_time": "2023-01-01T10:31:35.267Z"
   },
   {
    "duration": 0,
    "start_time": "2023-01-01T10:31:35.268Z"
   },
   {
    "duration": 0,
    "start_time": "2023-01-01T10:31:35.269Z"
   },
   {
    "duration": 0,
    "start_time": "2023-01-01T10:31:35.270Z"
   },
   {
    "duration": 0,
    "start_time": "2023-01-01T10:31:35.312Z"
   },
   {
    "duration": 0,
    "start_time": "2023-01-01T10:31:35.313Z"
   },
   {
    "duration": 0,
    "start_time": "2023-01-01T10:31:35.315Z"
   },
   {
    "duration": 0,
    "start_time": "2023-01-01T10:31:35.315Z"
   },
   {
    "duration": 0,
    "start_time": "2023-01-01T10:31:35.316Z"
   },
   {
    "duration": 0,
    "start_time": "2023-01-01T10:31:35.318Z"
   },
   {
    "duration": 1385,
    "start_time": "2023-01-01T10:31:51.474Z"
   },
   {
    "duration": 1051,
    "start_time": "2023-01-01T10:31:52.861Z"
   },
   {
    "duration": 124,
    "start_time": "2023-01-01T10:31:53.914Z"
   },
   {
    "duration": 107,
    "start_time": "2023-01-01T10:31:54.041Z"
   },
   {
    "duration": 113,
    "start_time": "2023-01-01T10:31:54.150Z"
   },
   {
    "duration": 53,
    "start_time": "2023-01-01T10:31:54.265Z"
   },
   {
    "duration": 71,
    "start_time": "2023-01-01T10:31:54.320Z"
   },
   {
    "duration": 34,
    "start_time": "2023-01-01T10:31:54.393Z"
   },
   {
    "duration": 64,
    "start_time": "2023-01-01T10:31:54.428Z"
   },
   {
    "duration": 5,
    "start_time": "2023-01-01T10:31:54.495Z"
   },
   {
    "duration": 170,
    "start_time": "2023-01-01T10:31:54.512Z"
   },
   {
    "duration": 29,
    "start_time": "2023-01-01T10:31:54.684Z"
   },
   {
    "duration": 1723,
    "start_time": "2023-01-01T10:31:54.715Z"
   },
   {
    "duration": 453,
    "start_time": "2023-01-01T10:31:56.440Z"
   },
   {
    "duration": 32,
    "start_time": "2023-01-01T10:31:56.895Z"
   },
   {
    "duration": 212,
    "start_time": "2023-01-01T10:31:56.929Z"
   },
   {
    "duration": 512,
    "start_time": "2023-01-01T10:31:57.143Z"
   },
   {
    "duration": 483,
    "start_time": "2023-01-01T10:31:57.657Z"
   },
   {
    "duration": 59,
    "start_time": "2023-01-01T10:31:58.141Z"
   },
   {
    "duration": 11,
    "start_time": "2023-01-01T10:31:58.202Z"
   },
   {
    "duration": 120,
    "start_time": "2023-01-01T10:31:58.214Z"
   },
   {
    "duration": 0,
    "start_time": "2023-01-01T10:31:58.336Z"
   },
   {
    "duration": 0,
    "start_time": "2023-01-01T10:31:58.338Z"
   },
   {
    "duration": 0,
    "start_time": "2023-01-01T10:31:58.339Z"
   },
   {
    "duration": 0,
    "start_time": "2023-01-01T10:31:58.341Z"
   },
   {
    "duration": 0,
    "start_time": "2023-01-01T10:31:58.342Z"
   },
   {
    "duration": 0,
    "start_time": "2023-01-01T10:31:58.344Z"
   },
   {
    "duration": 0,
    "start_time": "2023-01-01T10:31:58.345Z"
   },
   {
    "duration": 0,
    "start_time": "2023-01-01T10:31:58.347Z"
   },
   {
    "duration": 0,
    "start_time": "2023-01-01T10:31:58.349Z"
   },
   {
    "duration": 0,
    "start_time": "2023-01-01T10:31:58.350Z"
   },
   {
    "duration": 0,
    "start_time": "2023-01-01T10:31:58.351Z"
   },
   {
    "duration": 0,
    "start_time": "2023-01-01T10:31:58.353Z"
   },
   {
    "duration": 0,
    "start_time": "2023-01-01T10:31:58.354Z"
   },
   {
    "duration": 12,
    "start_time": "2023-01-01T10:38:22.795Z"
   },
   {
    "duration": 4,
    "start_time": "2023-01-01T10:40:11.299Z"
   },
   {
    "duration": 2,
    "start_time": "2023-01-01T10:44:48.647Z"
   },
   {
    "duration": 14,
    "start_time": "2023-01-01T10:45:51.201Z"
   },
   {
    "duration": 15,
    "start_time": "2023-01-01T10:46:19.522Z"
   },
   {
    "duration": 6375,
    "start_time": "2023-01-01T10:47:41.285Z"
   },
   {
    "duration": 15,
    "start_time": "2023-01-01T10:47:53.549Z"
   },
   {
    "duration": 14,
    "start_time": "2023-01-01T10:48:39.315Z"
   },
   {
    "duration": 3,
    "start_time": "2023-01-01T10:49:43.235Z"
   },
   {
    "duration": 9,
    "start_time": "2023-01-01T10:49:49.058Z"
   },
   {
    "duration": 9,
    "start_time": "2023-01-01T10:50:09.971Z"
   },
   {
    "duration": 14,
    "start_time": "2023-01-01T10:50:21.258Z"
   },
   {
    "duration": 4,
    "start_time": "2023-01-01T10:50:55.486Z"
   },
   {
    "duration": 1153,
    "start_time": "2023-01-01T10:51:19.349Z"
   },
   {
    "duration": 811,
    "start_time": "2023-01-01T10:51:20.504Z"
   },
   {
    "duration": 126,
    "start_time": "2023-01-01T10:51:21.317Z"
   },
   {
    "duration": 102,
    "start_time": "2023-01-01T10:51:21.445Z"
   },
   {
    "duration": 108,
    "start_time": "2023-01-01T10:51:21.549Z"
   },
   {
    "duration": 36,
    "start_time": "2023-01-01T10:51:21.659Z"
   },
   {
    "duration": 73,
    "start_time": "2023-01-01T10:51:21.712Z"
   },
   {
    "duration": 35,
    "start_time": "2023-01-01T10:51:21.787Z"
   },
   {
    "duration": 65,
    "start_time": "2023-01-01T10:51:21.823Z"
   },
   {
    "duration": 5,
    "start_time": "2023-01-01T10:51:21.890Z"
   },
   {
    "duration": 184,
    "start_time": "2023-01-01T10:51:21.897Z"
   },
   {
    "duration": 33,
    "start_time": "2023-01-01T10:51:22.082Z"
   },
   {
    "duration": 1663,
    "start_time": "2023-01-01T10:51:22.116Z"
   },
   {
    "duration": 443,
    "start_time": "2023-01-01T10:51:23.780Z"
   },
   {
    "duration": 24,
    "start_time": "2023-01-01T10:51:24.225Z"
   },
   {
    "duration": 203,
    "start_time": "2023-01-01T10:51:24.250Z"
   },
   {
    "duration": 2,
    "start_time": "2023-01-01T10:51:24.455Z"
   },
   {
    "duration": 1852,
    "start_time": "2023-01-01T10:51:24.459Z"
   },
   {
    "duration": 23,
    "start_time": "2023-01-01T10:51:26.313Z"
   },
   {
    "duration": 341,
    "start_time": "2023-01-01T10:51:26.338Z"
   },
   {
    "duration": 123,
    "start_time": "2023-01-01T10:51:26.681Z"
   },
   {
    "duration": 0,
    "start_time": "2023-01-01T10:51:26.806Z"
   },
   {
    "duration": 0,
    "start_time": "2023-01-01T10:51:26.808Z"
   },
   {
    "duration": 0,
    "start_time": "2023-01-01T10:51:26.817Z"
   },
   {
    "duration": 0,
    "start_time": "2023-01-01T10:51:26.818Z"
   },
   {
    "duration": 0,
    "start_time": "2023-01-01T10:51:26.819Z"
   },
   {
    "duration": 0,
    "start_time": "2023-01-01T10:51:26.821Z"
   },
   {
    "duration": 0,
    "start_time": "2023-01-01T10:51:26.822Z"
   },
   {
    "duration": 0,
    "start_time": "2023-01-01T10:51:26.823Z"
   },
   {
    "duration": 0,
    "start_time": "2023-01-01T10:51:26.825Z"
   },
   {
    "duration": 0,
    "start_time": "2023-01-01T10:51:26.826Z"
   },
   {
    "duration": 0,
    "start_time": "2023-01-01T10:51:26.827Z"
   },
   {
    "duration": 0,
    "start_time": "2023-01-01T10:51:26.829Z"
   },
   {
    "duration": 0,
    "start_time": "2023-01-01T10:51:26.831Z"
   },
   {
    "duration": 0,
    "start_time": "2023-01-01T10:51:26.832Z"
   },
   {
    "duration": 0,
    "start_time": "2023-01-01T10:51:26.833Z"
   },
   {
    "duration": 0,
    "start_time": "2023-01-01T10:51:26.834Z"
   },
   {
    "duration": 0,
    "start_time": "2023-01-01T10:51:26.835Z"
   },
   {
    "duration": 0,
    "start_time": "2023-01-01T10:51:26.836Z"
   },
   {
    "duration": 1132,
    "start_time": "2023-01-01T10:52:31.950Z"
   },
   {
    "duration": 804,
    "start_time": "2023-01-01T10:52:33.084Z"
   },
   {
    "duration": 115,
    "start_time": "2023-01-01T10:52:33.890Z"
   },
   {
    "duration": 94,
    "start_time": "2023-01-01T10:52:34.007Z"
   },
   {
    "duration": 117,
    "start_time": "2023-01-01T10:52:34.103Z"
   },
   {
    "duration": 35,
    "start_time": "2023-01-01T10:52:34.222Z"
   },
   {
    "duration": 82,
    "start_time": "2023-01-01T10:52:34.259Z"
   },
   {
    "duration": 23,
    "start_time": "2023-01-01T10:52:34.343Z"
   },
   {
    "duration": 81,
    "start_time": "2023-01-01T10:52:34.367Z"
   },
   {
    "duration": 5,
    "start_time": "2023-01-01T10:52:34.451Z"
   },
   {
    "duration": 177,
    "start_time": "2023-01-01T10:52:34.458Z"
   },
   {
    "duration": 27,
    "start_time": "2023-01-01T10:52:34.636Z"
   },
   {
    "duration": 1720,
    "start_time": "2023-01-01T10:52:34.665Z"
   },
   {
    "duration": 444,
    "start_time": "2023-01-01T10:52:36.387Z"
   },
   {
    "duration": 27,
    "start_time": "2023-01-01T10:52:36.833Z"
   },
   {
    "duration": 208,
    "start_time": "2023-01-01T10:52:36.861Z"
   },
   {
    "duration": 2,
    "start_time": "2023-01-01T10:52:37.071Z"
   },
   {
    "duration": 1943,
    "start_time": "2023-01-01T10:52:37.075Z"
   },
   {
    "duration": 18,
    "start_time": "2023-01-01T10:52:39.020Z"
   },
   {
    "duration": 159,
    "start_time": "2023-01-01T10:52:39.040Z"
   },
   {
    "duration": 0,
    "start_time": "2023-01-01T10:52:39.201Z"
   },
   {
    "duration": 0,
    "start_time": "2023-01-01T10:52:39.202Z"
   },
   {
    "duration": 0,
    "start_time": "2023-01-01T10:52:39.203Z"
   },
   {
    "duration": 0,
    "start_time": "2023-01-01T10:52:39.204Z"
   },
   {
    "duration": 0,
    "start_time": "2023-01-01T10:52:39.212Z"
   },
   {
    "duration": 0,
    "start_time": "2023-01-01T10:52:39.213Z"
   },
   {
    "duration": 0,
    "start_time": "2023-01-01T10:52:39.214Z"
   },
   {
    "duration": 0,
    "start_time": "2023-01-01T10:52:39.215Z"
   },
   {
    "duration": 0,
    "start_time": "2023-01-01T10:52:39.216Z"
   },
   {
    "duration": 0,
    "start_time": "2023-01-01T10:52:39.217Z"
   },
   {
    "duration": 0,
    "start_time": "2023-01-01T10:52:39.218Z"
   },
   {
    "duration": 0,
    "start_time": "2023-01-01T10:52:39.219Z"
   },
   {
    "duration": 0,
    "start_time": "2023-01-01T10:52:39.220Z"
   },
   {
    "duration": 0,
    "start_time": "2023-01-01T10:52:39.221Z"
   },
   {
    "duration": 0,
    "start_time": "2023-01-01T10:52:39.221Z"
   },
   {
    "duration": 0,
    "start_time": "2023-01-01T10:52:39.222Z"
   },
   {
    "duration": 0,
    "start_time": "2023-01-01T10:52:39.223Z"
   },
   {
    "duration": 0,
    "start_time": "2023-01-01T10:52:39.224Z"
   },
   {
    "duration": 346,
    "start_time": "2023-01-01T10:53:14.694Z"
   },
   {
    "duration": 1150,
    "start_time": "2023-01-01T10:54:09.154Z"
   },
   {
    "duration": 785,
    "start_time": "2023-01-01T10:54:10.305Z"
   },
   {
    "duration": 121,
    "start_time": "2023-01-01T10:54:11.091Z"
   },
   {
    "duration": 142,
    "start_time": "2023-01-01T10:54:11.215Z"
   },
   {
    "duration": 102,
    "start_time": "2023-01-01T10:54:11.358Z"
   },
   {
    "duration": 32,
    "start_time": "2023-01-01T10:54:11.461Z"
   },
   {
    "duration": 77,
    "start_time": "2023-01-01T10:54:11.495Z"
   },
   {
    "duration": 20,
    "start_time": "2023-01-01T10:54:11.574Z"
   },
   {
    "duration": 70,
    "start_time": "2023-01-01T10:54:11.595Z"
   },
   {
    "duration": 6,
    "start_time": "2023-01-01T10:54:11.667Z"
   },
   {
    "duration": 174,
    "start_time": "2023-01-01T10:54:11.674Z"
   },
   {
    "duration": 26,
    "start_time": "2023-01-01T10:54:11.850Z"
   },
   {
    "duration": 1610,
    "start_time": "2023-01-01T10:54:11.877Z"
   },
   {
    "duration": 441,
    "start_time": "2023-01-01T10:54:13.489Z"
   },
   {
    "duration": 27,
    "start_time": "2023-01-01T10:54:13.931Z"
   },
   {
    "duration": 210,
    "start_time": "2023-01-01T10:54:13.960Z"
   },
   {
    "duration": 3,
    "start_time": "2023-01-01T10:54:14.172Z"
   },
   {
    "duration": 1868,
    "start_time": "2023-01-01T10:54:14.177Z"
   },
   {
    "duration": 19,
    "start_time": "2023-01-01T10:54:16.047Z"
   },
   {
    "duration": 461,
    "start_time": "2023-01-01T10:54:16.067Z"
   },
   {
    "duration": 0,
    "start_time": "2023-01-01T10:54:16.530Z"
   },
   {
    "duration": 0,
    "start_time": "2023-01-01T10:54:16.531Z"
   },
   {
    "duration": 0,
    "start_time": "2023-01-01T10:54:16.532Z"
   },
   {
    "duration": 0,
    "start_time": "2023-01-01T10:54:16.534Z"
   },
   {
    "duration": 0,
    "start_time": "2023-01-01T10:54:16.535Z"
   },
   {
    "duration": 0,
    "start_time": "2023-01-01T10:54:16.535Z"
   },
   {
    "duration": 0,
    "start_time": "2023-01-01T10:54:16.536Z"
   },
   {
    "duration": 0,
    "start_time": "2023-01-01T10:54:16.538Z"
   },
   {
    "duration": 0,
    "start_time": "2023-01-01T10:54:16.538Z"
   },
   {
    "duration": 0,
    "start_time": "2023-01-01T10:54:16.539Z"
   },
   {
    "duration": 0,
    "start_time": "2023-01-01T10:54:16.540Z"
   },
   {
    "duration": 0,
    "start_time": "2023-01-01T10:54:16.541Z"
   },
   {
    "duration": 0,
    "start_time": "2023-01-01T10:54:16.542Z"
   },
   {
    "duration": 0,
    "start_time": "2023-01-01T10:54:16.543Z"
   },
   {
    "duration": 0,
    "start_time": "2023-01-01T10:54:16.544Z"
   },
   {
    "duration": 0,
    "start_time": "2023-01-01T10:54:16.545Z"
   },
   {
    "duration": 0,
    "start_time": "2023-01-01T10:54:16.546Z"
   },
   {
    "duration": 0,
    "start_time": "2023-01-01T10:54:16.547Z"
   },
   {
    "duration": 8,
    "start_time": "2023-01-01T10:58:12.400Z"
   },
   {
    "duration": 333,
    "start_time": "2023-01-01T10:58:20.803Z"
   },
   {
    "duration": 251,
    "start_time": "2023-01-01T10:59:50.671Z"
   },
   {
    "duration": 3,
    "start_time": "2023-01-01T11:07:54.068Z"
   },
   {
    "duration": 1167,
    "start_time": "2023-01-01T11:08:24.919Z"
   },
   {
    "duration": 833,
    "start_time": "2023-01-01T11:08:26.087Z"
   },
   {
    "duration": 118,
    "start_time": "2023-01-01T11:08:26.922Z"
   },
   {
    "duration": 91,
    "start_time": "2023-01-01T11:08:27.042Z"
   },
   {
    "duration": 100,
    "start_time": "2023-01-01T11:08:27.134Z"
   },
   {
    "duration": 38,
    "start_time": "2023-01-01T11:08:27.236Z"
   },
   {
    "duration": 81,
    "start_time": "2023-01-01T11:08:27.275Z"
   },
   {
    "duration": 22,
    "start_time": "2023-01-01T11:08:27.358Z"
   },
   {
    "duration": 67,
    "start_time": "2023-01-01T11:08:27.381Z"
   },
   {
    "duration": 5,
    "start_time": "2023-01-01T11:08:27.450Z"
   },
   {
    "duration": 158,
    "start_time": "2023-01-01T11:08:27.456Z"
   },
   {
    "duration": 25,
    "start_time": "2023-01-01T11:08:27.615Z"
   },
   {
    "duration": 1579,
    "start_time": "2023-01-01T11:08:27.642Z"
   },
   {
    "duration": 447,
    "start_time": "2023-01-01T11:08:29.223Z"
   },
   {
    "duration": 26,
    "start_time": "2023-01-01T11:08:29.672Z"
   },
   {
    "duration": 216,
    "start_time": "2023-01-01T11:08:29.700Z"
   },
   {
    "duration": 1836,
    "start_time": "2023-01-01T11:08:29.918Z"
   },
   {
    "duration": 3,
    "start_time": "2023-01-01T11:08:31.756Z"
   },
   {
    "duration": 465,
    "start_time": "2023-01-01T11:08:31.761Z"
   },
   {
    "duration": 0,
    "start_time": "2023-01-01T11:08:32.229Z"
   },
   {
    "duration": 0,
    "start_time": "2023-01-01T11:08:32.230Z"
   },
   {
    "duration": 0,
    "start_time": "2023-01-01T11:08:32.232Z"
   },
   {
    "duration": 0,
    "start_time": "2023-01-01T11:08:32.233Z"
   },
   {
    "duration": 0,
    "start_time": "2023-01-01T11:08:32.234Z"
   },
   {
    "duration": 0,
    "start_time": "2023-01-01T11:08:32.236Z"
   },
   {
    "duration": 0,
    "start_time": "2023-01-01T11:08:32.237Z"
   },
   {
    "duration": 0,
    "start_time": "2023-01-01T11:08:32.239Z"
   },
   {
    "duration": 0,
    "start_time": "2023-01-01T11:08:32.240Z"
   },
   {
    "duration": 0,
    "start_time": "2023-01-01T11:08:32.241Z"
   },
   {
    "duration": 0,
    "start_time": "2023-01-01T11:08:32.243Z"
   },
   {
    "duration": 0,
    "start_time": "2023-01-01T11:08:32.244Z"
   },
   {
    "duration": 1,
    "start_time": "2023-01-01T11:08:32.245Z"
   },
   {
    "duration": 0,
    "start_time": "2023-01-01T11:08:32.247Z"
   },
   {
    "duration": 1,
    "start_time": "2023-01-01T11:08:32.248Z"
   },
   {
    "duration": 0,
    "start_time": "2023-01-01T11:08:32.250Z"
   },
   {
    "duration": 0,
    "start_time": "2023-01-01T11:08:32.251Z"
   },
   {
    "duration": 0,
    "start_time": "2023-01-01T11:08:32.253Z"
   },
   {
    "duration": 1167,
    "start_time": "2023-01-01T11:09:47.528Z"
   },
   {
    "duration": 791,
    "start_time": "2023-01-01T11:09:48.697Z"
   },
   {
    "duration": 118,
    "start_time": "2023-01-01T11:09:49.490Z"
   },
   {
    "duration": 103,
    "start_time": "2023-01-01T11:09:49.612Z"
   },
   {
    "duration": 104,
    "start_time": "2023-01-01T11:09:49.717Z"
   },
   {
    "duration": 32,
    "start_time": "2023-01-01T11:09:49.823Z"
   },
   {
    "duration": 76,
    "start_time": "2023-01-01T11:09:49.856Z"
   },
   {
    "duration": 24,
    "start_time": "2023-01-01T11:09:49.934Z"
   },
   {
    "duration": 85,
    "start_time": "2023-01-01T11:09:49.959Z"
   },
   {
    "duration": 5,
    "start_time": "2023-01-01T11:09:50.046Z"
   },
   {
    "duration": 174,
    "start_time": "2023-01-01T11:09:50.052Z"
   },
   {
    "duration": 28,
    "start_time": "2023-01-01T11:09:50.228Z"
   },
   {
    "duration": 1600,
    "start_time": "2023-01-01T11:09:50.258Z"
   },
   {
    "duration": 446,
    "start_time": "2023-01-01T11:09:51.860Z"
   },
   {
    "duration": 31,
    "start_time": "2023-01-01T11:09:52.308Z"
   },
   {
    "duration": 210,
    "start_time": "2023-01-01T11:09:52.340Z"
   },
   {
    "duration": 1870,
    "start_time": "2023-01-01T11:09:52.551Z"
   },
   {
    "duration": 3,
    "start_time": "2023-01-01T11:09:54.423Z"
   },
   {
    "duration": 110,
    "start_time": "2023-01-01T11:09:54.428Z"
   },
   {
    "duration": 0,
    "start_time": "2023-01-01T11:09:54.539Z"
   },
   {
    "duration": 0,
    "start_time": "2023-01-01T11:09:54.540Z"
   },
   {
    "duration": 0,
    "start_time": "2023-01-01T11:09:54.541Z"
   },
   {
    "duration": 0,
    "start_time": "2023-01-01T11:09:54.542Z"
   },
   {
    "duration": 0,
    "start_time": "2023-01-01T11:09:54.543Z"
   },
   {
    "duration": 0,
    "start_time": "2023-01-01T11:09:54.544Z"
   },
   {
    "duration": 0,
    "start_time": "2023-01-01T11:09:54.545Z"
   },
   {
    "duration": 0,
    "start_time": "2023-01-01T11:09:54.546Z"
   },
   {
    "duration": 0,
    "start_time": "2023-01-01T11:09:54.547Z"
   },
   {
    "duration": 0,
    "start_time": "2023-01-01T11:09:54.549Z"
   },
   {
    "duration": 0,
    "start_time": "2023-01-01T11:09:54.550Z"
   },
   {
    "duration": 0,
    "start_time": "2023-01-01T11:09:54.550Z"
   },
   {
    "duration": 0,
    "start_time": "2023-01-01T11:09:54.551Z"
   },
   {
    "duration": 0,
    "start_time": "2023-01-01T11:09:54.552Z"
   },
   {
    "duration": 0,
    "start_time": "2023-01-01T11:09:54.553Z"
   },
   {
    "duration": 0,
    "start_time": "2023-01-01T11:09:54.554Z"
   },
   {
    "duration": 0,
    "start_time": "2023-01-01T11:09:54.554Z"
   },
   {
    "duration": 0,
    "start_time": "2023-01-01T11:09:54.555Z"
   },
   {
    "duration": 1202,
    "start_time": "2023-01-01T11:11:18.311Z"
   },
   {
    "duration": 781,
    "start_time": "2023-01-01T11:11:19.515Z"
   },
   {
    "duration": 121,
    "start_time": "2023-01-01T11:11:20.298Z"
   },
   {
    "duration": 104,
    "start_time": "2023-01-01T11:11:20.422Z"
   },
   {
    "duration": 104,
    "start_time": "2023-01-01T11:11:20.528Z"
   },
   {
    "duration": 33,
    "start_time": "2023-01-01T11:11:20.634Z"
   },
   {
    "duration": 86,
    "start_time": "2023-01-01T11:11:20.669Z"
   },
   {
    "duration": 24,
    "start_time": "2023-01-01T11:11:20.757Z"
   },
   {
    "duration": 77,
    "start_time": "2023-01-01T11:11:20.783Z"
   },
   {
    "duration": 5,
    "start_time": "2023-01-01T11:11:20.863Z"
   },
   {
    "duration": 170,
    "start_time": "2023-01-01T11:11:20.870Z"
   },
   {
    "duration": 30,
    "start_time": "2023-01-01T11:11:21.042Z"
   },
   {
    "duration": 1681,
    "start_time": "2023-01-01T11:11:21.074Z"
   },
   {
    "duration": 436,
    "start_time": "2023-01-01T11:11:22.757Z"
   },
   {
    "duration": 28,
    "start_time": "2023-01-01T11:11:23.195Z"
   },
   {
    "duration": 206,
    "start_time": "2023-01-01T11:11:23.224Z"
   },
   {
    "duration": 1933,
    "start_time": "2023-01-01T11:11:23.431Z"
   },
   {
    "duration": 3,
    "start_time": "2023-01-01T11:11:25.365Z"
   },
   {
    "duration": 9931,
    "start_time": "2023-01-01T11:11:25.370Z"
   },
   {
    "duration": 0,
    "start_time": "2023-01-01T11:11:35.303Z"
   },
   {
    "duration": 0,
    "start_time": "2023-01-01T11:11:35.304Z"
   },
   {
    "duration": 0,
    "start_time": "2023-01-01T11:11:35.305Z"
   },
   {
    "duration": 0,
    "start_time": "2023-01-01T11:11:35.312Z"
   },
   {
    "duration": 0,
    "start_time": "2023-01-01T11:11:35.314Z"
   },
   {
    "duration": 0,
    "start_time": "2023-01-01T11:11:35.316Z"
   },
   {
    "duration": 0,
    "start_time": "2023-01-01T11:11:35.317Z"
   },
   {
    "duration": 0,
    "start_time": "2023-01-01T11:11:35.318Z"
   },
   {
    "duration": 0,
    "start_time": "2023-01-01T11:11:35.320Z"
   },
   {
    "duration": 0,
    "start_time": "2023-01-01T11:11:35.321Z"
   },
   {
    "duration": 0,
    "start_time": "2023-01-01T11:11:35.322Z"
   },
   {
    "duration": 0,
    "start_time": "2023-01-01T11:11:35.324Z"
   },
   {
    "duration": 0,
    "start_time": "2023-01-01T11:11:35.325Z"
   },
   {
    "duration": 0,
    "start_time": "2023-01-01T11:11:35.327Z"
   },
   {
    "duration": 0,
    "start_time": "2023-01-01T11:11:35.329Z"
   },
   {
    "duration": 0,
    "start_time": "2023-01-01T11:11:35.331Z"
   },
   {
    "duration": 0,
    "start_time": "2023-01-01T11:11:35.332Z"
   },
   {
    "duration": 0,
    "start_time": "2023-01-01T11:11:35.333Z"
   },
   {
    "duration": 1135,
    "start_time": "2023-01-01T11:12:40.153Z"
   },
   {
    "duration": 768,
    "start_time": "2023-01-01T11:12:41.289Z"
   },
   {
    "duration": 129,
    "start_time": "2023-01-01T11:12:42.059Z"
   },
   {
    "duration": 94,
    "start_time": "2023-01-01T11:12:42.190Z"
   },
   {
    "duration": 109,
    "start_time": "2023-01-01T11:12:42.286Z"
   },
   {
    "duration": 37,
    "start_time": "2023-01-01T11:12:42.397Z"
   },
   {
    "duration": 68,
    "start_time": "2023-01-01T11:12:42.435Z"
   },
   {
    "duration": 23,
    "start_time": "2023-01-01T11:12:42.512Z"
   },
   {
    "duration": 59,
    "start_time": "2023-01-01T11:12:42.537Z"
   },
   {
    "duration": 16,
    "start_time": "2023-01-01T11:12:42.598Z"
   },
   {
    "duration": 162,
    "start_time": "2023-01-01T11:12:42.615Z"
   },
   {
    "duration": 25,
    "start_time": "2023-01-01T11:12:42.779Z"
   },
   {
    "duration": 1669,
    "start_time": "2023-01-01T11:12:42.812Z"
   },
   {
    "duration": 436,
    "start_time": "2023-01-01T11:12:44.483Z"
   },
   {
    "duration": 27,
    "start_time": "2023-01-01T11:12:44.921Z"
   },
   {
    "duration": 209,
    "start_time": "2023-01-01T11:12:44.949Z"
   },
   {
    "duration": 1918,
    "start_time": "2023-01-01T11:12:45.159Z"
   },
   {
    "duration": 3,
    "start_time": "2023-01-01T11:12:47.079Z"
   },
   {
    "duration": 108,
    "start_time": "2023-01-01T11:12:47.083Z"
   },
   {
    "duration": 0,
    "start_time": "2023-01-01T11:12:47.194Z"
   },
   {
    "duration": 0,
    "start_time": "2023-01-01T11:12:47.195Z"
   },
   {
    "duration": 0,
    "start_time": "2023-01-01T11:12:47.196Z"
   },
   {
    "duration": 0,
    "start_time": "2023-01-01T11:12:47.197Z"
   },
   {
    "duration": 0,
    "start_time": "2023-01-01T11:12:47.198Z"
   },
   {
    "duration": 0,
    "start_time": "2023-01-01T11:12:47.199Z"
   },
   {
    "duration": 0,
    "start_time": "2023-01-01T11:12:47.200Z"
   },
   {
    "duration": 0,
    "start_time": "2023-01-01T11:12:47.201Z"
   },
   {
    "duration": 0,
    "start_time": "2023-01-01T11:12:47.212Z"
   },
   {
    "duration": 0,
    "start_time": "2023-01-01T11:12:47.213Z"
   },
   {
    "duration": 0,
    "start_time": "2023-01-01T11:12:47.214Z"
   },
   {
    "duration": 0,
    "start_time": "2023-01-01T11:12:47.215Z"
   },
   {
    "duration": 0,
    "start_time": "2023-01-01T11:12:47.216Z"
   },
   {
    "duration": 0,
    "start_time": "2023-01-01T11:12:47.217Z"
   },
   {
    "duration": 0,
    "start_time": "2023-01-01T11:12:47.218Z"
   },
   {
    "duration": 0,
    "start_time": "2023-01-01T11:12:47.219Z"
   },
   {
    "duration": 0,
    "start_time": "2023-01-01T11:12:47.220Z"
   },
   {
    "duration": 0,
    "start_time": "2023-01-01T11:12:47.221Z"
   },
   {
    "duration": 1250,
    "start_time": "2023-01-01T11:13:12.556Z"
   },
   {
    "duration": 794,
    "start_time": "2023-01-01T11:13:13.808Z"
   },
   {
    "duration": 119,
    "start_time": "2023-01-01T11:13:14.604Z"
   },
   {
    "duration": 111,
    "start_time": "2023-01-01T11:13:14.725Z"
   },
   {
    "duration": 113,
    "start_time": "2023-01-01T11:13:14.839Z"
   },
   {
    "duration": 33,
    "start_time": "2023-01-01T11:13:14.953Z"
   },
   {
    "duration": 82,
    "start_time": "2023-01-01T11:13:14.988Z"
   },
   {
    "duration": 23,
    "start_time": "2023-01-01T11:13:15.072Z"
   },
   {
    "duration": 74,
    "start_time": "2023-01-01T11:13:15.097Z"
   },
   {
    "duration": 7,
    "start_time": "2023-01-01T11:13:15.172Z"
   },
   {
    "duration": 189,
    "start_time": "2023-01-01T11:13:15.181Z"
   },
   {
    "duration": 28,
    "start_time": "2023-01-01T11:13:15.372Z"
   },
   {
    "duration": 1870,
    "start_time": "2023-01-01T11:13:15.411Z"
   },
   {
    "duration": 452,
    "start_time": "2023-01-01T11:13:17.284Z"
   },
   {
    "duration": 28,
    "start_time": "2023-01-01T11:13:17.738Z"
   },
   {
    "duration": 227,
    "start_time": "2023-01-01T11:13:17.767Z"
   },
   {
    "duration": 1902,
    "start_time": "2023-01-01T11:13:17.996Z"
   },
   {
    "duration": 3,
    "start_time": "2023-01-01T11:13:19.900Z"
   },
   {
    "duration": 9483,
    "start_time": "2023-01-01T11:13:19.905Z"
   },
   {
    "duration": 0,
    "start_time": "2023-01-01T11:13:29.390Z"
   },
   {
    "duration": 0,
    "start_time": "2023-01-01T11:13:29.391Z"
   },
   {
    "duration": 0,
    "start_time": "2023-01-01T11:13:29.393Z"
   },
   {
    "duration": 0,
    "start_time": "2023-01-01T11:13:29.395Z"
   },
   {
    "duration": 0,
    "start_time": "2023-01-01T11:13:29.396Z"
   },
   {
    "duration": 0,
    "start_time": "2023-01-01T11:13:29.398Z"
   },
   {
    "duration": 0,
    "start_time": "2023-01-01T11:13:29.414Z"
   },
   {
    "duration": 0,
    "start_time": "2023-01-01T11:13:29.415Z"
   },
   {
    "duration": 0,
    "start_time": "2023-01-01T11:13:29.417Z"
   },
   {
    "duration": 0,
    "start_time": "2023-01-01T11:13:29.419Z"
   },
   {
    "duration": 0,
    "start_time": "2023-01-01T11:13:29.420Z"
   },
   {
    "duration": 0,
    "start_time": "2023-01-01T11:13:29.422Z"
   },
   {
    "duration": 0,
    "start_time": "2023-01-01T11:13:29.424Z"
   },
   {
    "duration": 0,
    "start_time": "2023-01-01T11:13:29.426Z"
   },
   {
    "duration": 0,
    "start_time": "2023-01-01T11:13:29.428Z"
   },
   {
    "duration": 0,
    "start_time": "2023-01-01T11:13:29.429Z"
   },
   {
    "duration": 0,
    "start_time": "2023-01-01T11:13:29.431Z"
   },
   {
    "duration": 0,
    "start_time": "2023-01-01T11:13:29.432Z"
   },
   {
    "duration": 1217,
    "start_time": "2023-01-01T11:13:43.002Z"
   },
   {
    "duration": 807,
    "start_time": "2023-01-01T11:13:44.221Z"
   },
   {
    "duration": 115,
    "start_time": "2023-01-01T11:13:45.029Z"
   },
   {
    "duration": 97,
    "start_time": "2023-01-01T11:13:45.146Z"
   },
   {
    "duration": 101,
    "start_time": "2023-01-01T11:13:45.244Z"
   },
   {
    "duration": 32,
    "start_time": "2023-01-01T11:13:45.347Z"
   },
   {
    "duration": 75,
    "start_time": "2023-01-01T11:13:45.380Z"
   },
   {
    "duration": 22,
    "start_time": "2023-01-01T11:13:45.457Z"
   },
   {
    "duration": 77,
    "start_time": "2023-01-01T11:13:45.481Z"
   },
   {
    "duration": 5,
    "start_time": "2023-01-01T11:13:45.560Z"
   },
   {
    "duration": 168,
    "start_time": "2023-01-01T11:13:45.566Z"
   },
   {
    "duration": 25,
    "start_time": "2023-01-01T11:13:45.735Z"
   },
   {
    "duration": 1677,
    "start_time": "2023-01-01T11:13:45.761Z"
   },
   {
    "duration": 442,
    "start_time": "2023-01-01T11:13:47.439Z"
   },
   {
    "duration": 32,
    "start_time": "2023-01-01T11:13:47.883Z"
   },
   {
    "duration": 205,
    "start_time": "2023-01-01T11:13:47.917Z"
   },
   {
    "duration": 1940,
    "start_time": "2023-01-01T11:13:48.123Z"
   },
   {
    "duration": 3,
    "start_time": "2023-01-01T11:13:50.064Z"
   },
   {
    "duration": 10840,
    "start_time": "2023-01-01T11:13:50.069Z"
   },
   {
    "duration": 457,
    "start_time": "2023-01-01T11:14:00.911Z"
   },
   {
    "duration": 56,
    "start_time": "2023-01-01T11:14:01.369Z"
   },
   {
    "duration": 5,
    "start_time": "2023-01-01T11:14:01.426Z"
   },
   {
    "duration": 93,
    "start_time": "2023-01-01T11:14:01.432Z"
   },
   {
    "duration": 112,
    "start_time": "2023-01-01T11:14:01.526Z"
   },
   {
    "duration": 0,
    "start_time": "2023-01-01T11:14:01.639Z"
   },
   {
    "duration": 0,
    "start_time": "2023-01-01T11:14:01.641Z"
   },
   {
    "duration": 0,
    "start_time": "2023-01-01T11:14:01.641Z"
   },
   {
    "duration": 0,
    "start_time": "2023-01-01T11:14:01.642Z"
   },
   {
    "duration": 0,
    "start_time": "2023-01-01T11:14:01.643Z"
   },
   {
    "duration": 0,
    "start_time": "2023-01-01T11:14:01.645Z"
   },
   {
    "duration": 0,
    "start_time": "2023-01-01T11:14:01.645Z"
   },
   {
    "duration": 0,
    "start_time": "2023-01-01T11:14:01.646Z"
   },
   {
    "duration": 0,
    "start_time": "2023-01-01T11:14:01.648Z"
   },
   {
    "duration": 0,
    "start_time": "2023-01-01T11:14:01.649Z"
   },
   {
    "duration": 0,
    "start_time": "2023-01-01T11:14:01.650Z"
   },
   {
    "duration": 0,
    "start_time": "2023-01-01T11:14:01.651Z"
   },
   {
    "duration": 0,
    "start_time": "2023-01-01T11:14:01.652Z"
   },
   {
    "duration": 82,
    "start_time": "2023-01-01T11:15:09.768Z"
   },
   {
    "duration": 178,
    "start_time": "2023-01-01T11:16:22.388Z"
   },
   {
    "duration": 178,
    "start_time": "2023-01-01T11:17:12.465Z"
   },
   {
    "duration": 1260,
    "start_time": "2023-01-01T11:17:25.713Z"
   },
   {
    "duration": 795,
    "start_time": "2023-01-01T11:17:26.975Z"
   },
   {
    "duration": 100,
    "start_time": "2023-01-01T11:17:27.772Z"
   },
   {
    "duration": 125,
    "start_time": "2023-01-01T11:17:27.874Z"
   },
   {
    "duration": 113,
    "start_time": "2023-01-01T11:17:28.002Z"
   },
   {
    "duration": 47,
    "start_time": "2023-01-01T11:17:28.116Z"
   },
   {
    "duration": 77,
    "start_time": "2023-01-01T11:17:28.164Z"
   },
   {
    "duration": 20,
    "start_time": "2023-01-01T11:17:28.242Z"
   },
   {
    "duration": 76,
    "start_time": "2023-01-01T11:17:28.263Z"
   },
   {
    "duration": 5,
    "start_time": "2023-01-01T11:17:28.341Z"
   },
   {
    "duration": 166,
    "start_time": "2023-01-01T11:17:28.347Z"
   },
   {
    "duration": 27,
    "start_time": "2023-01-01T11:17:28.514Z"
   },
   {
    "duration": 1661,
    "start_time": "2023-01-01T11:17:28.542Z"
   },
   {
    "duration": 434,
    "start_time": "2023-01-01T11:17:30.204Z"
   },
   {
    "duration": 25,
    "start_time": "2023-01-01T11:17:30.639Z"
   },
   {
    "duration": 208,
    "start_time": "2023-01-01T11:17:30.666Z"
   },
   {
    "duration": 1909,
    "start_time": "2023-01-01T11:17:30.876Z"
   },
   {
    "duration": 27,
    "start_time": "2023-01-01T11:17:32.787Z"
   },
   {
    "duration": 3,
    "start_time": "2023-01-01T11:17:32.815Z"
   },
   {
    "duration": 861,
    "start_time": "2023-01-01T11:17:32.820Z"
   },
   {
    "duration": 68,
    "start_time": "2023-01-01T11:17:33.683Z"
   },
   {
    "duration": 461,
    "start_time": "2023-01-01T11:17:33.753Z"
   },
   {
    "duration": 61,
    "start_time": "2023-01-01T11:17:34.216Z"
   },
   {
    "duration": 8,
    "start_time": "2023-01-01T11:17:34.279Z"
   },
   {
    "duration": 78,
    "start_time": "2023-01-01T11:17:34.288Z"
   },
   {
    "duration": 119,
    "start_time": "2023-01-01T11:17:34.367Z"
   },
   {
    "duration": 0,
    "start_time": "2023-01-01T11:17:34.488Z"
   },
   {
    "duration": 0,
    "start_time": "2023-01-01T11:17:34.490Z"
   },
   {
    "duration": 0,
    "start_time": "2023-01-01T11:17:34.490Z"
   },
   {
    "duration": 0,
    "start_time": "2023-01-01T11:17:34.491Z"
   },
   {
    "duration": 0,
    "start_time": "2023-01-01T11:17:34.492Z"
   },
   {
    "duration": 0,
    "start_time": "2023-01-01T11:17:34.493Z"
   },
   {
    "duration": 0,
    "start_time": "2023-01-01T11:17:34.495Z"
   },
   {
    "duration": 0,
    "start_time": "2023-01-01T11:17:34.496Z"
   },
   {
    "duration": 0,
    "start_time": "2023-01-01T11:17:34.497Z"
   },
   {
    "duration": 13,
    "start_time": "2023-01-01T11:17:34.498Z"
   },
   {
    "duration": 0,
    "start_time": "2023-01-01T11:17:34.512Z"
   },
   {
    "duration": 0,
    "start_time": "2023-01-01T11:17:34.513Z"
   },
   {
    "duration": 0,
    "start_time": "2023-01-01T11:17:34.514Z"
   },
   {
    "duration": 9,
    "start_time": "2023-01-01T11:17:56.862Z"
   },
   {
    "duration": 9,
    "start_time": "2023-01-01T11:18:03.801Z"
   },
   {
    "duration": 39,
    "start_time": "2023-01-01T11:18:13.274Z"
   },
   {
    "duration": 41,
    "start_time": "2023-01-01T11:18:18.970Z"
   },
   {
    "duration": 59,
    "start_time": "2023-01-01T11:18:29.761Z"
   },
   {
    "duration": 37,
    "start_time": "2023-01-01T11:18:41.695Z"
   },
   {
    "duration": 1133,
    "start_time": "2023-01-01T11:19:47.239Z"
   },
   {
    "duration": 728,
    "start_time": "2023-01-01T11:19:48.374Z"
   },
   {
    "duration": 114,
    "start_time": "2023-01-01T11:19:49.104Z"
   },
   {
    "duration": 132,
    "start_time": "2023-01-01T11:19:49.220Z"
   },
   {
    "duration": 102,
    "start_time": "2023-01-01T11:19:49.354Z"
   },
   {
    "duration": 33,
    "start_time": "2023-01-01T11:19:49.457Z"
   },
   {
    "duration": 82,
    "start_time": "2023-01-01T11:19:49.492Z"
   },
   {
    "duration": 20,
    "start_time": "2023-01-01T11:19:49.575Z"
   },
   {
    "duration": 66,
    "start_time": "2023-01-01T11:19:49.597Z"
   },
   {
    "duration": 5,
    "start_time": "2023-01-01T11:19:49.665Z"
   },
   {
    "duration": 169,
    "start_time": "2023-01-01T11:19:49.671Z"
   },
   {
    "duration": 24,
    "start_time": "2023-01-01T11:19:49.842Z"
   },
   {
    "duration": 1576,
    "start_time": "2023-01-01T11:19:49.867Z"
   },
   {
    "duration": 427,
    "start_time": "2023-01-01T11:19:51.446Z"
   },
   {
    "duration": 27,
    "start_time": "2023-01-01T11:19:51.875Z"
   },
   {
    "duration": 213,
    "start_time": "2023-01-01T11:19:51.904Z"
   },
   {
    "duration": 1851,
    "start_time": "2023-01-01T11:19:52.118Z"
   },
   {
    "duration": 28,
    "start_time": "2023-01-01T11:19:53.971Z"
   },
   {
    "duration": 4,
    "start_time": "2023-01-01T11:19:54.001Z"
   },
   {
    "duration": 944,
    "start_time": "2023-01-01T11:19:54.007Z"
   },
   {
    "duration": 59,
    "start_time": "2023-01-01T11:19:54.954Z"
   },
   {
    "duration": 36,
    "start_time": "2023-01-01T11:19:55.015Z"
   },
   {
    "duration": 444,
    "start_time": "2023-01-01T11:19:55.053Z"
   },
   {
    "duration": 55,
    "start_time": "2023-01-01T11:19:55.499Z"
   },
   {
    "duration": 3,
    "start_time": "2023-01-01T11:19:55.556Z"
   },
   {
    "duration": 60,
    "start_time": "2023-01-01T11:19:55.561Z"
   },
   {
    "duration": 142,
    "start_time": "2023-01-01T11:19:55.623Z"
   },
   {
    "duration": 0,
    "start_time": "2023-01-01T11:19:55.767Z"
   },
   {
    "duration": 0,
    "start_time": "2023-01-01T11:19:55.768Z"
   },
   {
    "duration": 0,
    "start_time": "2023-01-01T11:19:55.769Z"
   },
   {
    "duration": 0,
    "start_time": "2023-01-01T11:19:55.770Z"
   },
   {
    "duration": 0,
    "start_time": "2023-01-01T11:19:55.771Z"
   },
   {
    "duration": 0,
    "start_time": "2023-01-01T11:19:55.772Z"
   },
   {
    "duration": 0,
    "start_time": "2023-01-01T11:19:55.773Z"
   },
   {
    "duration": 0,
    "start_time": "2023-01-01T11:19:55.774Z"
   },
   {
    "duration": 0,
    "start_time": "2023-01-01T11:19:55.775Z"
   },
   {
    "duration": 0,
    "start_time": "2023-01-01T11:19:55.776Z"
   },
   {
    "duration": 0,
    "start_time": "2023-01-01T11:19:55.776Z"
   },
   {
    "duration": 0,
    "start_time": "2023-01-01T11:19:55.778Z"
   },
   {
    "duration": 0,
    "start_time": "2023-01-01T11:19:55.779Z"
   },
   {
    "duration": 1194,
    "start_time": "2023-01-03T13:31:44.001Z"
   },
   {
    "duration": 1002,
    "start_time": "2023-01-03T13:31:45.197Z"
   },
   {
    "duration": 156,
    "start_time": "2023-01-03T13:31:46.201Z"
   },
   {
    "duration": 107,
    "start_time": "2023-01-03T13:31:46.360Z"
   },
   {
    "duration": 122,
    "start_time": "2023-01-03T13:31:46.469Z"
   },
   {
    "duration": 39,
    "start_time": "2023-01-03T13:31:46.592Z"
   },
   {
    "duration": 64,
    "start_time": "2023-01-03T13:31:46.632Z"
   },
   {
    "duration": 31,
    "start_time": "2023-01-03T13:31:46.697Z"
   },
   {
    "duration": 68,
    "start_time": "2023-01-03T13:31:46.729Z"
   },
   {
    "duration": 17,
    "start_time": "2023-01-03T13:31:46.799Z"
   },
   {
    "duration": 161,
    "start_time": "2023-01-03T13:31:46.817Z"
   },
   {
    "duration": 37,
    "start_time": "2023-01-03T13:31:46.979Z"
   },
   {
    "duration": 1743,
    "start_time": "2023-01-03T13:31:47.018Z"
   },
   {
    "duration": 425,
    "start_time": "2023-01-03T13:31:48.762Z"
   },
   {
    "duration": 29,
    "start_time": "2023-01-03T13:31:49.188Z"
   },
   {
    "duration": 60,
    "start_time": "2023-01-03T13:31:49.218Z"
   },
   {
    "duration": 3,
    "start_time": "2023-01-03T13:31:49.279Z"
   },
   {
    "duration": 6,
    "start_time": "2023-01-03T13:31:49.283Z"
   },
   {
    "duration": 6,
    "start_time": "2023-01-03T13:31:49.290Z"
   },
   {
    "duration": 10,
    "start_time": "2023-01-03T13:31:49.297Z"
   },
   {
    "duration": 1,
    "start_time": "2023-01-03T13:31:49.316Z"
   },
   {
    "duration": 67,
    "start_time": "2023-01-03T13:31:49.319Z"
   },
   {
    "duration": 3,
    "start_time": "2023-01-03T13:31:49.387Z"
   },
   {
    "duration": 274707,
    "start_time": "2023-01-03T13:31:49.392Z"
   },
   {
    "duration": 481,
    "start_time": "2023-01-03T13:36:24.101Z"
   },
   {
    "duration": 3,
    "start_time": "2023-01-03T13:36:24.583Z"
   },
   {
    "duration": 5,
    "start_time": "2023-01-03T13:36:24.588Z"
   },
   {
    "duration": 1376,
    "start_time": "2023-01-04T14:05:42.745Z"
   },
   {
    "duration": 3000,
    "start_time": "2023-01-04T14:05:44.123Z"
   },
   {
    "duration": 149,
    "start_time": "2023-01-04T14:05:47.125Z"
   },
   {
    "duration": 115,
    "start_time": "2023-01-04T14:05:47.278Z"
   },
   {
    "duration": 144,
    "start_time": "2023-01-04T14:05:47.396Z"
   },
   {
    "duration": 45,
    "start_time": "2023-01-04T14:05:47.542Z"
   },
   {
    "duration": 99,
    "start_time": "2023-01-04T14:05:47.590Z"
   },
   {
    "duration": 25,
    "start_time": "2023-01-04T14:05:47.691Z"
   },
   {
    "duration": 103,
    "start_time": "2023-01-04T14:05:47.718Z"
   },
   {
    "duration": 6,
    "start_time": "2023-01-04T14:05:47.824Z"
   },
   {
    "duration": 194,
    "start_time": "2023-01-04T14:05:47.831Z"
   },
   {
    "duration": 39,
    "start_time": "2023-01-04T14:05:48.027Z"
   },
   {
    "duration": 2341,
    "start_time": "2023-01-04T14:05:48.067Z"
   },
   {
    "duration": 533,
    "start_time": "2023-01-04T14:05:50.410Z"
   },
   {
    "duration": 33,
    "start_time": "2023-01-04T14:05:50.944Z"
   },
   {
    "duration": 83,
    "start_time": "2023-01-04T14:05:50.978Z"
   },
   {
    "duration": 3,
    "start_time": "2023-01-04T14:05:51.063Z"
   },
   {
    "duration": 16,
    "start_time": "2023-01-04T14:05:51.067Z"
   },
   {
    "duration": 9,
    "start_time": "2023-01-04T14:05:51.086Z"
   },
   {
    "duration": 10,
    "start_time": "2023-01-04T14:05:51.097Z"
   },
   {
    "duration": 11,
    "start_time": "2023-01-04T14:05:51.109Z"
   },
   {
    "duration": 116,
    "start_time": "2023-01-04T14:05:51.122Z"
   },
   {
    "duration": 4,
    "start_time": "2023-01-04T14:05:51.239Z"
   },
   {
    "duration": 258301,
    "start_time": "2023-01-04T14:05:51.250Z"
   },
   {
    "duration": 675,
    "start_time": "2023-01-04T14:10:09.553Z"
   },
   {
    "duration": 3,
    "start_time": "2023-01-04T14:10:10.230Z"
   },
   {
    "duration": 43,
    "start_time": "2023-01-04T14:10:10.235Z"
   },
   {
    "duration": 374598,
    "start_time": "2023-01-04T14:10:10.281Z"
   },
   {
    "duration": 4,
    "start_time": "2023-01-04T14:16:24.881Z"
   },
   {
    "duration": 7733,
    "start_time": "2023-01-04T14:16:24.887Z"
   },
   {
    "duration": 1155,
    "start_time": "2023-01-04T14:16:32.622Z"
   },
   {
    "duration": 6,
    "start_time": "2023-01-04T14:16:33.778Z"
   },
   {
    "duration": 4,
    "start_time": "2023-01-04T14:16:33.786Z"
   },
   {
    "duration": 13,
    "start_time": "2023-01-04T14:16:33.792Z"
   },
   {
    "duration": 11,
    "start_time": "2023-01-04T14:16:33.807Z"
   },
   {
    "duration": 7,
    "start_time": "2023-01-04T14:16:33.820Z"
   },
   {
    "duration": 425,
    "start_time": "2023-01-04T14:16:33.829Z"
   },
   {
    "duration": 278515,
    "start_time": "2023-01-04T14:16:34.256Z"
   },
   {
    "duration": 24978,
    "start_time": "2023-01-04T14:21:12.773Z"
   },
   {
    "duration": 6220,
    "start_time": "2023-01-04T14:21:37.752Z"
   }
  ],
  "kernelspec": {
   "display_name": "Python 3 (ipykernel)",
   "language": "python",
   "name": "python3"
  },
  "language_info": {
   "codemirror_mode": {
    "name": "ipython",
    "version": 3
   },
   "file_extension": ".py",
   "mimetype": "text/x-python",
   "name": "python",
   "nbconvert_exporter": "python",
   "pygments_lexer": "ipython3",
   "version": "3.9.5"
  },
  "toc": {
   "base_numbering": 1,
   "nav_menu": {},
   "number_sections": true,
   "sideBar": true,
   "skip_h1_title": true,
   "title_cell": "Table of Contents",
   "title_sidebar": "Contents",
   "toc_cell": false,
   "toc_position": {},
   "toc_section_display": true,
   "toc_window_display": false
  }
 },
 "nbformat": 4,
 "nbformat_minor": 2
}
