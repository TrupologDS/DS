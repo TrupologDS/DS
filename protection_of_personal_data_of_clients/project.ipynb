{
 "cells": [
  {
   "cell_type": "code",
   "execution_count": 1,
   "metadata": {},
   "outputs": [],
   "source": [
    "import pandas as pd\n",
    "import numpy as np\n",
    "import matplotlib.pyplot as plt\n",
    "from sklearn.linear_model import LinearRegression\n",
    "from sklearn.model_selection import train_test_split\n",
    "\n",
    "%matplotlib inline"
   ]
  },
  {
   "cell_type": "markdown",
   "metadata": {
    "toc": true
   },
   "source": [
    "<h1>Содержание<span class=\"tocSkip\"></span></h1>\n",
    "<div class=\"toc\"><ul class=\"toc-item\"><li><span><a href=\"#Загрузка-данных\" data-toc-modified-id=\"Загрузка-данных-1\"><span class=\"toc-item-num\">1&nbsp;&nbsp;</span>Загрузка данных</a></span></li><li><span><a href=\"#Умножение-матриц\" data-toc-modified-id=\"Умножение-матриц-2\"><span class=\"toc-item-num\">2&nbsp;&nbsp;</span>Умножение матриц</a></span></li><li><span><a href=\"#Алгоритм-преобразования\" data-toc-modified-id=\"Алгоритм-преобразования-3\"><span class=\"toc-item-num\">3&nbsp;&nbsp;</span>Алгоритм преобразования</a></span></li><li><span><a href=\"#Проверка-алгоритма\" data-toc-modified-id=\"Проверка-алгоритма-4\"><span class=\"toc-item-num\">4&nbsp;&nbsp;</span>Проверка алгоритма</a></span></li><li><span><a href=\"#Теперь-реализуем-собственный-алгоритм.\" data-toc-modified-id=\"Теперь-реализуем-собственный-алгоритм.-5\"><span class=\"toc-item-num\">5&nbsp;&nbsp;</span>Теперь реализуем собственный алгоритм.</a></span></li>"
   ]
  },
  {
   "cell_type": "markdown",
   "metadata": {},
   "source": [
    "# Защита персональных данных клиентов"
   ]
  },
  {
   "cell_type": "markdown",
   "metadata": {},
   "source": [
    "Нам нужно защитить данные клиентов страховой компании «Хоть потоп». Разработаем такой метод преобразования данных, чтобы по ним было сложно восстановить персональную информацию.\n",
    "\n",
    "Нужно защитить данные, чтобы при преобразовании качество моделей машинного обучения не ухудшилось."
   ]
  },
  {
   "cell_type": "markdown",
   "metadata": {},
   "source": [
    "## Загрузка данных"
   ]
  },
  {
   "cell_type": "markdown",
   "metadata": {},
   "source": [
    "Загрузим данные и посмотрим, имеются ли пропуски или данные столбцов приведены не к тому типу."
   ]
  },
  {
   "cell_type": "code",
   "execution_count": 2,
   "metadata": {},
   "outputs": [
    {
     "name": "stdout",
     "output_type": "stream",
     "text": [
      "<class 'pandas.core.frame.DataFrame'>\n",
      "RangeIndex: 5000 entries, 0 to 4999\n",
      "Data columns (total 5 columns):\n",
      " #   Column             Non-Null Count  Dtype  \n",
      "---  ------             --------------  -----  \n",
      " 0   Пол                5000 non-null   int64  \n",
      " 1   Возраст            5000 non-null   float64\n",
      " 2   Зарплата           5000 non-null   float64\n",
      " 3   Члены семьи        5000 non-null   int64  \n",
      " 4   Страховые выплаты  5000 non-null   int64  \n",
      "dtypes: float64(2), int64(3)\n",
      "memory usage: 195.4 KB\n"
     ]
    },
    {
     "data": {
      "text/html": [
       "<div>\n",
       "<style scoped>\n",
       "    .dataframe tbody tr th:only-of-type {\n",
       "        vertical-align: middle;\n",
       "    }\n",
       "\n",
       "    .dataframe tbody tr th {\n",
       "        vertical-align: top;\n",
       "    }\n",
       "\n",
       "    .dataframe thead th {\n",
       "        text-align: right;\n",
       "    }\n",
       "</style>\n",
       "<table border=\"1\" class=\"dataframe\">\n",
       "  <thead>\n",
       "    <tr style=\"text-align: right;\">\n",
       "      <th></th>\n",
       "      <th>Пол</th>\n",
       "      <th>Возраст</th>\n",
       "      <th>Зарплата</th>\n",
       "      <th>Члены семьи</th>\n",
       "      <th>Страховые выплаты</th>\n",
       "    </tr>\n",
       "  </thead>\n",
       "  <tbody>\n",
       "    <tr>\n",
       "      <th>count</th>\n",
       "      <td>5000.000000</td>\n",
       "      <td>5000.000000</td>\n",
       "      <td>5000.000000</td>\n",
       "      <td>5000.000000</td>\n",
       "      <td>5000.000000</td>\n",
       "    </tr>\n",
       "    <tr>\n",
       "      <th>mean</th>\n",
       "      <td>0.499000</td>\n",
       "      <td>30.952800</td>\n",
       "      <td>39916.360000</td>\n",
       "      <td>1.194200</td>\n",
       "      <td>0.148000</td>\n",
       "    </tr>\n",
       "    <tr>\n",
       "      <th>std</th>\n",
       "      <td>0.500049</td>\n",
       "      <td>8.440807</td>\n",
       "      <td>9900.083569</td>\n",
       "      <td>1.091387</td>\n",
       "      <td>0.463183</td>\n",
       "    </tr>\n",
       "    <tr>\n",
       "      <th>min</th>\n",
       "      <td>0.000000</td>\n",
       "      <td>18.000000</td>\n",
       "      <td>5300.000000</td>\n",
       "      <td>0.000000</td>\n",
       "      <td>0.000000</td>\n",
       "    </tr>\n",
       "    <tr>\n",
       "      <th>25%</th>\n",
       "      <td>0.000000</td>\n",
       "      <td>24.000000</td>\n",
       "      <td>33300.000000</td>\n",
       "      <td>0.000000</td>\n",
       "      <td>0.000000</td>\n",
       "    </tr>\n",
       "    <tr>\n",
       "      <th>50%</th>\n",
       "      <td>0.000000</td>\n",
       "      <td>30.000000</td>\n",
       "      <td>40200.000000</td>\n",
       "      <td>1.000000</td>\n",
       "      <td>0.000000</td>\n",
       "    </tr>\n",
       "    <tr>\n",
       "      <th>75%</th>\n",
       "      <td>1.000000</td>\n",
       "      <td>37.000000</td>\n",
       "      <td>46600.000000</td>\n",
       "      <td>2.000000</td>\n",
       "      <td>0.000000</td>\n",
       "    </tr>\n",
       "    <tr>\n",
       "      <th>max</th>\n",
       "      <td>1.000000</td>\n",
       "      <td>65.000000</td>\n",
       "      <td>79000.000000</td>\n",
       "      <td>6.000000</td>\n",
       "      <td>5.000000</td>\n",
       "    </tr>\n",
       "  </tbody>\n",
       "</table>\n",
       "</div>"
      ],
      "text/plain": [
       "               Пол      Возраст      Зарплата  Члены семьи  Страховые выплаты\n",
       "count  5000.000000  5000.000000   5000.000000  5000.000000        5000.000000\n",
       "mean      0.499000    30.952800  39916.360000     1.194200           0.148000\n",
       "std       0.500049     8.440807   9900.083569     1.091387           0.463183\n",
       "min       0.000000    18.000000   5300.000000     0.000000           0.000000\n",
       "25%       0.000000    24.000000  33300.000000     0.000000           0.000000\n",
       "50%       0.000000    30.000000  40200.000000     1.000000           0.000000\n",
       "75%       1.000000    37.000000  46600.000000     2.000000           0.000000\n",
       "max       1.000000    65.000000  79000.000000     6.000000           5.000000"
      ]
     },
     "execution_count": 2,
     "metadata": {},
     "output_type": "execute_result"
    }
   ],
   "source": [
    "try:\n",
    "    data = pd.read_csv('/datasets/insurance.csv')\n",
    "\n",
    "except:\n",
    "    data = pd.read_csv('https://code.s3.yandex.net/datasets/insurance.csv')\n",
    "\n",
    "data.info()\n",
    "data.describe()"
   ]
  },
  {
   "cell_type": "markdown",
   "metadata": {},
   "source": [
    "Повезло, данные в полном порядке и пропусков нет!"
   ]
  },
  {
   "cell_type": "markdown",
   "metadata": {},
   "source": [
    "## Умножение матриц"
   ]
  },
  {
   "cell_type": "markdown",
   "metadata": {},
   "source": [
    "Обозначения:\n",
    "\n",
    "- $X$ — матрица признаков (нулевой столбец состоит из единиц)\n",
    "\n",
    "- $y$ — вектор целевого признака\n",
    "\n",
    "- $P$ — матрица, на которую умножаются признаки\n",
    "\n",
    "- $w$ — вектор весов линейной регрессии (нулевой элемент равен сдвигу)"
   ]
  },
  {
   "cell_type": "markdown",
   "metadata": {},
   "source": [
    "Предсказания:\n",
    "\n",
    "$$\n",
    "a = Xw\n",
    "$$\n",
    "\n",
    "Задача обучения:\n",
    "\n",
    "$$\n",
    "w = \\arg\\min_w MSE(Xw, y)\n",
    "$$\n",
    "\n",
    "Формула обучения:\n",
    "\n",
    "$$\n",
    "w = (X^T X)^{-1} X^T y\n",
    "$$"
   ]
  },
  {
   "cell_type": "markdown",
   "metadata": {},
   "source": [
    "Проверим, измениться ли качество линейной регрессии, при умножении признаков на обратимую матрицу."
   ]
  },
  {
   "cell_type": "markdown",
   "metadata": {},
   "source": [
    "###### Шаг 1. Введем матрицу Z.\n",
    "Пусть Z - наша новая матрица $$Z = XP$$\n",
    "<br></br>\n",
    "###### Шаг 2. Выведем обновленную формулу для предсказания\n",
    "$$a1 = Zw = Z (Z^T Z)^{-1} Z^T y $$\n",
    "###### Шаг 3. Раскроем нашу матрицу Z\n",
    "$$a1 = XP ((XP)^{T} XP))^{-1} (XP)^T y$$\n",
    "###### Шаг 4. Преобразовываем выражения $$(XP)^T = P^T X^T$$и упрощаем\n",
    "$$a1 = XP(P^TX^TXP)^{-1} P^TX^T y$$\n",
    "$$a1 = XP (P)^{-1} (X^TX)^{-1} (P^T)^{-1} P^T X^T y$$\n",
    "сокращаем обратные друг другу выражения\n",
    "$$a1 = X(X^T X)^{-1} X^T y  $$\n",
    "###### Шаг 4. Сопоставляем\n",
    "$$a1 = a$$\n",
    "так как\n",
    "$$(X^T X)^{-1} X^T y = w$$\n",
    "по условию и $$Xw = X(X^T X)^{-1} X^T y$$\n",
    "Формула обучения не изменилась - качество линейной регрессии не изменится.\n"
   ]
  },
  {
   "cell_type": "markdown",
   "metadata": {},
   "source": [
    "## Алгоритм преобразования"
   ]
  },
  {
   "cell_type": "markdown",
   "metadata": {},
   "source": [
    "**Алгоритм**\n",
    "\n",
    "Алгоритм шифрования, суть которого умножить матрицу признаков на обратимую матрицу.\n",
    "<br></br>\n",
    "- Генерируем и фиксируем случайную квадратную матрицу в качестве ключа шифрования размером, равному количеству признаков, не учитывая целевой.\n",
    "<br></br>\n",
    "- Скалярно умножаем матрицу признаков на нашу обратимую квадратную матрицу, полученную в первом шаге.\n",
    "<br></br>\n",
    "- Используем полученное произведение в качестве features для разбития данных и обучения модели."
   ]
  },
  {
   "cell_type": "markdown",
   "metadata": {},
   "source": [
    "**Обоснование**\n",
    "\n",
    "Мы производим умножение каждого набора признаков из features на одинаковые наборы векторов (столбец - вектор) из квадратной обратимой матрицы и записываем их в новый вектор - строку. Соответственно итоговые веса каждого такого вектора будут равны весам набора признаков.\n",
    "\n",
    "В Пункте 2 мы уже доказали, почему качество не снизиться - выражения тождественны."
   ]
  },
  {
   "cell_type": "markdown",
   "metadata": {},
   "source": [
    "## Проверка алгоритма"
   ]
  },
  {
   "cell_type": "markdown",
   "metadata": {},
   "source": [
    "Обозначим целевой и нецелевые признаки. Как нам известно, целевым считается признак *Страховые выплаты*."
   ]
  },
  {
   "cell_type": "code",
   "execution_count": 3,
   "metadata": {},
   "outputs": [],
   "source": [
    "features = data.drop('Страховые выплаты', axis=1)\n",
    "target = data['Страховые выплаты']"
   ]
  },
  {
   "cell_type": "markdown",
   "metadata": {},
   "source": [
    "Разобьем данные на обучающую и тестовую выборки в соотношении 3:1."
   ]
  },
  {
   "cell_type": "code",
   "execution_count": 4,
   "metadata": {},
   "outputs": [],
   "source": [
    "features_train, features_test, target_train, target_test = train_test_split(features, target, test_size=0.2,\n",
    "                                                                            random_state=12345)"
   ]
  },
  {
   "cell_type": "markdown",
   "metadata": {},
   "source": [
    "Обучим модель и подсчитаем метрику *r2 score*.\n"
   ]
  },
  {
   "cell_type": "code",
   "execution_count": 5,
   "metadata": {},
   "outputs": [
    {
     "name": "stdout",
     "output_type": "stream",
     "text": [
      "R2 score =  0.41177\n"
     ]
    }
   ],
   "source": [
    "from sklearn.metrics import r2_score\n",
    "\n",
    "model = LinearRegression()\n",
    "model.fit(features_train, target_train)\n",
    "predictions = model.predict(features_test)\n",
    "print('R2 score = ', np.round(r2_score(y_true=target_test, y_pred=predictions), 5))"
   ]
  },
  {
   "cell_type": "markdown",
   "metadata": {},
   "source": [
    "## Теперь реализуем собственный алгоритм."
   ]
  },
  {
   "cell_type": "markdown",
   "metadata": {},
   "source": [
    "Создадим квадратную обратимую матрицу методом np.random.normal, при использовании этого метода вероятность получить необратимую матрицу близка к нулю.\n",
    "В size передадим размер признаков - 1, так как один из них целевой."
   ]
  },
  {
   "cell_type": "code",
   "execution_count": 6,
   "metadata": {},
   "outputs": [
    {
     "data": {
      "text/plain": [
       "array([[-0.12954955,  0.59662364,  0.1716113 , -0.9852623 ],\n",
       "       [ 0.26223839,  1.0747992 ,  0.28864125, -0.12068828],\n",
       "       [ 1.45375467, -0.25287972, -0.05163723,  0.78913095],\n",
       "       [-0.87614381,  1.52586754, -0.34181388, -0.34817173]])"
      ]
     },
     "execution_count": 6,
     "metadata": {},
     "output_type": "execute_result"
    }
   ],
   "source": [
    "square_matrix = np.random.normal(size=(data.shape[1] - 1, data.shape[1] - 1))\n",
    "square_matrix"
   ]
  },
  {
   "cell_type": "markdown",
   "metadata": {},
   "source": [
    "Здесь мы проверим, что получаем единичную матрицу при перемножении матрицы на её обратную."
   ]
  },
  {
   "cell_type": "code",
   "execution_count": 7,
   "metadata": {},
   "outputs": [
    {
     "data": {
      "text/plain": [
       "array([[ 1.00000000e+00, -1.79310772e-17,  3.16241951e-17,\n",
       "         3.14255638e-17],\n",
       "       [ 3.67417878e-17,  1.00000000e+00,  1.31002022e-16,\n",
       "         1.21128125e-16],\n",
       "       [-3.02125209e-16,  1.02331483e-17,  1.00000000e+00,\n",
       "        -2.95836171e-18],\n",
       "       [ 7.77510070e-17,  7.98418285e-17,  2.09903577e-17,\n",
       "         1.00000000e+00]])"
      ]
     },
     "execution_count": 7,
     "metadata": {},
     "output_type": "execute_result"
    }
   ],
   "source": [
    "inverse_square_matrix = np.linalg.inv(square_matrix)\n",
    "square_matrix @ inverse_square_matrix"
   ]
  },
  {
   "cell_type": "markdown",
   "metadata": {},
   "source": [
    "Создадим наши зашифрованные признаки путем скалярного умножения на обратимую матрицу."
   ]
  },
  {
   "cell_type": "code",
   "execution_count": 8,
   "metadata": {},
   "outputs": [],
   "source": [
    "new_features = features @ square_matrix"
   ]
  },
  {
   "cell_type": "markdown",
   "metadata": {},
   "source": [
    "Разбиваем данные."
   ]
  },
  {
   "cell_type": "code",
   "execution_count": 9,
   "metadata": {},
   "outputs": [],
   "source": [
    "new_features_train, new_features_test, new_target_train, new_target_test = train_test_split(new_features, target,\n",
    "                                                                                            test_size=0.2,\n",
    "                                                                                            random_state=12345)"
   ]
  },
  {
   "cell_type": "markdown",
   "metadata": {},
   "source": [
    "И наконец считаем метрику."
   ]
  },
  {
   "cell_type": "code",
   "execution_count": 10,
   "metadata": {},
   "outputs": [
    {
     "name": "stdout",
     "output_type": "stream",
     "text": [
      "R2 score =  0.41177\n"
     ]
    }
   ],
   "source": [
    "new_model = LinearRegression()\n",
    "new_model.fit(new_features_train, new_target_train)\n",
    "new_predictions = new_model.predict(new_features_test)\n",
    "print('R2 score = ', np.round(r2_score(y_true=new_target_test, y_pred=new_predictions), 5))"
   ]
  },
  {
   "cell_type": "markdown",
   "metadata": {},
   "source": [
    "Метрика Линейной Регрессии по умолчании и метрика с учетом нашим зашифрованных данных равны! То бишь наш алгоритм никак не повлиял на качество."
   ]
  },
  {
   "cell_type": "markdown",
   "metadata": {},
   "source": []
  },
  {
   "cell_type": "markdown",
   "metadata": {},
   "source": [
    "В данном проекте был проведен просмотр и анализ данных. Повезло - они были в полном порядке без пропусков и с правильным приведением типов. Далее был исследован вопрос, заключающийся в умножении признаков на обратимую матрицу, изменится ли качество линейной регрессии? Мы получили отрицательный ответ на вопрос доказав, что при обычном и в нашем вопросе формулы обучения тождественны, что говорит о том, что качество линейной регрессии не изменится, а вот данные как раз таки зашифруются. Далее использовали данный алгоритм и применили его на практике с нашими данными: проверили на Обычной Линейной Регрессии и с учетом умножения признаков на обратимую матрицу и как оказалось - метрика R2 Score - одинакова и составляет 0.41177 (без учета подбора гипперпараметров)."
   ]
  }
 ],
 "metadata": {
  "ExecuteTimeLog": [
   {
    "duration": 80,
    "start_time": "2022-12-15T12:14:08.118Z"
   },
   {
    "duration": 1795,
    "start_time": "2022-12-15T12:20:49.925Z"
   },
   {
    "duration": 107,
    "start_time": "2022-12-15T12:20:51.722Z"
   },
   {
    "duration": 0,
    "start_time": "2022-12-15T12:20:51.830Z"
   },
   {
    "duration": 0,
    "start_time": "2022-12-15T12:20:51.831Z"
   },
   {
    "duration": 0,
    "start_time": "2022-12-15T12:20:51.832Z"
   },
   {
    "duration": 0,
    "start_time": "2022-12-15T12:20:51.833Z"
   },
   {
    "duration": 0,
    "start_time": "2022-12-15T12:20:51.835Z"
   },
   {
    "duration": 0,
    "start_time": "2022-12-15T12:20:51.836Z"
   },
   {
    "duration": 0,
    "start_time": "2022-12-15T12:20:51.837Z"
   },
   {
    "duration": 0,
    "start_time": "2022-12-15T12:20:51.838Z"
   },
   {
    "duration": 1940,
    "start_time": "2022-12-15T12:21:41.062Z"
   },
   {
    "duration": 130,
    "start_time": "2022-12-15T12:21:43.004Z"
   },
   {
    "duration": 3,
    "start_time": "2022-12-15T12:21:43.136Z"
   },
   {
    "duration": 9,
    "start_time": "2022-12-15T12:21:43.141Z"
   },
   {
    "duration": 10,
    "start_time": "2022-12-15T12:21:43.152Z"
   },
   {
    "duration": 16,
    "start_time": "2022-12-15T12:21:43.164Z"
   },
   {
    "duration": 10,
    "start_time": "2022-12-15T12:21:43.182Z"
   },
   {
    "duration": 9,
    "start_time": "2022-12-15T12:21:43.194Z"
   },
   {
    "duration": 76,
    "start_time": "2022-12-15T12:21:43.205Z"
   },
   {
    "duration": 14,
    "start_time": "2022-12-15T12:21:43.283Z"
   },
   {
    "duration": 5,
    "start_time": "2022-12-15T14:20:01.871Z"
   },
   {
    "duration": 180,
    "start_time": "2022-12-15T14:20:04.006Z"
   },
   {
    "duration": 2171,
    "start_time": "2022-12-15T19:14:52.017Z"
   },
   {
    "duration": 136,
    "start_time": "2022-12-15T19:14:54.191Z"
   },
   {
    "duration": 5,
    "start_time": "2022-12-15T19:14:54.329Z"
   },
   {
    "duration": 15,
    "start_time": "2022-12-15T19:14:54.336Z"
   },
   {
    "duration": 13,
    "start_time": "2022-12-15T19:14:54.353Z"
   },
   {
    "duration": 6,
    "start_time": "2022-12-15T19:14:54.368Z"
   },
   {
    "duration": 9,
    "start_time": "2022-12-15T19:14:54.375Z"
   },
   {
    "duration": 66,
    "start_time": "2022-12-15T19:14:54.386Z"
   },
   {
    "duration": 5,
    "start_time": "2022-12-15T19:14:54.538Z"
   },
   {
    "duration": 10,
    "start_time": "2022-12-15T19:14:54.546Z"
   }
  ],
  "kernelspec": {
   "display_name": "Python 3 (ipykernel)",
   "language": "python",
   "name": "python3"
  },
  "language_info": {
   "codemirror_mode": {
    "name": "ipython",
    "version": 3
   },
   "file_extension": ".py",
   "mimetype": "text/x-python",
   "name": "python",
   "nbconvert_exporter": "python",
   "pygments_lexer": "ipython3",
   "version": "3.9.5"
  },
  "toc": {
   "base_numbering": 1,
   "nav_menu": {},
   "number_sections": true,
   "sideBar": true,
   "skip_h1_title": true,
   "title_cell": "Содержание",
   "title_sidebar": "Contents",
   "toc_cell": true,
   "toc_position": {},
   "toc_section_display": true,
   "toc_window_display": false
  }
 },
 "nbformat": 4,
 "nbformat_minor": 2
}
