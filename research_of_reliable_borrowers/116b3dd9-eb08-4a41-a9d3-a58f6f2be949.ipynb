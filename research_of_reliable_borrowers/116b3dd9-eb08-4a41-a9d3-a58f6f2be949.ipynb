{
 "cells": [
  {
   "cell_type": "markdown",
   "id": "08150862",
   "metadata": {},
   "source": [
    "<div class=\"alert alert-success\">\n",
    "<b> Комментарий от ревьюера 2 ✔️</b>\n",
    "\n",
    "Привет еще раз. Оформление комментариев по работе сохраняется. Только обозначим, что это вторая итерация. \n",
    "\n",
    "</div>"
   ]
  },
  {
   "cell_type": "markdown",
   "id": "648aa54e",
   "metadata": {},
   "source": [
    "<b>Комментарий от ревьюера</b>\n",
    "\n",
    "Привет! Меня зовут Ярослав Кальманов, я буду делать ревью твоего проекта. Давай будем общаться на «ты».\n",
    "\n",
    "Мои комментарии будут в ячейках \"Комментарий от ревьюера\".\n",
    "\n",
    "<div class=\"alert alert-danger\"> \n",
    "\n",
    "<b> Комментарий от ревьюера ❗</b>\n",
    "\n",
    "Красным цветом обозначены комментарии, на которые тебе нужно обратить внимание в первую очередь, чтобы я принял проект. \n",
    "</div>\n",
    "<div class=\"alert alert-warning\">\n",
    "\n",
    "<b> Комментарий от ревьюера ⚠️</b>\n",
    "\n",
    "Желтым цветом отмечено то, что ты можешь сделать немного по-другому. Ты можешь учесть эти комментарии при выполнении следующих проектов.\n",
    "</div>\n",
    "<div class=\"alert alert-success\">\n",
    "\n",
    "<b> Комментарий от ревьюера ✔️</b>\n",
    "\n",
    "Зелёным цветом обозначены твои удачные решения, которые ты без сомнения можешь применять в будущих проектах.  \n",
    "</div>\n",
    "\n",
    "Если ты вносишь изменения в проект по моим рекомендациям, указывай, пожалуйста, это в своих комментариях. Будет удобно, если обозначишь свои комментарии заметным цветом или поместишь \n",
    "\n",
    "<div class=\"alert alert-info\">\n",
    "    \n",
    "в такую ячейку\n",
    "</div>\n",
    "\n",
    "Давай при работе с проектом мы будем общаться с тобой в диалоге, поэтому не удаляй и не перемещай мои комментарии, это поможет мне сделать повторную  проверку проекта быстрее.\n",
    "___\n"
   ]
  },
  {
   "cell_type": "markdown",
   "id": "7c2099e0",
   "metadata": {
    "deletable": false,
    "editable": false,
    "id": "c81daeeb"
   },
   "source": [
    "# Исследование надежности заемщиков\n"
   ]
  },
  {
   "cell_type": "markdown",
   "id": "08fac3a9",
   "metadata": {
    "deletable": false,
    "editable": false,
    "id": "827c20bf"
   },
   "source": [
    "Во второй части проекта вы выполните шаги 3 и 4. Их вручную проверит ревьюер.\n",
    "Чтобы вам не пришлось писать код заново для шагов 1 и 2, мы добавили авторские решения в ячейки с кодом. \n",
    "\n"
   ]
  },
  {
   "cell_type": "markdown",
   "id": "c2b899f3",
   "metadata": {
    "deletable": false,
    "editable": false,
    "id": "744d7639"
   },
   "source": [
    "## Откройте таблицу и изучите общую информацию о данных"
   ]
  },
  {
   "cell_type": "markdown",
   "id": "795a2bf6",
   "metadata": {
    "deletable": false,
    "editable": false,
    "id": "e7a14c31"
   },
   "source": [
    "**Задание 1. Импортируйте библиотеку pandas. Считайте данные из csv-файла в датафрейм и сохраните в переменную `data`. Путь к файлу:**\n",
    "\n",
    "`/datasets/data.csv`"
   ]
  },
  {
   "cell_type": "code",
   "execution_count": 1,
   "id": "d3b9f552",
   "metadata": {
    "deletable": false,
    "id": "7bcf75c9"
   },
   "outputs": [],
   "source": [
    "import pandas as pd\n",
    "\n",
    "try:\n",
    "    data = pd.read_csv('/datasets/data.csv')\n",
    "except:\n",
    "    data = pd.read_csv('https://code.s3.yandex.net/datasets/data.csv')"
   ]
  },
  {
   "cell_type": "markdown",
   "id": "2240b6d3",
   "metadata": {
    "deletable": false,
    "editable": false,
    "id": "b8038fe3"
   },
   "source": [
    "**Задание 2. Выведите первые 20 строчек датафрейма `data` на экран.**"
   ]
  },
  {
   "cell_type": "code",
   "execution_count": 2,
   "id": "db7492b0",
   "metadata": {
    "deletable": false,
    "id": "2a7cab99",
    "outputId": "1a8f3ef2-d323-4ec2-ddf7-89670b5944c4"
   },
   "outputs": [
    {
     "data": {
      "text/html": [
       "<div>\n",
       "<style scoped>\n",
       "    .dataframe tbody tr th:only-of-type {\n",
       "        vertical-align: middle;\n",
       "    }\n",
       "\n",
       "    .dataframe tbody tr th {\n",
       "        vertical-align: top;\n",
       "    }\n",
       "\n",
       "    .dataframe thead th {\n",
       "        text-align: right;\n",
       "    }\n",
       "</style>\n",
       "<table border=\"1\" class=\"dataframe\">\n",
       "  <thead>\n",
       "    <tr style=\"text-align: right;\">\n",
       "      <th></th>\n",
       "      <th>children</th>\n",
       "      <th>days_employed</th>\n",
       "      <th>dob_years</th>\n",
       "      <th>education</th>\n",
       "      <th>education_id</th>\n",
       "      <th>family_status</th>\n",
       "      <th>family_status_id</th>\n",
       "      <th>gender</th>\n",
       "      <th>income_type</th>\n",
       "      <th>debt</th>\n",
       "      <th>total_income</th>\n",
       "      <th>purpose</th>\n",
       "    </tr>\n",
       "  </thead>\n",
       "  <tbody>\n",
       "    <tr>\n",
       "      <th>0</th>\n",
       "      <td>1</td>\n",
       "      <td>-8437.673028</td>\n",
       "      <td>42</td>\n",
       "      <td>высшее</td>\n",
       "      <td>0</td>\n",
       "      <td>женат / замужем</td>\n",
       "      <td>0</td>\n",
       "      <td>F</td>\n",
       "      <td>сотрудник</td>\n",
       "      <td>0</td>\n",
       "      <td>253875.639453</td>\n",
       "      <td>покупка жилья</td>\n",
       "    </tr>\n",
       "    <tr>\n",
       "      <th>1</th>\n",
       "      <td>1</td>\n",
       "      <td>-4024.803754</td>\n",
       "      <td>36</td>\n",
       "      <td>среднее</td>\n",
       "      <td>1</td>\n",
       "      <td>женат / замужем</td>\n",
       "      <td>0</td>\n",
       "      <td>F</td>\n",
       "      <td>сотрудник</td>\n",
       "      <td>0</td>\n",
       "      <td>112080.014102</td>\n",
       "      <td>приобретение автомобиля</td>\n",
       "    </tr>\n",
       "    <tr>\n",
       "      <th>2</th>\n",
       "      <td>0</td>\n",
       "      <td>-5623.422610</td>\n",
       "      <td>33</td>\n",
       "      <td>Среднее</td>\n",
       "      <td>1</td>\n",
       "      <td>женат / замужем</td>\n",
       "      <td>0</td>\n",
       "      <td>M</td>\n",
       "      <td>сотрудник</td>\n",
       "      <td>0</td>\n",
       "      <td>145885.952297</td>\n",
       "      <td>покупка жилья</td>\n",
       "    </tr>\n",
       "    <tr>\n",
       "      <th>3</th>\n",
       "      <td>3</td>\n",
       "      <td>-4124.747207</td>\n",
       "      <td>32</td>\n",
       "      <td>среднее</td>\n",
       "      <td>1</td>\n",
       "      <td>женат / замужем</td>\n",
       "      <td>0</td>\n",
       "      <td>M</td>\n",
       "      <td>сотрудник</td>\n",
       "      <td>0</td>\n",
       "      <td>267628.550329</td>\n",
       "      <td>дополнительное образование</td>\n",
       "    </tr>\n",
       "    <tr>\n",
       "      <th>4</th>\n",
       "      <td>0</td>\n",
       "      <td>340266.072047</td>\n",
       "      <td>53</td>\n",
       "      <td>среднее</td>\n",
       "      <td>1</td>\n",
       "      <td>гражданский брак</td>\n",
       "      <td>1</td>\n",
       "      <td>F</td>\n",
       "      <td>пенсионер</td>\n",
       "      <td>0</td>\n",
       "      <td>158616.077870</td>\n",
       "      <td>сыграть свадьбу</td>\n",
       "    </tr>\n",
       "    <tr>\n",
       "      <th>5</th>\n",
       "      <td>0</td>\n",
       "      <td>-926.185831</td>\n",
       "      <td>27</td>\n",
       "      <td>высшее</td>\n",
       "      <td>0</td>\n",
       "      <td>гражданский брак</td>\n",
       "      <td>1</td>\n",
       "      <td>M</td>\n",
       "      <td>компаньон</td>\n",
       "      <td>0</td>\n",
       "      <td>255763.565419</td>\n",
       "      <td>покупка жилья</td>\n",
       "    </tr>\n",
       "    <tr>\n",
       "      <th>6</th>\n",
       "      <td>0</td>\n",
       "      <td>-2879.202052</td>\n",
       "      <td>43</td>\n",
       "      <td>высшее</td>\n",
       "      <td>0</td>\n",
       "      <td>женат / замужем</td>\n",
       "      <td>0</td>\n",
       "      <td>F</td>\n",
       "      <td>компаньон</td>\n",
       "      <td>0</td>\n",
       "      <td>240525.971920</td>\n",
       "      <td>операции с жильем</td>\n",
       "    </tr>\n",
       "    <tr>\n",
       "      <th>7</th>\n",
       "      <td>0</td>\n",
       "      <td>-152.779569</td>\n",
       "      <td>50</td>\n",
       "      <td>СРЕДНЕЕ</td>\n",
       "      <td>1</td>\n",
       "      <td>женат / замужем</td>\n",
       "      <td>0</td>\n",
       "      <td>M</td>\n",
       "      <td>сотрудник</td>\n",
       "      <td>0</td>\n",
       "      <td>135823.934197</td>\n",
       "      <td>образование</td>\n",
       "    </tr>\n",
       "    <tr>\n",
       "      <th>8</th>\n",
       "      <td>2</td>\n",
       "      <td>-6929.865299</td>\n",
       "      <td>35</td>\n",
       "      <td>ВЫСШЕЕ</td>\n",
       "      <td>0</td>\n",
       "      <td>гражданский брак</td>\n",
       "      <td>1</td>\n",
       "      <td>F</td>\n",
       "      <td>сотрудник</td>\n",
       "      <td>0</td>\n",
       "      <td>95856.832424</td>\n",
       "      <td>на проведение свадьбы</td>\n",
       "    </tr>\n",
       "    <tr>\n",
       "      <th>9</th>\n",
       "      <td>0</td>\n",
       "      <td>-2188.756445</td>\n",
       "      <td>41</td>\n",
       "      <td>среднее</td>\n",
       "      <td>1</td>\n",
       "      <td>женат / замужем</td>\n",
       "      <td>0</td>\n",
       "      <td>M</td>\n",
       "      <td>сотрудник</td>\n",
       "      <td>0</td>\n",
       "      <td>144425.938277</td>\n",
       "      <td>покупка жилья для семьи</td>\n",
       "    </tr>\n",
       "    <tr>\n",
       "      <th>10</th>\n",
       "      <td>2</td>\n",
       "      <td>-4171.483647</td>\n",
       "      <td>36</td>\n",
       "      <td>высшее</td>\n",
       "      <td>0</td>\n",
       "      <td>женат / замужем</td>\n",
       "      <td>0</td>\n",
       "      <td>M</td>\n",
       "      <td>компаньон</td>\n",
       "      <td>0</td>\n",
       "      <td>113943.491460</td>\n",
       "      <td>покупка недвижимости</td>\n",
       "    </tr>\n",
       "    <tr>\n",
       "      <th>11</th>\n",
       "      <td>0</td>\n",
       "      <td>-792.701887</td>\n",
       "      <td>40</td>\n",
       "      <td>среднее</td>\n",
       "      <td>1</td>\n",
       "      <td>женат / замужем</td>\n",
       "      <td>0</td>\n",
       "      <td>F</td>\n",
       "      <td>сотрудник</td>\n",
       "      <td>0</td>\n",
       "      <td>77069.234271</td>\n",
       "      <td>покупка коммерческой недвижимости</td>\n",
       "    </tr>\n",
       "    <tr>\n",
       "      <th>12</th>\n",
       "      <td>0</td>\n",
       "      <td>NaN</td>\n",
       "      <td>65</td>\n",
       "      <td>среднее</td>\n",
       "      <td>1</td>\n",
       "      <td>гражданский брак</td>\n",
       "      <td>1</td>\n",
       "      <td>M</td>\n",
       "      <td>пенсионер</td>\n",
       "      <td>0</td>\n",
       "      <td>NaN</td>\n",
       "      <td>сыграть свадьбу</td>\n",
       "    </tr>\n",
       "    <tr>\n",
       "      <th>13</th>\n",
       "      <td>0</td>\n",
       "      <td>-1846.641941</td>\n",
       "      <td>54</td>\n",
       "      <td>неоконченное высшее</td>\n",
       "      <td>2</td>\n",
       "      <td>женат / замужем</td>\n",
       "      <td>0</td>\n",
       "      <td>F</td>\n",
       "      <td>сотрудник</td>\n",
       "      <td>0</td>\n",
       "      <td>130458.228857</td>\n",
       "      <td>приобретение автомобиля</td>\n",
       "    </tr>\n",
       "    <tr>\n",
       "      <th>14</th>\n",
       "      <td>0</td>\n",
       "      <td>-1844.956182</td>\n",
       "      <td>56</td>\n",
       "      <td>высшее</td>\n",
       "      <td>0</td>\n",
       "      <td>гражданский брак</td>\n",
       "      <td>1</td>\n",
       "      <td>F</td>\n",
       "      <td>компаньон</td>\n",
       "      <td>1</td>\n",
       "      <td>165127.911772</td>\n",
       "      <td>покупка жилой недвижимости</td>\n",
       "    </tr>\n",
       "    <tr>\n",
       "      <th>15</th>\n",
       "      <td>1</td>\n",
       "      <td>-972.364419</td>\n",
       "      <td>26</td>\n",
       "      <td>среднее</td>\n",
       "      <td>1</td>\n",
       "      <td>женат / замужем</td>\n",
       "      <td>0</td>\n",
       "      <td>F</td>\n",
       "      <td>сотрудник</td>\n",
       "      <td>0</td>\n",
       "      <td>116820.904450</td>\n",
       "      <td>строительство собственной недвижимости</td>\n",
       "    </tr>\n",
       "    <tr>\n",
       "      <th>16</th>\n",
       "      <td>0</td>\n",
       "      <td>-1719.934226</td>\n",
       "      <td>35</td>\n",
       "      <td>среднее</td>\n",
       "      <td>1</td>\n",
       "      <td>женат / замужем</td>\n",
       "      <td>0</td>\n",
       "      <td>F</td>\n",
       "      <td>сотрудник</td>\n",
       "      <td>0</td>\n",
       "      <td>289202.704229</td>\n",
       "      <td>недвижимость</td>\n",
       "    </tr>\n",
       "    <tr>\n",
       "      <th>17</th>\n",
       "      <td>0</td>\n",
       "      <td>-2369.999720</td>\n",
       "      <td>33</td>\n",
       "      <td>высшее</td>\n",
       "      <td>0</td>\n",
       "      <td>гражданский брак</td>\n",
       "      <td>1</td>\n",
       "      <td>M</td>\n",
       "      <td>сотрудник</td>\n",
       "      <td>0</td>\n",
       "      <td>90410.586745</td>\n",
       "      <td>строительство недвижимости</td>\n",
       "    </tr>\n",
       "    <tr>\n",
       "      <th>18</th>\n",
       "      <td>0</td>\n",
       "      <td>400281.136913</td>\n",
       "      <td>53</td>\n",
       "      <td>среднее</td>\n",
       "      <td>1</td>\n",
       "      <td>вдовец / вдова</td>\n",
       "      <td>2</td>\n",
       "      <td>F</td>\n",
       "      <td>пенсионер</td>\n",
       "      <td>0</td>\n",
       "      <td>56823.777243</td>\n",
       "      <td>на покупку подержанного автомобиля</td>\n",
       "    </tr>\n",
       "    <tr>\n",
       "      <th>19</th>\n",
       "      <td>0</td>\n",
       "      <td>-10038.818549</td>\n",
       "      <td>48</td>\n",
       "      <td>СРЕДНЕЕ</td>\n",
       "      <td>1</td>\n",
       "      <td>в разводе</td>\n",
       "      <td>3</td>\n",
       "      <td>F</td>\n",
       "      <td>сотрудник</td>\n",
       "      <td>0</td>\n",
       "      <td>242831.107982</td>\n",
       "      <td>на покупку своего автомобиля</td>\n",
       "    </tr>\n",
       "  </tbody>\n",
       "</table>\n",
       "</div>"
      ],
      "text/plain": [
       "    children  days_employed  dob_years            education  education_id  \\\n",
       "0          1   -8437.673028         42               высшее             0   \n",
       "1          1   -4024.803754         36              среднее             1   \n",
       "2          0   -5623.422610         33              Среднее             1   \n",
       "3          3   -4124.747207         32              среднее             1   \n",
       "4          0  340266.072047         53              среднее             1   \n",
       "5          0    -926.185831         27               высшее             0   \n",
       "6          0   -2879.202052         43               высшее             0   \n",
       "7          0    -152.779569         50              СРЕДНЕЕ             1   \n",
       "8          2   -6929.865299         35               ВЫСШЕЕ             0   \n",
       "9          0   -2188.756445         41              среднее             1   \n",
       "10         2   -4171.483647         36               высшее             0   \n",
       "11         0    -792.701887         40              среднее             1   \n",
       "12         0            NaN         65              среднее             1   \n",
       "13         0   -1846.641941         54  неоконченное высшее             2   \n",
       "14         0   -1844.956182         56               высшее             0   \n",
       "15         1    -972.364419         26              среднее             1   \n",
       "16         0   -1719.934226         35              среднее             1   \n",
       "17         0   -2369.999720         33               высшее             0   \n",
       "18         0  400281.136913         53              среднее             1   \n",
       "19         0  -10038.818549         48              СРЕДНЕЕ             1   \n",
       "\n",
       "       family_status  family_status_id gender income_type  debt  \\\n",
       "0    женат / замужем                 0      F   сотрудник     0   \n",
       "1    женат / замужем                 0      F   сотрудник     0   \n",
       "2    женат / замужем                 0      M   сотрудник     0   \n",
       "3    женат / замужем                 0      M   сотрудник     0   \n",
       "4   гражданский брак                 1      F   пенсионер     0   \n",
       "5   гражданский брак                 1      M   компаньон     0   \n",
       "6    женат / замужем                 0      F   компаньон     0   \n",
       "7    женат / замужем                 0      M   сотрудник     0   \n",
       "8   гражданский брак                 1      F   сотрудник     0   \n",
       "9    женат / замужем                 0      M   сотрудник     0   \n",
       "10   женат / замужем                 0      M   компаньон     0   \n",
       "11   женат / замужем                 0      F   сотрудник     0   \n",
       "12  гражданский брак                 1      M   пенсионер     0   \n",
       "13   женат / замужем                 0      F   сотрудник     0   \n",
       "14  гражданский брак                 1      F   компаньон     1   \n",
       "15   женат / замужем                 0      F   сотрудник     0   \n",
       "16   женат / замужем                 0      F   сотрудник     0   \n",
       "17  гражданский брак                 1      M   сотрудник     0   \n",
       "18    вдовец / вдова                 2      F   пенсионер     0   \n",
       "19         в разводе                 3      F   сотрудник     0   \n",
       "\n",
       "     total_income                                 purpose  \n",
       "0   253875.639453                           покупка жилья  \n",
       "1   112080.014102                 приобретение автомобиля  \n",
       "2   145885.952297                           покупка жилья  \n",
       "3   267628.550329              дополнительное образование  \n",
       "4   158616.077870                         сыграть свадьбу  \n",
       "5   255763.565419                           покупка жилья  \n",
       "6   240525.971920                       операции с жильем  \n",
       "7   135823.934197                             образование  \n",
       "8    95856.832424                   на проведение свадьбы  \n",
       "9   144425.938277                 покупка жилья для семьи  \n",
       "10  113943.491460                    покупка недвижимости  \n",
       "11   77069.234271       покупка коммерческой недвижимости  \n",
       "12            NaN                         сыграть свадьбу  \n",
       "13  130458.228857                 приобретение автомобиля  \n",
       "14  165127.911772              покупка жилой недвижимости  \n",
       "15  116820.904450  строительство собственной недвижимости  \n",
       "16  289202.704229                            недвижимость  \n",
       "17   90410.586745              строительство недвижимости  \n",
       "18   56823.777243      на покупку подержанного автомобиля  \n",
       "19  242831.107982            на покупку своего автомобиля  "
      ]
     },
     "execution_count": 2,
     "metadata": {},
     "output_type": "execute_result"
    }
   ],
   "source": [
    "data.head(20)"
   ]
  },
  {
   "cell_type": "markdown",
   "id": "8b3db0eb",
   "metadata": {
    "deletable": false,
    "editable": false,
    "id": "1c12e233"
   },
   "source": [
    "**Задание 3. Выведите основную информацию о датафрейме с помощью метода `info()`.**"
   ]
  },
  {
   "cell_type": "code",
   "execution_count": 3,
   "id": "41dc3ad3",
   "metadata": {
    "deletable": false,
    "id": "2b757bca",
    "outputId": "15376089-8dad-46c9-b520-c05248d43158"
   },
   "outputs": [
    {
     "name": "stdout",
     "output_type": "stream",
     "text": [
      "<class 'pandas.core.frame.DataFrame'>\n",
      "RangeIndex: 21525 entries, 0 to 21524\n",
      "Data columns (total 12 columns):\n",
      " #   Column            Non-Null Count  Dtype  \n",
      "---  ------            --------------  -----  \n",
      " 0   children          21525 non-null  int64  \n",
      " 1   days_employed     19351 non-null  float64\n",
      " 2   dob_years         21525 non-null  int64  \n",
      " 3   education         21525 non-null  object \n",
      " 4   education_id      21525 non-null  int64  \n",
      " 5   family_status     21525 non-null  object \n",
      " 6   family_status_id  21525 non-null  int64  \n",
      " 7   gender            21525 non-null  object \n",
      " 8   income_type       21525 non-null  object \n",
      " 9   debt              21525 non-null  int64  \n",
      " 10  total_income      19351 non-null  float64\n",
      " 11  purpose           21525 non-null  object \n",
      "dtypes: float64(2), int64(5), object(5)\n",
      "memory usage: 2.0+ MB\n"
     ]
    }
   ],
   "source": [
    "data.info()"
   ]
  },
  {
   "cell_type": "markdown",
   "id": "e601d609",
   "metadata": {
    "deletable": false,
    "editable": false,
    "id": "333ec665"
   },
   "source": [
    "## Предобработка данных"
   ]
  },
  {
   "cell_type": "markdown",
   "id": "5b3b1d8f",
   "metadata": {
    "deletable": false,
    "editable": false,
    "id": "02d92d53"
   },
   "source": [
    "### Удаление пропусков"
   ]
  },
  {
   "cell_type": "markdown",
   "id": "352e2c6b",
   "metadata": {
    "deletable": false,
    "editable": false,
    "id": "cd84967c"
   },
   "source": [
    "**Задание 4. Выведите количество пропущенных значений для каждого столбца. Используйте комбинацию двух методов.**"
   ]
  },
  {
   "cell_type": "code",
   "execution_count": 4,
   "id": "5959ca47",
   "metadata": {
    "deletable": false,
    "id": "7f9b2309",
    "outputId": "81f4d817-781c-465c-ed15-91ce4446810d"
   },
   "outputs": [
    {
     "data": {
      "text/plain": [
       "children               0\n",
       "days_employed       2174\n",
       "dob_years              0\n",
       "education              0\n",
       "education_id           0\n",
       "family_status          0\n",
       "family_status_id       0\n",
       "gender                 0\n",
       "income_type            0\n",
       "debt                   0\n",
       "total_income        2174\n",
       "purpose                0\n",
       "dtype: int64"
      ]
     },
     "execution_count": 4,
     "metadata": {},
     "output_type": "execute_result"
    }
   ],
   "source": [
    "data.isna().sum()"
   ]
  },
  {
   "cell_type": "markdown",
   "id": "d7911d35",
   "metadata": {
    "deletable": false,
    "editable": false,
    "id": "db86e27b"
   },
   "source": [
    "**Задание 5. В двух столбцах есть пропущенные значения. Один из них — `days_employed`. Пропуски в этом столбце вы обработаете на следующем этапе. Другой столбец с пропущенными значениями — `total_income` — хранит данные о доходах. На сумму дохода сильнее всего влияет тип занятости, поэтому заполнить пропуски в этом столбце нужно медианным значением по каждому типу из столбца `income_type`. Например, у человека с типом занятости `сотрудник` пропуск в столбце `total_income` должен быть заполнен медианным доходом среди всех записей с тем же типом.**"
   ]
  },
  {
   "cell_type": "code",
   "execution_count": 5,
   "id": "ccd00c31",
   "metadata": {
    "deletable": false,
    "id": "42006a93"
   },
   "outputs": [
    {
     "data": {
      "text/html": [
       "<div>\n",
       "<style scoped>\n",
       "    .dataframe tbody tr th:only-of-type {\n",
       "        vertical-align: middle;\n",
       "    }\n",
       "\n",
       "    .dataframe tbody tr th {\n",
       "        vertical-align: top;\n",
       "    }\n",
       "\n",
       "    .dataframe thead th {\n",
       "        text-align: right;\n",
       "    }\n",
       "</style>\n",
       "<table border=\"1\" class=\"dataframe\">\n",
       "  <thead>\n",
       "    <tr style=\"text-align: right;\">\n",
       "      <th></th>\n",
       "      <th>children</th>\n",
       "      <th>days_employed</th>\n",
       "      <th>dob_years</th>\n",
       "      <th>education</th>\n",
       "      <th>education_id</th>\n",
       "      <th>family_status</th>\n",
       "      <th>family_status_id</th>\n",
       "      <th>gender</th>\n",
       "      <th>income_type</th>\n",
       "      <th>debt</th>\n",
       "      <th>total_income</th>\n",
       "      <th>purpose</th>\n",
       "    </tr>\n",
       "  </thead>\n",
       "  <tbody>\n",
       "    <tr>\n",
       "      <th>12</th>\n",
       "      <td>0</td>\n",
       "      <td>NaN</td>\n",
       "      <td>65</td>\n",
       "      <td>среднее</td>\n",
       "      <td>1</td>\n",
       "      <td>гражданский брак</td>\n",
       "      <td>1</td>\n",
       "      <td>M</td>\n",
       "      <td>пенсионер</td>\n",
       "      <td>0</td>\n",
       "      <td>NaN</td>\n",
       "      <td>сыграть свадьбу</td>\n",
       "    </tr>\n",
       "    <tr>\n",
       "      <th>26</th>\n",
       "      <td>0</td>\n",
       "      <td>NaN</td>\n",
       "      <td>41</td>\n",
       "      <td>среднее</td>\n",
       "      <td>1</td>\n",
       "      <td>женат / замужем</td>\n",
       "      <td>0</td>\n",
       "      <td>M</td>\n",
       "      <td>госслужащий</td>\n",
       "      <td>0</td>\n",
       "      <td>NaN</td>\n",
       "      <td>образование</td>\n",
       "    </tr>\n",
       "    <tr>\n",
       "      <th>29</th>\n",
       "      <td>0</td>\n",
       "      <td>NaN</td>\n",
       "      <td>63</td>\n",
       "      <td>среднее</td>\n",
       "      <td>1</td>\n",
       "      <td>Не женат / не замужем</td>\n",
       "      <td>4</td>\n",
       "      <td>F</td>\n",
       "      <td>пенсионер</td>\n",
       "      <td>0</td>\n",
       "      <td>NaN</td>\n",
       "      <td>строительство жилой недвижимости</td>\n",
       "    </tr>\n",
       "    <tr>\n",
       "      <th>41</th>\n",
       "      <td>0</td>\n",
       "      <td>NaN</td>\n",
       "      <td>50</td>\n",
       "      <td>среднее</td>\n",
       "      <td>1</td>\n",
       "      <td>женат / замужем</td>\n",
       "      <td>0</td>\n",
       "      <td>F</td>\n",
       "      <td>госслужащий</td>\n",
       "      <td>0</td>\n",
       "      <td>NaN</td>\n",
       "      <td>сделка с подержанным автомобилем</td>\n",
       "    </tr>\n",
       "    <tr>\n",
       "      <th>55</th>\n",
       "      <td>0</td>\n",
       "      <td>NaN</td>\n",
       "      <td>54</td>\n",
       "      <td>среднее</td>\n",
       "      <td>1</td>\n",
       "      <td>гражданский брак</td>\n",
       "      <td>1</td>\n",
       "      <td>F</td>\n",
       "      <td>пенсионер</td>\n",
       "      <td>1</td>\n",
       "      <td>NaN</td>\n",
       "      <td>сыграть свадьбу</td>\n",
       "    </tr>\n",
       "    <tr>\n",
       "      <th>...</th>\n",
       "      <td>...</td>\n",
       "      <td>...</td>\n",
       "      <td>...</td>\n",
       "      <td>...</td>\n",
       "      <td>...</td>\n",
       "      <td>...</td>\n",
       "      <td>...</td>\n",
       "      <td>...</td>\n",
       "      <td>...</td>\n",
       "      <td>...</td>\n",
       "      <td>...</td>\n",
       "      <td>...</td>\n",
       "    </tr>\n",
       "    <tr>\n",
       "      <th>21489</th>\n",
       "      <td>2</td>\n",
       "      <td>NaN</td>\n",
       "      <td>47</td>\n",
       "      <td>Среднее</td>\n",
       "      <td>1</td>\n",
       "      <td>женат / замужем</td>\n",
       "      <td>0</td>\n",
       "      <td>M</td>\n",
       "      <td>компаньон</td>\n",
       "      <td>0</td>\n",
       "      <td>NaN</td>\n",
       "      <td>сделка с автомобилем</td>\n",
       "    </tr>\n",
       "    <tr>\n",
       "      <th>21495</th>\n",
       "      <td>1</td>\n",
       "      <td>NaN</td>\n",
       "      <td>50</td>\n",
       "      <td>среднее</td>\n",
       "      <td>1</td>\n",
       "      <td>гражданский брак</td>\n",
       "      <td>1</td>\n",
       "      <td>F</td>\n",
       "      <td>сотрудник</td>\n",
       "      <td>0</td>\n",
       "      <td>NaN</td>\n",
       "      <td>свадьба</td>\n",
       "    </tr>\n",
       "    <tr>\n",
       "      <th>21497</th>\n",
       "      <td>0</td>\n",
       "      <td>NaN</td>\n",
       "      <td>48</td>\n",
       "      <td>ВЫСШЕЕ</td>\n",
       "      <td>0</td>\n",
       "      <td>женат / замужем</td>\n",
       "      <td>0</td>\n",
       "      <td>F</td>\n",
       "      <td>компаньон</td>\n",
       "      <td>0</td>\n",
       "      <td>NaN</td>\n",
       "      <td>строительство недвижимости</td>\n",
       "    </tr>\n",
       "    <tr>\n",
       "      <th>21502</th>\n",
       "      <td>1</td>\n",
       "      <td>NaN</td>\n",
       "      <td>42</td>\n",
       "      <td>среднее</td>\n",
       "      <td>1</td>\n",
       "      <td>женат / замужем</td>\n",
       "      <td>0</td>\n",
       "      <td>F</td>\n",
       "      <td>сотрудник</td>\n",
       "      <td>0</td>\n",
       "      <td>NaN</td>\n",
       "      <td>строительство жилой недвижимости</td>\n",
       "    </tr>\n",
       "    <tr>\n",
       "      <th>21510</th>\n",
       "      <td>2</td>\n",
       "      <td>NaN</td>\n",
       "      <td>28</td>\n",
       "      <td>среднее</td>\n",
       "      <td>1</td>\n",
       "      <td>женат / замужем</td>\n",
       "      <td>0</td>\n",
       "      <td>F</td>\n",
       "      <td>сотрудник</td>\n",
       "      <td>0</td>\n",
       "      <td>NaN</td>\n",
       "      <td>приобретение автомобиля</td>\n",
       "    </tr>\n",
       "  </tbody>\n",
       "</table>\n",
       "<p>2174 rows × 12 columns</p>\n",
       "</div>"
      ],
      "text/plain": [
       "       children  days_employed  dob_years education  education_id  \\\n",
       "12            0            NaN         65   среднее             1   \n",
       "26            0            NaN         41   среднее             1   \n",
       "29            0            NaN         63   среднее             1   \n",
       "41            0            NaN         50   среднее             1   \n",
       "55            0            NaN         54   среднее             1   \n",
       "...         ...            ...        ...       ...           ...   \n",
       "21489         2            NaN         47   Среднее             1   \n",
       "21495         1            NaN         50   среднее             1   \n",
       "21497         0            NaN         48    ВЫСШЕЕ             0   \n",
       "21502         1            NaN         42   среднее             1   \n",
       "21510         2            NaN         28   среднее             1   \n",
       "\n",
       "               family_status  family_status_id gender  income_type  debt  \\\n",
       "12          гражданский брак                 1      M    пенсионер     0   \n",
       "26           женат / замужем                 0      M  госслужащий     0   \n",
       "29     Не женат / не замужем                 4      F    пенсионер     0   \n",
       "41           женат / замужем                 0      F  госслужащий     0   \n",
       "55          гражданский брак                 1      F    пенсионер     1   \n",
       "...                      ...               ...    ...          ...   ...   \n",
       "21489        женат / замужем                 0      M    компаньон     0   \n",
       "21495       гражданский брак                 1      F    сотрудник     0   \n",
       "21497        женат / замужем                 0      F    компаньон     0   \n",
       "21502        женат / замужем                 0      F    сотрудник     0   \n",
       "21510        женат / замужем                 0      F    сотрудник     0   \n",
       "\n",
       "       total_income                           purpose  \n",
       "12              NaN                   сыграть свадьбу  \n",
       "26              NaN                       образование  \n",
       "29              NaN  строительство жилой недвижимости  \n",
       "41              NaN  сделка с подержанным автомобилем  \n",
       "55              NaN                   сыграть свадьбу  \n",
       "...             ...                               ...  \n",
       "21489           NaN              сделка с автомобилем  \n",
       "21495           NaN                           свадьба  \n",
       "21497           NaN        строительство недвижимости  \n",
       "21502           NaN  строительство жилой недвижимости  \n",
       "21510           NaN           приобретение автомобиля  \n",
       "\n",
       "[2174 rows x 12 columns]"
      ]
     },
     "metadata": {},
     "output_type": "display_data"
    }
   ],
   "source": [
    "display(data[data['total_income'].isna()])\n",
    "for t in data['income_type'].unique():\n",
    "    data.loc[(data['income_type'] == t) & (data['total_income'].isna()), 'total_income'] = \\\n",
    "    data.loc[(data['income_type'] == t), 'total_income'].median()"
   ]
  },
  {
   "cell_type": "markdown",
   "id": "5963aee7",
   "metadata": {
    "deletable": false,
    "editable": false,
    "id": "89da5ece"
   },
   "source": [
    "### Обработка аномальных значений"
   ]
  },
  {
   "cell_type": "markdown",
   "id": "cbd4f3c1",
   "metadata": {
    "deletable": false,
    "editable": false,
    "id": "57964554"
   },
   "source": [
    "**Задание 6. В данных могут встречаться артефакты (аномалии) — значения, которые не отражают действительность и появились по какой-то ошибке. таким артефактом будет отрицательное количество дней трудового стажа в столбце `days_employed`. Для реальных данных это нормально. Обработайте значения в этом столбце: замените все отрицательные значения положительными с помощью метода `abs()`.**"
   ]
  },
  {
   "cell_type": "code",
   "execution_count": 6,
   "id": "997951de",
   "metadata": {
    "deletable": false,
    "id": "f6f055bf"
   },
   "outputs": [],
   "source": [
    "data['days_employed'] = data['days_employed'].abs()"
   ]
  },
  {
   "cell_type": "markdown",
   "id": "8459ff0a",
   "metadata": {
    "deletable": false,
    "editable": false,
    "id": "6107dd2f"
   },
   "source": [
    "**Задание 7. Для каждого типа занятости выведите медианное значение трудового стажа `days_employed` в днях.**"
   ]
  },
  {
   "cell_type": "code",
   "execution_count": 7,
   "id": "5fa2f9bc",
   "metadata": {
    "deletable": false,
    "id": "85a5faf6",
    "outputId": "801ef80e-522b-4668-f34e-565af7432bcf"
   },
   "outputs": [
    {
     "data": {
      "text/plain": [
       "income_type\n",
       "безработный        366413.652744\n",
       "в декрете            3296.759962\n",
       "госслужащий          2689.368353\n",
       "компаньон            1547.382223\n",
       "пенсионер          365213.306266\n",
       "предприниматель       520.848083\n",
       "сотрудник            1574.202821\n",
       "студент               578.751554\n",
       "Name: days_employed, dtype: float64"
      ]
     },
     "execution_count": 7,
     "metadata": {},
     "output_type": "execute_result"
    }
   ],
   "source": [
    "data.groupby('income_type')['days_employed'].agg('median')"
   ]
  },
  {
   "cell_type": "markdown",
   "id": "2c80a187",
   "metadata": {
    "deletable": false,
    "editable": false,
    "id": "38d1a030"
   },
   "source": [
    "У двух типов (безработные и пенсионеры) получатся аномально большие значения. Исправить такие значения сложно, поэтому оставьте их как есть. Тем более этот столбец не понадобится вам для исследования."
   ]
  },
  {
   "cell_type": "markdown",
   "id": "e6a6d025",
   "metadata": {
    "deletable": false,
    "editable": false,
    "id": "d8a9f147"
   },
   "source": [
    "**Задание 8. Выведите перечень уникальных значений столбца `children`.**"
   ]
  },
  {
   "cell_type": "code",
   "execution_count": 8,
   "id": "cc27b2e9",
   "metadata": {
    "deletable": false,
    "id": "ef5056eb",
    "outputId": "6975b15c-7f95-4697-d16d-a0c79b657b03"
   },
   "outputs": [
    {
     "data": {
      "text/plain": [
       "array([ 1,  0,  3,  2, -1,  4, 20,  5])"
      ]
     },
     "execution_count": 8,
     "metadata": {},
     "output_type": "execute_result"
    }
   ],
   "source": [
    "data['children'].unique()"
   ]
  },
  {
   "cell_type": "markdown",
   "id": "41d4afe8",
   "metadata": {
    "deletable": false,
    "editable": false,
    "id": "40b9ebf2"
   },
   "source": [
    "**Задание 9. В столбце `children` есть два аномальных значения. Удалите строки, в которых встречаются такие аномальные значения из датафрейма `data`.**"
   ]
  },
  {
   "cell_type": "code",
   "execution_count": 9,
   "id": "042522a0",
   "metadata": {
    "deletable": false,
    "id": "3ff9801d"
   },
   "outputs": [],
   "source": [
    "data = data[(data['children'] != -1) & (data['children'] != 20)]"
   ]
  },
  {
   "cell_type": "markdown",
   "id": "69630241",
   "metadata": {
    "deletable": false,
    "editable": false,
    "id": "bbc4d0ce"
   },
   "source": [
    "**Задание 10. Ещё раз выведите перечень уникальных значений столбца `children`, чтобы убедиться, что артефакты удалены.**"
   ]
  },
  {
   "cell_type": "code",
   "execution_count": 10,
   "id": "b0821300",
   "metadata": {
    "deletable": false,
    "id": "ad4fa8b7",
    "outputId": "b2097101-d49d-44d9-901b-32a65c9463d1"
   },
   "outputs": [
    {
     "data": {
      "text/plain": [
       "array([1, 0, 3, 2, 4, 5])"
      ]
     },
     "execution_count": 10,
     "metadata": {},
     "output_type": "execute_result"
    }
   ],
   "source": [
    "data['children'].unique()"
   ]
  },
  {
   "cell_type": "markdown",
   "id": "ad51d893",
   "metadata": {
    "deletable": false,
    "editable": false,
    "id": "75440b63"
   },
   "source": [
    "### Удаление пропусков (продолжение)"
   ]
  },
  {
   "cell_type": "markdown",
   "id": "1b6f27df",
   "metadata": {
    "deletable": false,
    "editable": false,
    "id": "f4ea573f"
   },
   "source": [
    "**Задание 11. Заполните пропуски в столбце `days_employed` медианными значениями по каждого типа занятости `income_type`.**"
   ]
  },
  {
   "cell_type": "code",
   "execution_count": 11,
   "id": "fd84a969",
   "metadata": {
    "deletable": false,
    "id": "af6b1a7e"
   },
   "outputs": [],
   "source": [
    "for t in data['income_type'].unique():\n",
    "    data.loc[(data['income_type'] == t) & (data['days_employed'].isna()), 'days_employed'] = \\\n",
    "    data.loc[(data['income_type'] == t), 'days_employed'].median()"
   ]
  },
  {
   "cell_type": "markdown",
   "id": "51f9f115",
   "metadata": {
    "deletable": false,
    "editable": false,
    "id": "2753f40d"
   },
   "source": [
    "**Задание 12. Убедитесь, что все пропуски заполнены. Проверьте себя и ещё раз выведите количество пропущенных значений для каждого столбца с помощью двух методов.**"
   ]
  },
  {
   "cell_type": "code",
   "execution_count": 12,
   "id": "2ff4df85",
   "metadata": {
    "deletable": false,
    "id": "55f78bc2",
    "outputId": "8da1e4e1-358e-4e87-98c9-f261bce0a7b2"
   },
   "outputs": [
    {
     "data": {
      "text/plain": [
       "children            0\n",
       "days_employed       0\n",
       "dob_years           0\n",
       "education           0\n",
       "education_id        0\n",
       "family_status       0\n",
       "family_status_id    0\n",
       "gender              0\n",
       "income_type         0\n",
       "debt                0\n",
       "total_income        0\n",
       "purpose             0\n",
       "dtype: int64"
      ]
     },
     "execution_count": 12,
     "metadata": {},
     "output_type": "execute_result"
    }
   ],
   "source": [
    "data.isna().sum()"
   ]
  },
  {
   "cell_type": "markdown",
   "id": "5b6999ef",
   "metadata": {
    "deletable": false,
    "editable": false,
    "id": "ddc81e43"
   },
   "source": [
    "### Изменение типов данных"
   ]
  },
  {
   "cell_type": "markdown",
   "id": "b22731e1",
   "metadata": {
    "deletable": false,
    "editable": false,
    "id": "42d19d24"
   },
   "source": [
    "**Задание 13. Замените вещественный тип данных в столбце `total_income` на целочисленный с помощью метода `astype()`.**"
   ]
  },
  {
   "cell_type": "code",
   "execution_count": 13,
   "id": "8dec2a82",
   "metadata": {
    "deletable": false,
    "id": "920b65ad"
   },
   "outputs": [],
   "source": [
    "data['total_income'] = data['total_income'].astype(int)"
   ]
  },
  {
   "cell_type": "markdown",
   "id": "19cb801b",
   "metadata": {
    "deletable": false,
    "editable": false,
    "id": "80c420ba"
   },
   "source": [
    "### Обработка дубликатов"
   ]
  },
  {
   "cell_type": "markdown",
   "id": "2ffa2167",
   "metadata": {
    "deletable": false,
    "editable": false
   },
   "source": [
    "**Задание 14. Обработайте неявные дубликаты в столбце `education`. В этом столбце есть одни и те же значения, но записанные по-разному: с использованием заглавных и строчных букв. Приведите их к нижнему регистру. Проверьте остальные столбцы.**"
   ]
  },
  {
   "cell_type": "code",
   "execution_count": 14,
   "id": "26730cb2",
   "metadata": {
    "deletable": false
   },
   "outputs": [],
   "source": [
    "data['education'] = data['education'].str.lower()"
   ]
  },
  {
   "cell_type": "markdown",
   "id": "a49dc58c",
   "metadata": {
    "deletable": false,
    "editable": false,
    "id": "dc587695"
   },
   "source": [
    "**Задание 15. Выведите на экран количество строк-дубликатов в данных. Если такие строки присутствуют, удалите их.**"
   ]
  },
  {
   "cell_type": "code",
   "execution_count": 15,
   "id": "01a8d0a1",
   "metadata": {
    "deletable": false,
    "id": "3ee445e4",
    "outputId": "9684deba-1934-42d1-99e1-cda61740f822"
   },
   "outputs": [
    {
     "data": {
      "text/plain": [
       "71"
      ]
     },
     "execution_count": 15,
     "metadata": {},
     "output_type": "execute_result"
    }
   ],
   "source": [
    "data.duplicated().sum()"
   ]
  },
  {
   "cell_type": "code",
   "execution_count": 16,
   "id": "e81e8f6d",
   "metadata": {
    "deletable": false,
    "id": "8575fe05"
   },
   "outputs": [],
   "source": [
    "data = data.drop_duplicates()"
   ]
  },
  {
   "cell_type": "markdown",
   "id": "615cf45c",
   "metadata": {
    "deletable": false,
    "editable": false,
    "id": "9904cf55"
   },
   "source": [
    "### Категоризация данных"
   ]
  },
  {
   "cell_type": "markdown",
   "id": "d1f94dbd",
   "metadata": {
    "deletable": false,
    "editable": false,
    "id": "72fcc8a2"
   },
   "source": [
    "**Задание 16. На основании диапазонов, указанных ниже, создайте в датафрейме `data` столбец `total_income_category` с категориями:**\n",
    "\n",
    "- 0–30000 — `'E'`;\n",
    "- 30001–50000 — `'D'`;\n",
    "- 50001–200000 — `'C'`;\n",
    "- 200001–1000000 — `'B'`;\n",
    "- 1000001 и выше — `'A'`.\n",
    "\n",
    "\n",
    "**Например, кредитополучателю с доходом 25000 нужно назначить категорию `'E'`, а клиенту, получающему 235000, — `'B'`. Используйте собственную функцию с именем `categorize_income()` и метод `apply()`.**"
   ]
  },
  {
   "cell_type": "code",
   "execution_count": 17,
   "id": "64177b83",
   "metadata": {
    "deletable": false,
    "id": "e1771346"
   },
   "outputs": [],
   "source": [
    "def categorize_income(income):\n",
    "    try:\n",
    "        if 0 <= income <= 30000:\n",
    "            return 'E'\n",
    "        elif 30001 <= income <= 50000:\n",
    "            return 'D'\n",
    "        elif 50001 <= income <= 200000:\n",
    "            return 'C'\n",
    "        elif 200001 <= income <= 1000000:\n",
    "            return 'B'\n",
    "        elif income >= 1000001:\n",
    "            return 'A'\n",
    "    except:\n",
    "        pass"
   ]
  },
  {
   "cell_type": "code",
   "execution_count": 18,
   "id": "ef88629e",
   "metadata": {
    "deletable": false,
    "id": "d5f3586d"
   },
   "outputs": [],
   "source": [
    "data['total_income_category'] = data['total_income'].apply(categorize_income)"
   ]
  },
  {
   "cell_type": "markdown",
   "id": "2ef12eb8",
   "metadata": {
    "deletable": false,
    "editable": false,
    "id": "dde49b5c"
   },
   "source": [
    "**Задание 17. Выведите на экран перечень уникальных целей взятия кредита из столбца `purpose`.**"
   ]
  },
  {
   "cell_type": "code",
   "execution_count": 19,
   "id": "5cdb98d6",
   "metadata": {
    "deletable": false,
    "id": "f67ce9b3",
    "outputId": "673c12d9-7d7e-4ae0-9812-c622c89dd244"
   },
   "outputs": [
    {
     "data": {
      "text/plain": [
       "array(['покупка жилья', 'приобретение автомобиля',\n",
       "       'дополнительное образование', 'сыграть свадьбу',\n",
       "       'операции с жильем', 'образование', 'на проведение свадьбы',\n",
       "       'покупка жилья для семьи', 'покупка недвижимости',\n",
       "       'покупка коммерческой недвижимости', 'покупка жилой недвижимости',\n",
       "       'строительство собственной недвижимости', 'недвижимость',\n",
       "       'строительство недвижимости', 'на покупку подержанного автомобиля',\n",
       "       'на покупку своего автомобиля',\n",
       "       'операции с коммерческой недвижимостью',\n",
       "       'строительство жилой недвижимости', 'жилье',\n",
       "       'операции со своей недвижимостью', 'автомобили',\n",
       "       'заняться образованием', 'сделка с подержанным автомобилем',\n",
       "       'получение образования', 'автомобиль', 'свадьба',\n",
       "       'получение дополнительного образования', 'покупка своего жилья',\n",
       "       'операции с недвижимостью', 'получение высшего образования',\n",
       "       'свой автомобиль', 'сделка с автомобилем',\n",
       "       'профильное образование', 'высшее образование',\n",
       "       'покупка жилья для сдачи', 'на покупку автомобиля', 'ремонт жилью',\n",
       "       'заняться высшим образованием'], dtype=object)"
      ]
     },
     "execution_count": 19,
     "metadata": {},
     "output_type": "execute_result"
    }
   ],
   "source": [
    "data['purpose'].unique()"
   ]
  },
  {
   "cell_type": "markdown",
   "id": "ef11ecf4",
   "metadata": {
    "deletable": false,
    "editable": false,
    "id": "85d0aef0"
   },
   "source": [
    "**Задание 18. Создайте функцию, которая на основании данных из столбца `purpose` сформирует новый столбец `purpose_category`, в который войдут следующие категории:**\n",
    "\n",
    "- `'операции с автомобилем'`,\n",
    "- `'операции с недвижимостью'`,\n",
    "- `'проведение свадьбы'`,\n",
    "- `'получение образования'`.\n",
    "\n",
    "**Например, если в столбце `purpose` находится подстрока `'на покупку автомобиля'`, то в столбце `purpose_category` должна появиться строка `'операции с автомобилем'`.**\n",
    "\n",
    "**Используйте собственную функцию с именем `categorize_purpose()` и метод `apply()`. Изучите данные в столбце `purpose` и определите, какие подстроки помогут вам правильно определить категорию.**"
   ]
  },
  {
   "cell_type": "code",
   "execution_count": 20,
   "id": "358482a3",
   "metadata": {
    "deletable": false,
    "id": "e149fab4"
   },
   "outputs": [],
   "source": [
    "def categorize_purpose(row):\n",
    "    try:\n",
    "        if 'автом' in row:\n",
    "            return 'операции с автомобилем'\n",
    "        elif 'жил' in row or 'недвиж' in row:\n",
    "            return 'операции с недвижимостью'\n",
    "        elif 'свад' in row:\n",
    "            return 'проведение свадьбы'\n",
    "        elif 'образов' in row:\n",
    "            return 'получение образования'\n",
    "    except:\n",
    "        return 'нет категории'"
   ]
  },
  {
   "cell_type": "code",
   "execution_count": 21,
   "id": "e74d6b1f",
   "metadata": {
    "deletable": false,
    "id": "bf36e69b"
   },
   "outputs": [],
   "source": [
    "data['purpose_category'] = data['purpose'].apply(categorize_purpose)"
   ]
  },
  {
   "cell_type": "markdown",
   "id": "28503f49",
   "metadata": {
    "deletable": false,
    "editable": false,
    "id": "09b242bf"
   },
   "source": [
    "### Шаг 3. Исследуйте данные и ответьте на вопросы"
   ]
  },
  {
   "cell_type": "markdown",
   "id": "3cddeab6",
   "metadata": {
    "deletable": false,
    "editable": false,
    "id": "c5d66278"
   },
   "source": [
    "#### 3.1 Есть ли зависимость между количеством детей и возвратом кредита в срок?"
   ]
  },
  {
   "cell_type": "markdown",
   "id": "00280b58",
   "metadata": {},
   "source": []
  },
  {
   "cell_type": "code",
   "execution_count": null,
   "id": "4a0212e1",
   "metadata": {
    "deletable": false,
    "id": "2cacfc4a"
   },
   "outputs": [],
   "source": []
  },
  {
   "cell_type": "markdown",
   "id": "56546fa2",
   "metadata": {},
   "source": []
  },
  {
   "cell_type": "markdown",
   "id": "ed441791",
   "metadata": {},
   "source": []
  },
  {
   "cell_type": "markdown",
   "id": "7e27d63c",
   "metadata": {
    "deletable": false,
    "id": "3a6b99ec"
   },
   "source": []
  },
  {
   "cell_type": "markdown",
   "id": "0b6009ba",
   "metadata": {
    "deletable": false,
    "editable": false,
    "id": "97be82ca"
   },
   "source": [
    "#### 3.2 Есть ли зависимость между семейным положением и возвратом кредита в срок?"
   ]
  },
  {
   "cell_type": "code",
   "execution_count": null,
   "id": "c8e2eabc",
   "metadata": {
    "deletable": false,
    "id": "dc3f7ee8"
   },
   "outputs": [],
   "source": []
  },
  {
   "cell_type": "markdown",
   "id": "484191c9",
   "metadata": {
    "deletable": false,
    "id": "1cef7837"
   },
   "source": []
  },
  {
   "cell_type": "markdown",
   "id": "e41bf1da",
   "metadata": {
    "deletable": false,
    "editable": false,
    "id": "1e8b2fca"
   },
   "source": [
    "#### 3.3 Есть ли зависимость между уровнем дохода и возвратом кредита в срок?"
   ]
  },
  {
   "cell_type": "code",
   "execution_count": null,
   "id": "c8be1ba2",
   "metadata": {
    "deletable": false,
    "id": "cd7e3720"
   },
   "outputs": [],
   "source": []
  },
  {
   "cell_type": "markdown",
   "id": "8a85cd72",
   "metadata": {
    "deletable": false,
    "id": "e8593def"
   },
   "source": []
  },
  {
   "cell_type": "markdown",
   "id": "7977396d",
   "metadata": {
    "deletable": false,
    "editable": false,
    "id": "99ecbd1f"
   },
   "source": [
    "#### 3.4 Как разные цели кредита влияют на его возврат в срок?"
   ]
  },
  {
   "cell_type": "code",
   "execution_count": null,
   "id": "0e79414c",
   "metadata": {
    "deletable": false,
    "id": "2b687290",
    "scrolled": true
   },
   "outputs": [],
   "source": []
  },
  {
   "cell_type": "markdown",
   "id": "0d08f890",
   "metadata": {
    "deletable": false,
    "id": "b4bb2ce6"
   },
   "source": []
  },
  {
   "cell_type": "markdown",
   "id": "8456b4ad",
   "metadata": {
    "deletable": false,
    "editable": false,
    "id": "09c3ac4c"
   },
   "source": [
    "#### 3.5 Приведите возможные причины появления пропусков в исходных данных."
   ]
  },
  {
   "cell_type": "markdown",
   "id": "0030c849",
   "metadata": {},
   "source": []
  },
  {
   "cell_type": "markdown",
   "id": "7a8be4b2",
   "metadata": {
    "deletable": false,
    "id": "9da2ceda"
   },
   "source": []
  },
  {
   "cell_type": "markdown",
   "id": "8e571ff4",
   "metadata": {
    "deletable": false,
    "editable": false,
    "id": "7b0487d6"
   },
   "source": [
    "#### 3.6 Объясните, почему заполнить пропуски медианным значением — лучшее решение для количественных переменных."
   ]
  },
  {
   "cell_type": "markdown",
   "id": "b56c36b7",
   "metadata": {},
   "source": []
  },
  {
   "cell_type": "markdown",
   "id": "61f1496e",
   "metadata": {
    "deletable": false,
    "id": "7ecf2b8e"
   },
   "source": []
  },
  {
   "cell_type": "markdown",
   "id": "6836fb90",
   "metadata": {
    "deletable": false,
    "editable": false,
    "id": "6db5255a"
   },
   "source": [
    "### Шаг 4: общий вывод."
   ]
  },
  {
   "cell_type": "markdown",
   "id": "aaf84d8a",
   "metadata": {},
   "source": []
  },
  {
   "cell_type": "markdown",
   "id": "c2ec19dc",
   "metadata": {
    "deletable": false,
    "id": "bad65432"
   },
   "source": []
  }
 ],
 "metadata": {
  "ExecuteTimeLog": [
   {
    "duration": 442,
    "start_time": "2022-08-12T17:48:12.274Z"
   },
   {
    "duration": 24,
    "start_time": "2022-08-12T17:48:12.718Z"
   },
   {
    "duration": 19,
    "start_time": "2022-08-12T17:48:12.744Z"
   },
   {
    "duration": 21,
    "start_time": "2022-08-12T17:48:12.764Z"
   },
   {
    "duration": 42,
    "start_time": "2022-08-12T17:48:12.788Z"
   },
   {
    "duration": 3,
    "start_time": "2022-08-12T17:48:12.831Z"
   },
   {
    "duration": 32,
    "start_time": "2022-08-12T17:48:12.835Z"
   },
   {
    "duration": 8,
    "start_time": "2022-08-12T17:48:12.869Z"
   },
   {
    "duration": 9,
    "start_time": "2022-08-12T17:48:12.879Z"
   },
   {
    "duration": 4,
    "start_time": "2022-08-12T17:48:12.889Z"
   },
   {
    "duration": 28,
    "start_time": "2022-08-12T17:48:12.895Z"
   },
   {
    "duration": 8,
    "start_time": "2022-08-12T17:48:12.925Z"
   },
   {
    "duration": 10,
    "start_time": "2022-08-12T17:48:12.954Z"
   },
   {
    "duration": 19,
    "start_time": "2022-08-12T17:48:12.966Z"
   },
   {
    "duration": 20,
    "start_time": "2022-08-12T17:48:12.987Z"
   },
   {
    "duration": 16,
    "start_time": "2022-08-12T17:48:13.009Z"
   },
   {
    "duration": 3,
    "start_time": "2022-08-12T17:48:13.026Z"
   },
   {
    "duration": 35,
    "start_time": "2022-08-12T17:48:13.030Z"
   },
   {
    "duration": 10,
    "start_time": "2022-08-12T17:48:13.066Z"
   },
   {
    "duration": 3,
    "start_time": "2022-08-12T17:48:13.078Z"
   },
   {
    "duration": 10,
    "start_time": "2022-08-12T17:48:13.082Z"
   },
   {
    "duration": 55,
    "start_time": "2022-08-12T17:53:46.079Z"
   },
   {
    "duration": 14,
    "start_time": "2022-08-12T17:53:52.617Z"
   },
   {
    "duration": 36,
    "start_time": "2022-08-12T17:54:42.748Z"
   },
   {
    "duration": 6,
    "start_time": "2022-08-12T17:55:18.028Z"
   },
   {
    "duration": 7,
    "start_time": "2022-08-12T17:55:22.826Z"
   },
   {
    "duration": 11,
    "start_time": "2022-08-12T17:55:37.313Z"
   },
   {
    "duration": 6,
    "start_time": "2022-08-12T17:55:42.615Z"
   },
   {
    "duration": 7,
    "start_time": "2022-08-12T17:55:58.293Z"
   },
   {
    "duration": 8,
    "start_time": "2022-08-12T17:56:03.108Z"
   },
   {
    "duration": 16,
    "start_time": "2022-08-12T17:56:06.652Z"
   },
   {
    "duration": 11,
    "start_time": "2022-08-12T17:57:14.237Z"
   },
   {
    "duration": 11,
    "start_time": "2022-08-12T17:57:26.686Z"
   },
   {
    "duration": 8,
    "start_time": "2022-08-12T17:57:46.898Z"
   },
   {
    "duration": 15,
    "start_time": "2022-08-12T18:01:49.283Z"
   },
   {
    "duration": 19,
    "start_time": "2022-08-12T18:01:53.880Z"
   },
   {
    "duration": 14,
    "start_time": "2022-08-12T18:02:06.368Z"
   },
   {
    "duration": 20,
    "start_time": "2022-08-12T18:05:19.396Z"
   },
   {
    "duration": 28,
    "start_time": "2022-08-12T18:05:35.652Z"
   },
   {
    "duration": 23,
    "start_time": "2022-08-12T18:06:20.988Z"
   },
   {
    "duration": 23,
    "start_time": "2022-08-12T18:06:51.351Z"
   },
   {
    "duration": 20,
    "start_time": "2022-08-12T18:06:57.849Z"
   },
   {
    "duration": 15,
    "start_time": "2022-08-12T18:07:07.168Z"
   },
   {
    "duration": 16,
    "start_time": "2022-08-12T18:07:18.987Z"
   },
   {
    "duration": 22,
    "start_time": "2022-08-12T18:09:19.571Z"
   },
   {
    "duration": 27,
    "start_time": "2022-08-12T18:09:24.637Z"
   },
   {
    "duration": 22,
    "start_time": "2022-08-12T18:09:40.827Z"
   },
   {
    "duration": 17,
    "start_time": "2022-08-12T18:09:47.670Z"
   },
   {
    "duration": 16,
    "start_time": "2022-08-12T18:09:53.007Z"
   },
   {
    "duration": 23,
    "start_time": "2022-08-12T18:13:12.348Z"
   },
   {
    "duration": 17,
    "start_time": "2022-08-12T18:13:27.072Z"
   },
   {
    "duration": 15,
    "start_time": "2022-08-12T18:13:40.814Z"
   },
   {
    "duration": 73,
    "start_time": "2022-08-12T18:18:48.468Z"
   },
   {
    "duration": 71,
    "start_time": "2022-08-12T18:19:05.598Z"
   },
   {
    "duration": 15,
    "start_time": "2022-08-12T18:19:05.671Z"
   },
   {
    "duration": 17,
    "start_time": "2022-08-12T18:19:05.687Z"
   },
   {
    "duration": 10,
    "start_time": "2022-08-12T18:19:05.706Z"
   },
   {
    "duration": 65,
    "start_time": "2022-08-12T18:19:05.718Z"
   },
   {
    "duration": 3,
    "start_time": "2022-08-12T18:19:05.784Z"
   },
   {
    "duration": 10,
    "start_time": "2022-08-12T18:19:05.788Z"
   },
   {
    "duration": 10,
    "start_time": "2022-08-12T18:19:05.799Z"
   },
   {
    "duration": 16,
    "start_time": "2022-08-12T18:19:05.810Z"
   },
   {
    "duration": 9,
    "start_time": "2022-08-12T18:19:05.828Z"
   },
   {
    "duration": 42,
    "start_time": "2022-08-12T18:19:05.838Z"
   },
   {
    "duration": 9,
    "start_time": "2022-08-12T18:19:05.881Z"
   },
   {
    "duration": 4,
    "start_time": "2022-08-12T18:19:05.891Z"
   },
   {
    "duration": 11,
    "start_time": "2022-08-12T18:19:05.896Z"
   },
   {
    "duration": 18,
    "start_time": "2022-08-12T18:19:05.908Z"
   },
   {
    "duration": 47,
    "start_time": "2022-08-12T18:19:05.928Z"
   },
   {
    "duration": 4,
    "start_time": "2022-08-12T18:19:05.976Z"
   },
   {
    "duration": 15,
    "start_time": "2022-08-12T18:19:05.981Z"
   },
   {
    "duration": 7,
    "start_time": "2022-08-12T18:19:05.997Z"
   },
   {
    "duration": 3,
    "start_time": "2022-08-12T18:19:06.005Z"
   },
   {
    "duration": 9,
    "start_time": "2022-08-12T18:19:06.010Z"
   },
   {
    "duration": 86,
    "start_time": "2022-08-12T18:19:06.992Z"
   },
   {
    "duration": 82,
    "start_time": "2022-08-12T18:19:12.971Z"
   },
   {
    "duration": 86,
    "start_time": "2022-08-12T18:19:24.404Z"
   },
   {
    "duration": 78,
    "start_time": "2022-08-12T18:19:33.962Z"
   },
   {
    "duration": 1316,
    "start_time": "2022-08-12T18:19:41.982Z"
   },
   {
    "duration": 1390,
    "start_time": "2022-08-12T18:19:46.533Z"
   },
   {
    "duration": 63,
    "start_time": "2022-08-12T18:19:56.208Z"
   },
   {
    "duration": 9,
    "start_time": "2022-08-12T18:25:28.252Z"
   },
   {
    "duration": 15,
    "start_time": "2022-08-12T18:25:35.952Z"
   },
   {
    "duration": 21,
    "start_time": "2022-08-12T18:25:51.886Z"
   },
   {
    "duration": 29,
    "start_time": "2022-08-12T18:27:36.502Z"
   },
   {
    "duration": 38,
    "start_time": "2022-08-12T18:27:47.251Z"
   },
   {
    "duration": 22,
    "start_time": "2022-08-12T18:28:00.605Z"
   },
   {
    "duration": 20,
    "start_time": "2022-08-12T18:28:11.562Z"
   },
   {
    "duration": 25,
    "start_time": "2022-08-12T18:28:44.272Z"
   },
   {
    "duration": 25,
    "start_time": "2022-08-12T18:28:50.850Z"
   },
   {
    "duration": 31,
    "start_time": "2022-08-12T18:29:33.315Z"
   },
   {
    "duration": 21,
    "start_time": "2022-08-12T18:36:04.700Z"
   },
   {
    "duration": 21,
    "start_time": "2022-08-12T18:36:14.440Z"
   },
   {
    "duration": 37,
    "start_time": "2022-08-12T18:42:03.748Z"
   },
   {
    "duration": 25,
    "start_time": "2022-08-12T18:47:28.016Z"
   },
   {
    "duration": 28,
    "start_time": "2022-08-12T18:47:42.119Z"
   },
   {
    "duration": 8,
    "start_time": "2022-08-12T18:48:36.852Z"
   },
   {
    "duration": 28,
    "start_time": "2022-08-12T18:48:50.716Z"
   },
   {
    "duration": 40,
    "start_time": "2022-08-12T19:13:09.306Z"
   },
   {
    "duration": 40,
    "start_time": "2022-08-12T19:16:47.385Z"
   },
   {
    "duration": 31,
    "start_time": "2022-08-12T19:16:58.172Z"
   },
   {
    "duration": 38,
    "start_time": "2022-08-12T19:17:24.584Z"
   },
   {
    "duration": 1177,
    "start_time": "2022-08-12T19:17:42.638Z"
   },
   {
    "duration": 30,
    "start_time": "2022-08-12T19:17:52.125Z"
   },
   {
    "duration": 1374,
    "start_time": "2022-08-12T19:17:58.248Z"
   },
   {
    "duration": 38,
    "start_time": "2022-08-12T19:18:01.204Z"
   },
   {
    "duration": 37,
    "start_time": "2022-08-12T19:20:10.304Z"
   },
   {
    "duration": 1360,
    "start_time": "2022-08-12T19:20:19.971Z"
   },
   {
    "duration": 31,
    "start_time": "2022-08-12T19:20:28.412Z"
   },
   {
    "duration": 31,
    "start_time": "2022-08-12T19:20:33.028Z"
   },
   {
    "duration": 31,
    "start_time": "2022-08-12T19:20:57.121Z"
   },
   {
    "duration": 42,
    "start_time": "2022-08-12T19:26:32.303Z"
   },
   {
    "duration": 79,
    "start_time": "2022-08-12T19:26:38.679Z"
   },
   {
    "duration": 31,
    "start_time": "2022-08-12T19:26:44.079Z"
   },
   {
    "duration": 29,
    "start_time": "2022-08-12T19:26:48.426Z"
   },
   {
    "duration": 34,
    "start_time": "2022-08-12T19:27:22.075Z"
   },
   {
    "duration": 1189,
    "start_time": "2022-08-12T20:44:17.036Z"
   },
   {
    "duration": 30,
    "start_time": "2022-08-12T20:44:23.475Z"
   },
   {
    "duration": 1460,
    "start_time": "2022-08-12T20:47:27.948Z"
   },
   {
    "duration": 29,
    "start_time": "2022-08-12T20:57:33.642Z"
   },
   {
    "duration": 30,
    "start_time": "2022-08-12T21:01:52.528Z"
   },
   {
    "duration": 35,
    "start_time": "2022-08-12T21:02:56.678Z"
   },
   {
    "duration": 34,
    "start_time": "2022-08-12T21:11:26.798Z"
   },
   {
    "duration": 32,
    "start_time": "2022-08-12T21:11:35.900Z"
   },
   {
    "duration": 17,
    "start_time": "2022-08-12T21:34:47.179Z"
   },
   {
    "duration": 34,
    "start_time": "2022-08-12T21:35:00.516Z"
   },
   {
    "duration": 31,
    "start_time": "2022-08-12T22:13:42.295Z"
   },
   {
    "duration": 8,
    "start_time": "2022-08-12T22:24:17.758Z"
   },
   {
    "duration": 12,
    "start_time": "2022-08-12T22:24:23.226Z"
   },
   {
    "duration": 23,
    "start_time": "2022-08-12T22:24:39.220Z"
   },
   {
    "duration": 29,
    "start_time": "2022-08-12T22:26:34.019Z"
   },
   {
    "duration": 16,
    "start_time": "2022-08-12T22:34:50.321Z"
   },
   {
    "duration": 39,
    "start_time": "2022-08-12T22:34:55.968Z"
   },
   {
    "duration": 40,
    "start_time": "2022-08-12T22:35:03.342Z"
   },
   {
    "duration": 38,
    "start_time": "2022-08-12T22:35:53.975Z"
   },
   {
    "duration": 39,
    "start_time": "2022-08-12T22:35:56.804Z"
   },
   {
    "duration": 38,
    "start_time": "2022-08-12T22:36:02.690Z"
   },
   {
    "duration": 39,
    "start_time": "2022-08-12T22:36:05.732Z"
   },
   {
    "duration": 44,
    "start_time": "2022-08-12T22:36:28.585Z"
   },
   {
    "duration": 26,
    "start_time": "2022-08-12T22:37:59.951Z"
   },
   {
    "duration": 39,
    "start_time": "2022-08-12T22:38:21.422Z"
   },
   {
    "duration": 27,
    "start_time": "2022-08-12T22:38:38.351Z"
   },
   {
    "duration": 26,
    "start_time": "2022-08-12T22:48:51.115Z"
   },
   {
    "duration": 19,
    "start_time": "2022-08-12T22:49:19.732Z"
   },
   {
    "duration": 20,
    "start_time": "2022-08-12T22:52:25.678Z"
   },
   {
    "duration": 19,
    "start_time": "2022-08-12T22:52:33.712Z"
   },
   {
    "duration": 18,
    "start_time": "2022-08-12T22:56:54.249Z"
   },
   {
    "duration": 43,
    "start_time": "2022-08-12T22:57:07.118Z"
   },
   {
    "duration": 22,
    "start_time": "2022-08-12T22:57:17.645Z"
   },
   {
    "duration": 20,
    "start_time": "2022-08-12T22:57:25.655Z"
   },
   {
    "duration": 26,
    "start_time": "2022-08-12T22:57:31.507Z"
   },
   {
    "duration": 19,
    "start_time": "2022-08-12T22:57:39.372Z"
   },
   {
    "duration": 26,
    "start_time": "2022-08-12T22:57:46.085Z"
   },
   {
    "duration": 24,
    "start_time": "2022-08-12T22:59:19.025Z"
   },
   {
    "duration": 16,
    "start_time": "2022-08-12T23:01:01.895Z"
   },
   {
    "duration": 22,
    "start_time": "2022-08-12T23:02:02.428Z"
   },
   {
    "duration": 19,
    "start_time": "2022-08-12T23:17:03.653Z"
   },
   {
    "duration": 21,
    "start_time": "2022-08-12T23:17:35.719Z"
   },
   {
    "duration": 22,
    "start_time": "2022-08-12T23:17:56.784Z"
   },
   {
    "duration": 40,
    "start_time": "2022-08-12T23:18:10.325Z"
   },
   {
    "duration": 34,
    "start_time": "2022-08-12T23:18:30.513Z"
   },
   {
    "duration": 40,
    "start_time": "2022-08-12T23:18:52.766Z"
   },
   {
    "duration": 24,
    "start_time": "2022-08-12T23:21:10.615Z"
   },
   {
    "duration": 27,
    "start_time": "2022-08-12T23:21:24.977Z"
   },
   {
    "duration": 13,
    "start_time": "2022-08-12T23:31:30.313Z"
   },
   {
    "duration": 20,
    "start_time": "2022-08-12T23:31:36.119Z"
   },
   {
    "duration": 20,
    "start_time": "2022-08-12T23:31:50.683Z"
   },
   {
    "duration": 8,
    "start_time": "2022-08-12T23:32:20.519Z"
   },
   {
    "duration": 18,
    "start_time": "2022-08-12T23:32:24.460Z"
   },
   {
    "duration": 20,
    "start_time": "2022-08-12T23:32:48.827Z"
   },
   {
    "duration": 20,
    "start_time": "2022-08-12T23:32:59.280Z"
   },
   {
    "duration": 18,
    "start_time": "2022-08-12T23:33:04.063Z"
   },
   {
    "duration": 19,
    "start_time": "2022-08-12T23:33:11.988Z"
   },
   {
    "duration": 21,
    "start_time": "2022-08-12T23:35:31.429Z"
   },
   {
    "duration": 25,
    "start_time": "2022-08-12T23:37:52.094Z"
   },
   {
    "duration": 7,
    "start_time": "2022-08-12T23:38:09.781Z"
   },
   {
    "duration": 24,
    "start_time": "2022-08-12T23:38:15.201Z"
   },
   {
    "duration": 19,
    "start_time": "2022-08-12T23:38:47.775Z"
   },
   {
    "duration": 22,
    "start_time": "2022-08-12T23:38:57.669Z"
   },
   {
    "duration": 29,
    "start_time": "2022-08-12T23:39:08.024Z"
   },
   {
    "duration": 29,
    "start_time": "2022-08-12T23:40:03.255Z"
   },
   {
    "duration": 210,
    "start_time": "2022-08-12T23:40:10.877Z"
   },
   {
    "duration": 29,
    "start_time": "2022-08-12T23:40:20.720Z"
   },
   {
    "duration": 36,
    "start_time": "2022-08-12T23:40:46.722Z"
   },
   {
    "duration": 15,
    "start_time": "2022-08-12T23:40:51.291Z"
   },
   {
    "duration": 29,
    "start_time": "2022-08-12T23:41:09.318Z"
   },
   {
    "duration": 78,
    "start_time": "2022-08-12T23:41:37.725Z"
   },
   {
    "duration": 30,
    "start_time": "2022-08-12T23:41:42.749Z"
   },
   {
    "duration": 31,
    "start_time": "2022-08-12T23:44:26.385Z"
   },
   {
    "duration": 30,
    "start_time": "2022-08-12T23:44:30.976Z"
   },
   {
    "duration": 28,
    "start_time": "2022-08-12T23:44:52.420Z"
   },
   {
    "duration": 86,
    "start_time": "2022-08-13T01:15:01.413Z"
   },
   {
    "duration": 1411,
    "start_time": "2022-08-13T01:15:06.574Z"
   },
   {
    "duration": 1315,
    "start_time": "2022-08-13T01:15:17.541Z"
   },
   {
    "duration": 146,
    "start_time": "2022-08-13T01:15:29.261Z"
   },
   {
    "duration": 1247,
    "start_time": "2022-08-13T01:15:32.626Z"
   },
   {
    "duration": 0,
    "start_time": "2022-08-13T01:15:49.344Z"
   },
   {
    "duration": 1953,
    "start_time": "2022-08-13T01:15:50.978Z"
   },
   {
    "duration": 1239,
    "start_time": "2022-08-13T01:17:03.460Z"
   },
   {
    "duration": 1191,
    "start_time": "2022-08-13T01:17:13.131Z"
   },
   {
    "duration": 64,
    "start_time": "2022-08-13T01:17:28.253Z"
   },
   {
    "duration": 13,
    "start_time": "2022-08-13T01:17:28.319Z"
   },
   {
    "duration": 13,
    "start_time": "2022-08-13T01:17:28.334Z"
   },
   {
    "duration": 10,
    "start_time": "2022-08-13T01:17:28.349Z"
   },
   {
    "duration": 27,
    "start_time": "2022-08-13T01:17:28.360Z"
   },
   {
    "duration": 3,
    "start_time": "2022-08-13T01:17:28.389Z"
   },
   {
    "duration": 9,
    "start_time": "2022-08-13T01:17:28.393Z"
   },
   {
    "duration": 3,
    "start_time": "2022-08-13T01:17:28.404Z"
   },
   {
    "duration": 6,
    "start_time": "2022-08-13T01:17:28.409Z"
   },
   {
    "duration": 5,
    "start_time": "2022-08-13T01:17:28.417Z"
   },
   {
    "duration": 27,
    "start_time": "2022-08-13T01:17:28.455Z"
   },
   {
    "duration": 7,
    "start_time": "2022-08-13T01:17:28.484Z"
   },
   {
    "duration": 5,
    "start_time": "2022-08-13T01:17:28.492Z"
   },
   {
    "duration": 10,
    "start_time": "2022-08-13T01:17:28.498Z"
   },
   {
    "duration": 15,
    "start_time": "2022-08-13T01:17:28.509Z"
   },
   {
    "duration": 16,
    "start_time": "2022-08-13T01:17:28.555Z"
   },
   {
    "duration": 3,
    "start_time": "2022-08-13T01:17:28.572Z"
   },
   {
    "duration": 11,
    "start_time": "2022-08-13T01:17:28.576Z"
   },
   {
    "duration": 5,
    "start_time": "2022-08-13T01:17:28.588Z"
   },
   {
    "duration": 3,
    "start_time": "2022-08-13T01:17:28.594Z"
   },
   {
    "duration": 12,
    "start_time": "2022-08-13T01:17:28.599Z"
   },
   {
    "duration": 1282,
    "start_time": "2022-08-13T01:17:28.612Z"
   },
   {
    "duration": 1267,
    "start_time": "2022-08-13T01:17:30.368Z"
   },
   {
    "duration": 18,
    "start_time": "2022-08-13T01:17:48.213Z"
   },
   {
    "duration": 1251,
    "start_time": "2022-08-13T01:18:10.713Z"
   },
   {
    "duration": 1163,
    "start_time": "2022-08-13T01:19:10.198Z"
   },
   {
    "duration": 17,
    "start_time": "2022-08-13T01:19:32.777Z"
   },
   {
    "duration": 23,
    "start_time": "2022-08-13T01:19:48.973Z"
   },
   {
    "duration": 20,
    "start_time": "2022-08-13T01:19:58.098Z"
   },
   {
    "duration": 26,
    "start_time": "2022-08-13T01:20:20.719Z"
   },
   {
    "duration": 31,
    "start_time": "2022-08-13T01:20:26.959Z"
   },
   {
    "duration": 28,
    "start_time": "2022-08-13T01:22:08.803Z"
   },
   {
    "duration": 29,
    "start_time": "2022-08-13T01:26:05.440Z"
   },
   {
    "duration": 19,
    "start_time": "2022-08-13T01:26:43.525Z"
   },
   {
    "duration": 19,
    "start_time": "2022-08-13T01:26:51.822Z"
   },
   {
    "duration": 19,
    "start_time": "2022-08-13T01:27:09.762Z"
   },
   {
    "duration": 20,
    "start_time": "2022-08-13T01:27:23.416Z"
   },
   {
    "duration": 5,
    "start_time": "2022-08-13T01:27:29.518Z"
   },
   {
    "duration": 18,
    "start_time": "2022-08-13T01:27:55.344Z"
   },
   {
    "duration": 20,
    "start_time": "2022-08-13T01:28:13.198Z"
   },
   {
    "duration": 19,
    "start_time": "2022-08-13T01:31:40.172Z"
   },
   {
    "duration": 19,
    "start_time": "2022-08-13T02:14:03.377Z"
   },
   {
    "duration": 17,
    "start_time": "2022-08-13T02:14:31.950Z"
   },
   {
    "duration": 19,
    "start_time": "2022-08-13T02:17:36.104Z"
   },
   {
    "duration": 45,
    "start_time": "2022-08-13T14:52:34.217Z"
   },
   {
    "duration": 730,
    "start_time": "2022-08-13T14:52:38.798Z"
   },
   {
    "duration": 20,
    "start_time": "2022-08-13T14:52:39.530Z"
   },
   {
    "duration": 13,
    "start_time": "2022-08-13T14:52:39.551Z"
   },
   {
    "duration": 9,
    "start_time": "2022-08-13T14:52:39.565Z"
   },
   {
    "duration": 42,
    "start_time": "2022-08-13T14:52:39.575Z"
   },
   {
    "duration": 4,
    "start_time": "2022-08-13T14:52:39.618Z"
   },
   {
    "duration": 21,
    "start_time": "2022-08-13T14:52:39.624Z"
   },
   {
    "duration": 15,
    "start_time": "2022-08-13T14:52:39.646Z"
   },
   {
    "duration": 19,
    "start_time": "2022-08-13T14:52:39.663Z"
   },
   {
    "duration": 16,
    "start_time": "2022-08-13T14:52:39.685Z"
   },
   {
    "duration": 34,
    "start_time": "2022-08-13T14:52:39.702Z"
   },
   {
    "duration": 8,
    "start_time": "2022-08-13T14:52:39.738Z"
   },
   {
    "duration": 21,
    "start_time": "2022-08-13T14:52:39.748Z"
   },
   {
    "duration": 23,
    "start_time": "2022-08-13T14:52:39.770Z"
   },
   {
    "duration": 31,
    "start_time": "2022-08-13T14:52:39.795Z"
   },
   {
    "duration": 22,
    "start_time": "2022-08-13T14:52:39.828Z"
   },
   {
    "duration": 20,
    "start_time": "2022-08-13T14:52:39.851Z"
   },
   {
    "duration": 34,
    "start_time": "2022-08-13T14:52:39.873Z"
   },
   {
    "duration": 15,
    "start_time": "2022-08-13T14:52:39.909Z"
   },
   {
    "duration": 21,
    "start_time": "2022-08-13T14:52:39.926Z"
   },
   {
    "duration": 22,
    "start_time": "2022-08-13T14:52:39.948Z"
   },
   {
    "duration": 37,
    "start_time": "2022-08-13T14:52:39.972Z"
   },
   {
    "duration": 76,
    "start_time": "2022-08-13T14:52:40.010Z"
   },
   {
    "duration": 0,
    "start_time": "2022-08-13T14:52:40.090Z"
   },
   {
    "duration": 860,
    "start_time": "2022-08-13T14:52:52.060Z"
   },
   {
    "duration": 808,
    "start_time": "2022-08-13T14:54:22.675Z"
   },
   {
    "duration": 954,
    "start_time": "2022-08-13T14:56:30.652Z"
   },
   {
    "duration": 69,
    "start_time": "2022-08-13T14:58:02.429Z"
   },
   {
    "duration": 13,
    "start_time": "2022-08-13T14:58:02.499Z"
   },
   {
    "duration": 15,
    "start_time": "2022-08-13T14:58:02.514Z"
   },
   {
    "duration": 8,
    "start_time": "2022-08-13T14:58:02.531Z"
   },
   {
    "duration": 28,
    "start_time": "2022-08-13T14:58:02.541Z"
   },
   {
    "duration": 3,
    "start_time": "2022-08-13T14:58:02.571Z"
   },
   {
    "duration": 31,
    "start_time": "2022-08-13T14:58:02.576Z"
   },
   {
    "duration": 4,
    "start_time": "2022-08-13T14:58:02.609Z"
   },
   {
    "duration": 14,
    "start_time": "2022-08-13T14:58:02.614Z"
   },
   {
    "duration": 17,
    "start_time": "2022-08-13T14:58:02.631Z"
   },
   {
    "duration": 41,
    "start_time": "2022-08-13T14:58:02.649Z"
   },
   {
    "duration": 9,
    "start_time": "2022-08-13T14:58:02.691Z"
   },
   {
    "duration": 3,
    "start_time": "2022-08-13T14:58:02.701Z"
   },
   {
    "duration": 18,
    "start_time": "2022-08-13T14:58:02.706Z"
   },
   {
    "duration": 20,
    "start_time": "2022-08-13T14:58:02.725Z"
   },
   {
    "duration": 15,
    "start_time": "2022-08-13T14:58:02.747Z"
   },
   {
    "duration": 3,
    "start_time": "2022-08-13T14:58:02.763Z"
   },
   {
    "duration": 22,
    "start_time": "2022-08-13T14:58:02.767Z"
   },
   {
    "duration": 10,
    "start_time": "2022-08-13T14:58:02.791Z"
   },
   {
    "duration": 5,
    "start_time": "2022-08-13T14:58:02.802Z"
   },
   {
    "duration": 10,
    "start_time": "2022-08-13T14:58:02.808Z"
   },
   {
    "duration": 23,
    "start_time": "2022-08-13T14:58:02.820Z"
   },
   {
    "duration": 2,
    "start_time": "2022-08-13T14:58:02.845Z"
   },
   {
    "duration": 67,
    "start_time": "2022-08-13T14:58:05.437Z"
   },
   {
    "duration": 13,
    "start_time": "2022-08-13T14:58:05.506Z"
   },
   {
    "duration": 14,
    "start_time": "2022-08-13T14:58:05.520Z"
   },
   {
    "duration": 8,
    "start_time": "2022-08-13T14:58:05.536Z"
   },
   {
    "duration": 31,
    "start_time": "2022-08-13T14:58:05.545Z"
   },
   {
    "duration": 3,
    "start_time": "2022-08-13T14:58:05.577Z"
   },
   {
    "duration": 7,
    "start_time": "2022-08-13T14:58:05.600Z"
   },
   {
    "duration": 3,
    "start_time": "2022-08-13T14:58:05.609Z"
   },
   {
    "duration": 6,
    "start_time": "2022-08-13T14:58:05.614Z"
   },
   {
    "duration": 4,
    "start_time": "2022-08-13T14:58:05.622Z"
   },
   {
    "duration": 33,
    "start_time": "2022-08-13T14:58:05.628Z"
   },
   {
    "duration": 8,
    "start_time": "2022-08-13T14:58:05.663Z"
   },
   {
    "duration": 29,
    "start_time": "2022-08-13T14:58:05.672Z"
   },
   {
    "duration": 9,
    "start_time": "2022-08-13T14:58:05.702Z"
   },
   {
    "duration": 20,
    "start_time": "2022-08-13T14:58:05.712Z"
   },
   {
    "duration": 15,
    "start_time": "2022-08-13T14:58:05.733Z"
   },
   {
    "duration": 3,
    "start_time": "2022-08-13T14:58:05.749Z"
   },
   {
    "duration": 11,
    "start_time": "2022-08-13T14:58:05.753Z"
   },
   {
    "duration": 5,
    "start_time": "2022-08-13T14:58:05.765Z"
   },
   {
    "duration": 3,
    "start_time": "2022-08-13T14:58:05.771Z"
   },
   {
    "duration": 8,
    "start_time": "2022-08-13T14:58:05.800Z"
   },
   {
    "duration": 25,
    "start_time": "2022-08-13T14:58:05.809Z"
   },
   {
    "duration": 2,
    "start_time": "2022-08-13T14:58:05.836Z"
   },
   {
    "duration": 1131,
    "start_time": "2022-08-13T14:58:07.177Z"
   },
   {
    "duration": 943,
    "start_time": "2022-08-13T14:58:27.077Z"
   },
   {
    "duration": 1020,
    "start_time": "2022-08-13T14:59:13.298Z"
   },
   {
    "duration": 20,
    "start_time": "2022-08-13T14:59:47.476Z"
   },
   {
    "duration": 424,
    "start_time": "2022-08-13T15:00:33.739Z"
   },
   {
    "duration": 22,
    "start_time": "2022-08-13T15:00:34.164Z"
   },
   {
    "duration": 14,
    "start_time": "2022-08-13T15:00:34.188Z"
   },
   {
    "duration": 8,
    "start_time": "2022-08-13T15:00:34.204Z"
   },
   {
    "duration": 29,
    "start_time": "2022-08-13T15:00:34.213Z"
   },
   {
    "duration": 4,
    "start_time": "2022-08-13T15:00:34.244Z"
   },
   {
    "duration": 9,
    "start_time": "2022-08-13T15:00:34.250Z"
   },
   {
    "duration": 5,
    "start_time": "2022-08-13T15:00:34.261Z"
   },
   {
    "duration": 36,
    "start_time": "2022-08-13T15:00:34.267Z"
   },
   {
    "duration": 5,
    "start_time": "2022-08-13T15:00:34.307Z"
   },
   {
    "duration": 36,
    "start_time": "2022-08-13T15:00:34.314Z"
   },
   {
    "duration": 8,
    "start_time": "2022-08-13T15:00:34.352Z"
   },
   {
    "duration": 5,
    "start_time": "2022-08-13T15:00:34.361Z"
   },
   {
    "duration": 39,
    "start_time": "2022-08-13T15:00:34.368Z"
   },
   {
    "duration": 24,
    "start_time": "2022-08-13T15:00:34.409Z"
   },
   {
    "duration": 15,
    "start_time": "2022-08-13T15:00:34.435Z"
   },
   {
    "duration": 3,
    "start_time": "2022-08-13T15:00:34.451Z"
   },
   {
    "duration": 10,
    "start_time": "2022-08-13T15:00:34.456Z"
   },
   {
    "duration": 5,
    "start_time": "2022-08-13T15:00:34.467Z"
   },
   {
    "duration": 28,
    "start_time": "2022-08-13T15:00:34.473Z"
   },
   {
    "duration": 13,
    "start_time": "2022-08-13T15:00:34.502Z"
   },
   {
    "duration": 29,
    "start_time": "2022-08-13T15:00:34.517Z"
   },
   {
    "duration": 2,
    "start_time": "2022-08-13T15:00:34.548Z"
   },
   {
    "duration": 1458,
    "start_time": "2022-08-13T15:00:34.551Z"
   },
   {
    "duration": 0,
    "start_time": "2022-08-13T15:00:36.010Z"
   },
   {
    "duration": 1377,
    "start_time": "2022-08-13T15:01:04.454Z"
   },
   {
    "duration": 773,
    "start_time": "2022-08-13T15:02:38.361Z"
   },
   {
    "duration": 965,
    "start_time": "2022-08-13T15:03:51.341Z"
   },
   {
    "duration": 1264,
    "start_time": "2022-08-13T15:14:35.247Z"
   },
   {
    "duration": 1251,
    "start_time": "2022-08-13T15:14:52.532Z"
   },
   {
    "duration": 879,
    "start_time": "2022-08-13T15:22:14.677Z"
   },
   {
    "duration": 19,
    "start_time": "2022-08-13T17:38:36.921Z"
   },
   {
    "duration": 25,
    "start_time": "2022-08-13T17:40:10.417Z"
   },
   {
    "duration": 27,
    "start_time": "2022-08-13T17:40:14.804Z"
   },
   {
    "duration": 31,
    "start_time": "2022-08-13T17:40:40.282Z"
   },
   {
    "duration": 22,
    "start_time": "2022-08-13T17:40:45.466Z"
   },
   {
    "duration": 26,
    "start_time": "2022-08-13T18:06:00.944Z"
   },
   {
    "duration": 19,
    "start_time": "2022-08-13T18:06:15.571Z"
   },
   {
    "duration": 65,
    "start_time": "2022-08-13T18:06:41.426Z"
   },
   {
    "duration": 20,
    "start_time": "2022-08-13T18:07:12.710Z"
   },
   {
    "duration": 21,
    "start_time": "2022-08-13T18:15:34.333Z"
   },
   {
    "duration": 50,
    "start_time": "2022-08-14T16:32:12.176Z"
   },
   {
    "duration": 710,
    "start_time": "2022-08-14T16:32:24.281Z"
   },
   {
    "duration": 20,
    "start_time": "2022-08-14T16:32:24.993Z"
   },
   {
    "duration": 19,
    "start_time": "2022-08-14T16:32:25.015Z"
   },
   {
    "duration": 8,
    "start_time": "2022-08-14T16:32:25.036Z"
   },
   {
    "duration": 33,
    "start_time": "2022-08-14T16:32:25.046Z"
   },
   {
    "duration": 3,
    "start_time": "2022-08-14T16:32:25.081Z"
   },
   {
    "duration": 8,
    "start_time": "2022-08-14T16:32:25.100Z"
   },
   {
    "duration": 4,
    "start_time": "2022-08-14T16:32:25.109Z"
   },
   {
    "duration": 10,
    "start_time": "2022-08-14T16:32:25.115Z"
   },
   {
    "duration": 7,
    "start_time": "2022-08-14T16:32:25.127Z"
   },
   {
    "duration": 42,
    "start_time": "2022-08-14T16:32:25.136Z"
   },
   {
    "duration": 28,
    "start_time": "2022-08-14T16:32:25.179Z"
   },
   {
    "duration": 8,
    "start_time": "2022-08-14T16:32:25.209Z"
   },
   {
    "duration": 24,
    "start_time": "2022-08-14T16:32:25.218Z"
   },
   {
    "duration": 28,
    "start_time": "2022-08-14T16:32:25.244Z"
   },
   {
    "duration": 15,
    "start_time": "2022-08-14T16:32:25.273Z"
   },
   {
    "duration": 7,
    "start_time": "2022-08-14T16:32:25.289Z"
   },
   {
    "duration": 20,
    "start_time": "2022-08-14T16:32:25.297Z"
   },
   {
    "duration": 7,
    "start_time": "2022-08-14T16:32:25.318Z"
   },
   {
    "duration": 4,
    "start_time": "2022-08-14T16:32:25.326Z"
   },
   {
    "duration": 11,
    "start_time": "2022-08-14T16:32:25.332Z"
   },
   {
    "duration": 24,
    "start_time": "2022-08-14T16:32:25.344Z"
   },
   {
    "duration": 879,
    "start_time": "2022-08-14T16:32:27.316Z"
   },
   {
    "duration": 1111,
    "start_time": "2022-08-14T16:32:40.304Z"
   },
   {
    "duration": 856,
    "start_time": "2022-08-14T16:47:58.179Z"
   },
   {
    "duration": 22,
    "start_time": "2022-08-14T16:48:39.908Z"
   },
   {
    "duration": 1069,
    "start_time": "2022-08-14T16:48:52.862Z"
   },
   {
    "duration": 25,
    "start_time": "2022-08-14T16:50:05.125Z"
   },
   {
    "duration": 26,
    "start_time": "2022-08-14T16:51:22.453Z"
   },
   {
    "duration": 25,
    "start_time": "2022-08-14T16:51:43.773Z"
   },
   {
    "duration": 25,
    "start_time": "2022-08-14T16:53:12.209Z"
   },
   {
    "duration": 763,
    "start_time": "2022-08-14T16:57:10.387Z"
   },
   {
    "duration": 20,
    "start_time": "2022-08-14T17:00:26.603Z"
   },
   {
    "duration": 8,
    "start_time": "2022-08-14T17:34:54.094Z"
   },
   {
    "duration": 55,
    "start_time": "2022-08-14T17:35:16.247Z"
   },
   {
    "duration": 2349,
    "start_time": "2022-08-14T17:35:21.884Z"
   },
   {
    "duration": 1480,
    "start_time": "2022-08-14T17:35:36.818Z"
   },
   {
    "duration": 20,
    "start_time": "2022-08-14T17:37:36.010Z"
   },
   {
    "duration": 20,
    "start_time": "2022-08-14T17:37:58.841Z"
   },
   {
    "duration": 20,
    "start_time": "2022-08-14T17:41:16.095Z"
   },
   {
    "duration": 28,
    "start_time": "2022-08-14T17:44:47.833Z"
   },
   {
    "duration": 31,
    "start_time": "2022-08-14T17:44:54.239Z"
   },
   {
    "duration": 42,
    "start_time": "2022-08-14T17:45:04.183Z"
   },
   {
    "duration": 21,
    "start_time": "2022-08-14T17:45:59.579Z"
   },
   {
    "duration": 25,
    "start_time": "2022-08-14T17:46:41.472Z"
   },
   {
    "duration": 1029,
    "start_time": "2022-08-14T17:48:02.391Z"
   },
   {
    "duration": 20,
    "start_time": "2022-08-14T17:48:44.224Z"
   },
   {
    "duration": 27,
    "start_time": "2022-08-14T17:49:39.930Z"
   },
   {
    "duration": 33,
    "start_time": "2022-08-14T17:50:00.980Z"
   },
   {
    "duration": 38,
    "start_time": "2022-08-14T17:50:12.904Z"
   },
   {
    "duration": 19,
    "start_time": "2022-08-14T17:50:44.853Z"
   },
   {
    "duration": 31,
    "start_time": "2022-08-14T17:57:00.707Z"
   },
   {
    "duration": 29,
    "start_time": "2022-08-14T17:57:23.252Z"
   },
   {
    "duration": 32,
    "start_time": "2022-08-14T17:57:48.931Z"
   },
   {
    "duration": 1026,
    "start_time": "2022-08-14T18:06:36.997Z"
   },
   {
    "duration": 916,
    "start_time": "2022-08-14T18:06:47.624Z"
   },
   {
    "duration": 33,
    "start_time": "2022-08-14T18:07:05.894Z"
   },
   {
    "duration": 87,
    "start_time": "2022-08-14T18:07:36.991Z"
   },
   {
    "duration": 19,
    "start_time": "2022-08-14T18:07:37.080Z"
   },
   {
    "duration": 25,
    "start_time": "2022-08-14T18:07:37.102Z"
   },
   {
    "duration": 10,
    "start_time": "2022-08-14T18:07:37.131Z"
   },
   {
    "duration": 37,
    "start_time": "2022-08-14T18:07:37.143Z"
   },
   {
    "duration": 4,
    "start_time": "2022-08-14T18:07:37.182Z"
   },
   {
    "duration": 34,
    "start_time": "2022-08-14T18:07:37.188Z"
   },
   {
    "duration": 6,
    "start_time": "2022-08-14T18:07:37.224Z"
   },
   {
    "duration": 13,
    "start_time": "2022-08-14T18:07:37.232Z"
   },
   {
    "duration": 16,
    "start_time": "2022-08-14T18:07:37.249Z"
   },
   {
    "duration": 45,
    "start_time": "2022-08-14T18:07:37.267Z"
   },
   {
    "duration": 9,
    "start_time": "2022-08-14T18:07:37.314Z"
   },
   {
    "duration": 14,
    "start_time": "2022-08-14T18:07:37.324Z"
   },
   {
    "duration": 16,
    "start_time": "2022-08-14T18:07:37.340Z"
   },
   {
    "duration": 34,
    "start_time": "2022-08-14T18:07:37.358Z"
   },
   {
    "duration": 28,
    "start_time": "2022-08-14T18:07:37.395Z"
   },
   {
    "duration": 5,
    "start_time": "2022-08-14T18:07:37.425Z"
   },
   {
    "duration": 13,
    "start_time": "2022-08-14T18:07:37.431Z"
   },
   {
    "duration": 9,
    "start_time": "2022-08-14T18:07:37.446Z"
   },
   {
    "duration": 7,
    "start_time": "2022-08-14T18:07:37.456Z"
   },
   {
    "duration": 13,
    "start_time": "2022-08-14T18:07:37.465Z"
   },
   {
    "duration": 55,
    "start_time": "2022-08-14T18:07:37.479Z"
   },
   {
    "duration": 21,
    "start_time": "2022-08-14T18:07:37.536Z"
   },
   {
    "duration": 47,
    "start_time": "2022-08-14T18:07:37.558Z"
   },
   {
    "duration": 22,
    "start_time": "2022-08-14T18:07:37.607Z"
   },
   {
    "duration": 66,
    "start_time": "2022-08-14T18:09:21.092Z"
   },
   {
    "duration": 13,
    "start_time": "2022-08-14T18:09:21.161Z"
   },
   {
    "duration": 14,
    "start_time": "2022-08-14T18:09:21.176Z"
   },
   {
    "duration": 15,
    "start_time": "2022-08-14T18:09:21.192Z"
   },
   {
    "duration": 35,
    "start_time": "2022-08-14T18:09:21.209Z"
   },
   {
    "duration": 3,
    "start_time": "2022-08-14T18:09:21.246Z"
   },
   {
    "duration": 10,
    "start_time": "2022-08-14T18:09:21.250Z"
   },
   {
    "duration": 8,
    "start_time": "2022-08-14T18:09:21.261Z"
   },
   {
    "duration": 29,
    "start_time": "2022-08-14T18:09:21.271Z"
   },
   {
    "duration": 5,
    "start_time": "2022-08-14T18:09:21.302Z"
   },
   {
    "duration": 32,
    "start_time": "2022-08-14T18:09:21.308Z"
   },
   {
    "duration": 8,
    "start_time": "2022-08-14T18:09:21.342Z"
   },
   {
    "duration": 7,
    "start_time": "2022-08-14T18:09:21.351Z"
   },
   {
    "duration": 11,
    "start_time": "2022-08-14T18:09:21.359Z"
   },
   {
    "duration": 41,
    "start_time": "2022-08-14T18:09:21.371Z"
   },
   {
    "duration": 20,
    "start_time": "2022-08-14T18:09:21.414Z"
   },
   {
    "duration": 3,
    "start_time": "2022-08-14T18:09:21.437Z"
   },
   {
    "duration": 18,
    "start_time": "2022-08-14T18:09:21.442Z"
   },
   {
    "duration": 17,
    "start_time": "2022-08-14T18:09:21.462Z"
   },
   {
    "duration": 20,
    "start_time": "2022-08-14T18:09:21.481Z"
   },
   {
    "duration": 16,
    "start_time": "2022-08-14T18:09:21.505Z"
   },
   {
    "duration": 37,
    "start_time": "2022-08-14T18:09:21.523Z"
   },
   {
    "duration": 41,
    "start_time": "2022-08-14T18:09:21.563Z"
   },
   {
    "duration": 26,
    "start_time": "2022-08-14T18:09:21.606Z"
   },
   {
    "duration": 20,
    "start_time": "2022-08-14T18:09:21.635Z"
   },
   {
    "duration": 438,
    "start_time": "2022-08-15T09:55:35.331Z"
   },
   {
    "duration": 21,
    "start_time": "2022-08-15T09:55:35.771Z"
   },
   {
    "duration": 13,
    "start_time": "2022-08-15T09:55:35.793Z"
   },
   {
    "duration": 8,
    "start_time": "2022-08-15T09:55:35.808Z"
   },
   {
    "duration": 29,
    "start_time": "2022-08-15T09:55:35.817Z"
   },
   {
    "duration": 3,
    "start_time": "2022-08-15T09:55:35.847Z"
   },
   {
    "duration": 18,
    "start_time": "2022-08-15T09:55:35.852Z"
   },
   {
    "duration": 6,
    "start_time": "2022-08-15T09:55:35.872Z"
   },
   {
    "duration": 9,
    "start_time": "2022-08-15T09:55:35.879Z"
   },
   {
    "duration": 18,
    "start_time": "2022-08-15T09:55:35.890Z"
   },
   {
    "duration": 32,
    "start_time": "2022-08-15T09:55:35.910Z"
   },
   {
    "duration": 8,
    "start_time": "2022-08-15T09:55:35.944Z"
   },
   {
    "duration": 5,
    "start_time": "2022-08-15T09:55:35.953Z"
   },
   {
    "duration": 13,
    "start_time": "2022-08-15T09:55:35.959Z"
   },
   {
    "duration": 34,
    "start_time": "2022-08-15T09:55:35.973Z"
   },
   {
    "duration": 18,
    "start_time": "2022-08-15T09:55:36.009Z"
   },
   {
    "duration": 3,
    "start_time": "2022-08-15T09:55:36.029Z"
   },
   {
    "duration": 23,
    "start_time": "2022-08-15T09:55:36.034Z"
   },
   {
    "duration": 14,
    "start_time": "2022-08-15T09:55:36.059Z"
   },
   {
    "duration": 7,
    "start_time": "2022-08-15T09:55:36.075Z"
   },
   {
    "duration": 27,
    "start_time": "2022-08-15T09:55:36.084Z"
   },
   {
    "duration": 40,
    "start_time": "2022-08-15T09:55:36.112Z"
   },
   {
    "duration": 29,
    "start_time": "2022-08-15T09:55:36.154Z"
   },
   {
    "duration": 41,
    "start_time": "2022-08-15T09:55:36.184Z"
   },
   {
    "duration": 26,
    "start_time": "2022-08-15T09:55:36.227Z"
   },
   {
    "duration": 633,
    "start_time": "2022-08-15T14:04:49.152Z"
   },
   {
    "duration": 20,
    "start_time": "2022-08-15T14:04:49.787Z"
   },
   {
    "duration": 12,
    "start_time": "2022-08-15T14:04:49.809Z"
   },
   {
    "duration": 7,
    "start_time": "2022-08-15T14:04:49.823Z"
   },
   {
    "duration": 26,
    "start_time": "2022-08-15T14:04:49.832Z"
   },
   {
    "duration": 3,
    "start_time": "2022-08-15T14:04:49.860Z"
   },
   {
    "duration": 8,
    "start_time": "2022-08-15T14:04:49.864Z"
   },
   {
    "duration": 3,
    "start_time": "2022-08-15T14:04:49.873Z"
   },
   {
    "duration": 6,
    "start_time": "2022-08-15T14:04:49.897Z"
   },
   {
    "duration": 4,
    "start_time": "2022-08-15T14:04:49.905Z"
   },
   {
    "duration": 34,
    "start_time": "2022-08-15T14:04:49.910Z"
   },
   {
    "duration": 8,
    "start_time": "2022-08-15T14:04:49.945Z"
   },
   {
    "duration": 4,
    "start_time": "2022-08-15T14:04:49.955Z"
   },
   {
    "duration": 39,
    "start_time": "2022-08-15T14:04:49.961Z"
   },
   {
    "duration": 17,
    "start_time": "2022-08-15T14:04:50.001Z"
   },
   {
    "duration": 15,
    "start_time": "2022-08-15T14:04:50.019Z"
   },
   {
    "duration": 3,
    "start_time": "2022-08-15T14:04:50.035Z"
   },
   {
    "duration": 11,
    "start_time": "2022-08-15T14:04:50.039Z"
   },
   {
    "duration": 7,
    "start_time": "2022-08-15T14:04:50.051Z"
   },
   {
    "duration": 3,
    "start_time": "2022-08-15T14:04:50.060Z"
   },
   {
    "duration": 34,
    "start_time": "2022-08-15T14:04:50.064Z"
   },
   {
    "duration": 1887,
    "start_time": "2022-08-15T14:05:03.362Z"
   },
   {
    "duration": 20,
    "start_time": "2022-08-15T15:34:25.989Z"
   },
   {
    "duration": 15,
    "start_time": "2022-08-15T15:34:38.091Z"
   },
   {
    "duration": 1180,
    "start_time": "2022-08-15T15:35:39.102Z"
   },
   {
    "duration": 937,
    "start_time": "2022-08-15T15:38:43.131Z"
   },
   {
    "duration": 22,
    "start_time": "2022-08-15T15:39:24.736Z"
   },
   {
    "duration": 20,
    "start_time": "2022-08-15T15:39:33.498Z"
   },
   {
    "duration": 16,
    "start_time": "2022-08-15T15:39:39.811Z"
   },
   {
    "duration": 15,
    "start_time": "2022-08-15T15:39:47.224Z"
   },
   {
    "duration": 538,
    "start_time": "2022-08-15T15:40:20.826Z"
   },
   {
    "duration": 673,
    "start_time": "2022-08-15T15:40:30.755Z"
   },
   {
    "duration": 17,
    "start_time": "2022-08-15T16:35:16.940Z"
   },
   {
    "duration": 60,
    "start_time": "2022-08-15T16:35:21.223Z"
   },
   {
    "duration": 632,
    "start_time": "2022-08-15T16:35:23.627Z"
   },
   {
    "duration": 17,
    "start_time": "2022-08-15T16:35:30.373Z"
   },
   {
    "duration": 18,
    "start_time": "2022-08-15T16:36:06.348Z"
   },
   {
    "duration": 931,
    "start_time": "2022-08-15T16:36:56.806Z"
   },
   {
    "duration": 31,
    "start_time": "2022-08-15T16:37:43.155Z"
   },
   {
    "duration": 29,
    "start_time": "2022-08-15T16:38:01.397Z"
   },
   {
    "duration": 28,
    "start_time": "2022-08-15T16:38:20.425Z"
   },
   {
    "duration": 6,
    "start_time": "2022-08-15T16:39:59.411Z"
   },
   {
    "duration": 16,
    "start_time": "2022-08-15T16:40:17.314Z"
   },
   {
    "duration": 18,
    "start_time": "2022-08-15T16:40:28.949Z"
   },
   {
    "duration": 18,
    "start_time": "2022-08-15T16:41:07.040Z"
   },
   {
    "duration": 18,
    "start_time": "2022-08-15T16:41:54.136Z"
   },
   {
    "duration": 23,
    "start_time": "2022-08-15T16:42:18.907Z"
   },
   {
    "duration": 28,
    "start_time": "2022-08-15T16:42:28.574Z"
   },
   {
    "duration": 30,
    "start_time": "2022-08-15T16:42:51.786Z"
   },
   {
    "duration": 18,
    "start_time": "2022-08-15T16:43:32.370Z"
   },
   {
    "duration": 940,
    "start_time": "2022-08-15T16:46:04.919Z"
   },
   {
    "duration": 781,
    "start_time": "2022-08-15T16:46:10.780Z"
   },
   {
    "duration": 779,
    "start_time": "2022-08-15T16:46:16.656Z"
   },
   {
    "duration": 67,
    "start_time": "2022-08-15T16:46:24.692Z"
   },
   {
    "duration": 13,
    "start_time": "2022-08-15T16:46:24.761Z"
   },
   {
    "duration": 30,
    "start_time": "2022-08-15T16:46:24.775Z"
   },
   {
    "duration": 18,
    "start_time": "2022-08-15T16:46:24.806Z"
   },
   {
    "duration": 47,
    "start_time": "2022-08-15T16:46:24.826Z"
   },
   {
    "duration": 3,
    "start_time": "2022-08-15T16:46:24.874Z"
   },
   {
    "duration": 27,
    "start_time": "2022-08-15T16:46:24.878Z"
   },
   {
    "duration": 23,
    "start_time": "2022-08-15T16:46:24.906Z"
   },
   {
    "duration": 11,
    "start_time": "2022-08-15T16:46:24.931Z"
   },
   {
    "duration": 14,
    "start_time": "2022-08-15T16:46:24.944Z"
   },
   {
    "duration": 36,
    "start_time": "2022-08-15T16:46:24.959Z"
   },
   {
    "duration": 8,
    "start_time": "2022-08-15T16:46:24.996Z"
   },
   {
    "duration": 17,
    "start_time": "2022-08-15T16:46:25.006Z"
   },
   {
    "duration": 25,
    "start_time": "2022-08-15T16:46:25.024Z"
   },
   {
    "duration": 28,
    "start_time": "2022-08-15T16:46:25.051Z"
   },
   {
    "duration": 15,
    "start_time": "2022-08-15T16:46:25.080Z"
   },
   {
    "duration": 17,
    "start_time": "2022-08-15T16:46:25.096Z"
   },
   {
    "duration": 31,
    "start_time": "2022-08-15T16:46:25.115Z"
   },
   {
    "duration": 15,
    "start_time": "2022-08-15T16:46:25.148Z"
   },
   {
    "duration": 31,
    "start_time": "2022-08-15T16:46:25.164Z"
   },
   {
    "duration": 27,
    "start_time": "2022-08-15T16:46:25.197Z"
   },
   {
    "duration": 33,
    "start_time": "2022-08-15T16:46:25.226Z"
   },
   {
    "duration": 767,
    "start_time": "2022-08-15T16:46:26.345Z"
   },
   {
    "duration": 824,
    "start_time": "2022-08-15T16:46:35.395Z"
   },
   {
    "duration": 21,
    "start_time": "2022-08-15T16:47:05.903Z"
   },
   {
    "duration": 22,
    "start_time": "2022-08-15T16:47:13.317Z"
   },
   {
    "duration": 20,
    "start_time": "2022-08-15T16:47:16.478Z"
   },
   {
    "duration": 22,
    "start_time": "2022-08-15T16:47:37.810Z"
   },
   {
    "duration": 18,
    "start_time": "2022-08-15T16:48:07.429Z"
   },
   {
    "duration": 796,
    "start_time": "2022-08-15T16:49:51.530Z"
   },
   {
    "duration": 803,
    "start_time": "2022-08-15T16:49:58.369Z"
   },
   {
    "duration": 25,
    "start_time": "2022-08-15T16:52:47.707Z"
   },
   {
    "duration": 21,
    "start_time": "2022-08-15T16:52:57.388Z"
   },
   {
    "duration": 21,
    "start_time": "2022-08-15T16:53:05.764Z"
   },
   {
    "duration": 25,
    "start_time": "2022-08-15T16:56:10.920Z"
   },
   {
    "duration": 20,
    "start_time": "2022-08-15T16:57:16.792Z"
   },
   {
    "duration": 995,
    "start_time": "2022-08-15T16:57:22.720Z"
   },
   {
    "duration": 815,
    "start_time": "2022-08-15T16:57:55.580Z"
   },
   {
    "duration": 880,
    "start_time": "2022-08-15T16:57:59.515Z"
   },
   {
    "duration": 4,
    "start_time": "2022-08-15T17:04:09.543Z"
   },
   {
    "duration": 131,
    "start_time": "2022-08-15T17:04:30.562Z"
   },
   {
    "duration": 47,
    "start_time": "2022-08-15T17:04:36.621Z"
   },
   {
    "duration": 22,
    "start_time": "2022-08-15T17:05:01.279Z"
   },
   {
    "duration": 24,
    "start_time": "2022-08-15T17:07:54.483Z"
   },
   {
    "duration": 21,
    "start_time": "2022-08-15T17:12:16.898Z"
   },
   {
    "duration": 19,
    "start_time": "2022-08-15T17:12:31.224Z"
   },
   {
    "duration": 20,
    "start_time": "2022-08-15T17:14:31.291Z"
   },
   {
    "duration": 21,
    "start_time": "2022-08-15T17:15:09.112Z"
   },
   {
    "duration": 21,
    "start_time": "2022-08-15T18:45:09.380Z"
   },
   {
    "duration": 22,
    "start_time": "2022-08-15T18:45:29.161Z"
   },
   {
    "duration": 21,
    "start_time": "2022-08-15T18:45:41.890Z"
   },
   {
    "duration": 21,
    "start_time": "2022-08-15T18:45:46.270Z"
   },
   {
    "duration": 56,
    "start_time": "2022-08-15T18:46:04.477Z"
   },
   {
    "duration": 21,
    "start_time": "2022-08-15T18:46:09.835Z"
   },
   {
    "duration": 20,
    "start_time": "2022-08-15T18:49:56.487Z"
   },
   {
    "duration": 18,
    "start_time": "2022-08-15T18:50:52.520Z"
   },
   {
    "duration": 20,
    "start_time": "2022-08-15T18:51:41.210Z"
   },
   {
    "duration": 20,
    "start_time": "2022-08-15T20:03:11.126Z"
   },
   {
    "duration": 18,
    "start_time": "2022-08-15T20:03:20.061Z"
   },
   {
    "duration": 21,
    "start_time": "2022-08-15T20:03:54.217Z"
   },
   {
    "duration": 128,
    "start_time": "2022-08-15T20:10:50.961Z"
   },
   {
    "duration": 52,
    "start_time": "2022-08-15T20:11:12.745Z"
   },
   {
    "duration": 52,
    "start_time": "2022-08-15T20:11:52.494Z"
   },
   {
    "duration": 60,
    "start_time": "2022-08-15T20:14:18.618Z"
   },
   {
    "duration": 18,
    "start_time": "2022-08-15T20:19:37.262Z"
   },
   {
    "duration": 63,
    "start_time": "2022-08-15T20:28:59.062Z"
   },
   {
    "duration": 12,
    "start_time": "2022-08-15T20:28:59.127Z"
   },
   {
    "duration": 14,
    "start_time": "2022-08-15T20:28:59.141Z"
   },
   {
    "duration": 7,
    "start_time": "2022-08-15T20:28:59.157Z"
   },
   {
    "duration": 38,
    "start_time": "2022-08-15T20:28:59.165Z"
   },
   {
    "duration": 2,
    "start_time": "2022-08-15T20:28:59.205Z"
   },
   {
    "duration": 8,
    "start_time": "2022-08-15T20:28:59.209Z"
   },
   {
    "duration": 4,
    "start_time": "2022-08-15T20:28:59.218Z"
   },
   {
    "duration": 4,
    "start_time": "2022-08-15T20:28:59.224Z"
   },
   {
    "duration": 3,
    "start_time": "2022-08-15T20:28:59.230Z"
   },
   {
    "duration": 27,
    "start_time": "2022-08-15T20:28:59.235Z"
   },
   {
    "duration": 43,
    "start_time": "2022-08-15T20:28:59.263Z"
   },
   {
    "duration": 3,
    "start_time": "2022-08-15T20:28:59.307Z"
   },
   {
    "duration": 14,
    "start_time": "2022-08-15T20:28:59.311Z"
   },
   {
    "duration": 17,
    "start_time": "2022-08-15T20:28:59.326Z"
   },
   {
    "duration": 16,
    "start_time": "2022-08-15T20:28:59.344Z"
   },
   {
    "duration": 3,
    "start_time": "2022-08-15T20:28:59.361Z"
   },
   {
    "duration": 13,
    "start_time": "2022-08-15T20:28:59.365Z"
   },
   {
    "duration": 20,
    "start_time": "2022-08-15T20:28:59.379Z"
   },
   {
    "duration": 3,
    "start_time": "2022-08-15T20:28:59.400Z"
   },
   {
    "duration": 9,
    "start_time": "2022-08-15T20:28:59.404Z"
   },
   {
    "duration": 45,
    "start_time": "2022-08-15T20:28:59.414Z"
   },
   {
    "duration": 0,
    "start_time": "2022-08-15T20:28:59.461Z"
   },
   {
    "duration": 0,
    "start_time": "2022-08-15T20:28:59.462Z"
   },
   {
    "duration": 0,
    "start_time": "2022-08-15T20:28:59.463Z"
   },
   {
    "duration": 19,
    "start_time": "2022-08-15T20:29:27.411Z"
   },
   {
    "duration": 58,
    "start_time": "2022-08-15T20:31:14.171Z"
   },
   {
    "duration": 668,
    "start_time": "2022-08-16T07:08:14.972Z"
   },
   {
    "duration": 20,
    "start_time": "2022-08-16T07:08:15.642Z"
   },
   {
    "duration": 13,
    "start_time": "2022-08-16T07:08:15.664Z"
   },
   {
    "duration": 8,
    "start_time": "2022-08-16T07:08:15.679Z"
   },
   {
    "duration": 45,
    "start_time": "2022-08-16T07:08:15.690Z"
   },
   {
    "duration": 2,
    "start_time": "2022-08-16T07:08:15.737Z"
   },
   {
    "duration": 14,
    "start_time": "2022-08-16T07:08:15.741Z"
   },
   {
    "duration": 9,
    "start_time": "2022-08-16T07:08:15.757Z"
   },
   {
    "duration": 14,
    "start_time": "2022-08-16T07:08:15.767Z"
   },
   {
    "duration": 4,
    "start_time": "2022-08-16T07:08:15.783Z"
   },
   {
    "duration": 44,
    "start_time": "2022-08-16T07:08:15.789Z"
   },
   {
    "duration": 9,
    "start_time": "2022-08-16T07:08:15.834Z"
   },
   {
    "duration": 4,
    "start_time": "2022-08-16T07:08:15.845Z"
   },
   {
    "duration": 19,
    "start_time": "2022-08-16T07:08:15.852Z"
   },
   {
    "duration": 20,
    "start_time": "2022-08-16T07:08:15.873Z"
   },
   {
    "duration": 25,
    "start_time": "2022-08-16T07:08:15.894Z"
   },
   {
    "duration": 3,
    "start_time": "2022-08-16T07:08:15.921Z"
   },
   {
    "duration": 11,
    "start_time": "2022-08-16T07:08:15.925Z"
   },
   {
    "duration": 6,
    "start_time": "2022-08-16T07:08:15.938Z"
   },
   {
    "duration": 4,
    "start_time": "2022-08-16T07:08:15.946Z"
   },
   {
    "duration": 17,
    "start_time": "2022-08-16T07:08:15.952Z"
   },
   {
    "duration": 49,
    "start_time": "2022-08-16T07:08:15.971Z"
   },
   {
    "duration": 20,
    "start_time": "2022-08-16T07:08:16.021Z"
   },
   {
    "duration": 17,
    "start_time": "2022-08-16T07:08:16.042Z"
   },
   {
    "duration": 18,
    "start_time": "2022-08-16T07:08:16.061Z"
   },
   {
    "duration": 404,
    "start_time": "2022-08-16T07:11:08.879Z"
   },
   {
    "duration": 70,
    "start_time": "2022-08-16T07:11:22.319Z"
   },
   {
    "duration": 6,
    "start_time": "2022-08-16T07:12:10.901Z"
   },
   {
    "duration": 10,
    "start_time": "2022-08-16T07:12:16.322Z"
   },
   {
    "duration": 6,
    "start_time": "2022-08-16T07:12:17.940Z"
   },
   {
    "duration": 7,
    "start_time": "2022-08-16T07:12:22.484Z"
   },
   {
    "duration": 48,
    "start_time": "2022-08-19T21:09:30.946Z"
   },
   {
    "duration": 715,
    "start_time": "2022-08-19T21:09:34.218Z"
   },
   {
    "duration": 24,
    "start_time": "2022-08-19T21:09:34.935Z"
   },
   {
    "duration": 11,
    "start_time": "2022-08-19T21:09:34.961Z"
   },
   {
    "duration": 10,
    "start_time": "2022-08-19T21:09:34.973Z"
   },
   {
    "duration": 37,
    "start_time": "2022-08-19T21:09:35.396Z"
   },
   {
    "duration": 33,
    "start_time": "2022-08-19T21:09:53.419Z"
   },
   {
    "duration": 35,
    "start_time": "2022-08-19T21:09:58.522Z"
   },
   {
    "duration": 448,
    "start_time": "2022-08-19T21:10:10.866Z"
   },
   {
    "duration": 19,
    "start_time": "2022-08-19T21:10:11.316Z"
   },
   {
    "duration": 14,
    "start_time": "2022-08-19T21:10:11.337Z"
   },
   {
    "duration": 7,
    "start_time": "2022-08-19T21:10:11.353Z"
   },
   {
    "duration": 64,
    "start_time": "2022-08-19T21:10:11.362Z"
   },
   {
    "duration": 3,
    "start_time": "2022-08-19T21:10:11.428Z"
   },
   {
    "duration": 10,
    "start_time": "2022-08-19T21:10:11.432Z"
   },
   {
    "duration": 6,
    "start_time": "2022-08-19T21:10:11.443Z"
   },
   {
    "duration": 8,
    "start_time": "2022-08-19T21:10:11.450Z"
   },
   {
    "duration": 4,
    "start_time": "2022-08-19T21:10:11.460Z"
   },
   {
    "duration": 52,
    "start_time": "2022-08-19T21:10:11.465Z"
   },
   {
    "duration": 9,
    "start_time": "2022-08-19T21:10:11.519Z"
   },
   {
    "duration": 4,
    "start_time": "2022-08-19T21:10:11.529Z"
   },
   {
    "duration": 11,
    "start_time": "2022-08-19T21:10:11.534Z"
   },
   {
    "duration": 21,
    "start_time": "2022-08-19T21:10:11.547Z"
   },
   {
    "duration": 33,
    "start_time": "2022-08-19T21:10:11.569Z"
   },
   {
    "duration": 4,
    "start_time": "2022-08-19T21:10:11.603Z"
   },
   {
    "duration": 10,
    "start_time": "2022-08-19T21:10:11.609Z"
   },
   {
    "duration": 7,
    "start_time": "2022-08-19T21:10:11.620Z"
   },
   {
    "duration": 3,
    "start_time": "2022-08-19T21:10:11.628Z"
   },
   {
    "duration": 15,
    "start_time": "2022-08-19T21:10:11.633Z"
   },
   {
    "duration": 51,
    "start_time": "2022-08-19T21:10:11.650Z"
   },
   {
    "duration": 22,
    "start_time": "2022-08-19T21:10:11.703Z"
   },
   {
    "duration": 18,
    "start_time": "2022-08-19T21:10:11.727Z"
   },
   {
    "duration": 51,
    "start_time": "2022-08-19T21:10:11.747Z"
   }
  ],
  "colab": {
   "name": "dpp_template_part2.ipynb",
   "provenance": []
  },
  "kernelspec": {
   "display_name": "Python 3 (ipykernel)",
   "language": "python",
   "name": "python3"
  },
  "language_info": {
   "codemirror_mode": {
    "name": "ipython",
    "version": 3
   },
   "file_extension": ".py",
   "mimetype": "text/x-python",
   "name": "python",
   "nbconvert_exporter": "python",
   "pygments_lexer": "ipython3",
   "version": "3.9.5"
  },
  "toc": {
   "base_numbering": 1,
   "nav_menu": {},
   "number_sections": true,
   "sideBar": true,
   "skip_h1_title": true,
   "title_cell": "Table of Contents",
   "title_sidebar": "Contents",
   "toc_cell": false,
   "toc_position": {},
   "toc_section_display": true,
   "toc_window_display": false
  }
 },
 "nbformat": 4,
 "nbformat_minor": 5
}
